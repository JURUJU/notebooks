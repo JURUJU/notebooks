{
 "cells": [
  {
   "cell_type": "markdown",
   "id": "apparent-champion",
   "metadata": {
    "toc": true
   },
   "source": [
    "<h1>Table of Contents<span class=\"tocSkip\"></span></h1>\n",
    "<div class=\"toc\"><ul class=\"toc-item\"><li><span><a href=\"#Creating-the-game-as-a-library\" data-toc-modified-id=\"Creating-the-game-as-a-library-1\"><span class=\"toc-item-num\">1&nbsp;&nbsp;</span>Creating the game as a library</a></span><ul class=\"toc-item\"><li><span><a href=\"#if-name-==-&quot;main&quot;:\" data-toc-modified-id=\"if-name-==-&quot;main&quot;:-1.1\"><span class=\"toc-item-num\">1.1&nbsp;&nbsp;</span>if <strong>name</strong> == \"<strong>main</strong>\":</a></span></li><li><span><a href=\"#import-the-game\" data-toc-modified-id=\"import-the-game-1.2\"><span class=\"toc-item-num\">1.2&nbsp;&nbsp;</span>import the game</a></span></li></ul></li><li><span><a href=\"#Random-events-for-games\" data-toc-modified-id=\"Random-events-for-games-2\"><span class=\"toc-item-num\">2&nbsp;&nbsp;</span>Random events for games</a></span><ul class=\"toc-item\"><li><span><a href=\"#Creating-a-card-game\" data-toc-modified-id=\"Creating-a-card-game-2.1\"><span class=\"toc-item-num\">2.1&nbsp;&nbsp;</span>Creating a card game</a></span><ul class=\"toc-item\"><li><span><a href=\"#Deal-simulation\" data-toc-modified-id=\"Deal-simulation-2.1.1\"><span class=\"toc-item-num\">2.1.1&nbsp;&nbsp;</span>Deal simulation</a></span></li></ul></li></ul></li></ul></div>"
   ]
  },
  {
   "cell_type": "markdown",
   "id": "saved-doubt",
   "metadata": {},
   "source": [
    "# Creating the game as a library"
   ]
  },
  {
   "cell_type": "markdown",
   "id": "divine-gibson",
   "metadata": {},
   "source": [
    "## if __name__ == \"__main__\":"
   ]
  },
  {
   "cell_type": "raw",
   "id": "placed-warehouse",
   "metadata": {},
   "source": [
    "from random import randrange\n",
    "\n",
    "class Juego():\n",
    "\n",
    "    def __init__(self):\n",
    "        pass\n",
    "\n",
    "    def run(self):\n",
    "        c=0\n",
    "        while True:\n",
    "            n=randrange(1,101)\n",
    "            a = eval(input(\"Take a guess: \"))\n",
    "            c+=1\n",
    "            if (a>n):\n",
    "                print(\"Lower...\")\n",
    "            elif(a<n):\n",
    "                print(\"Higher...\")\n",
    "            else:\n",
    "                print(\"You guessed it!\")\n",
    "                print(\"and it only took you {} attempt(s)\".format(c))\n",
    "                break\n",
    "\n",
    "def main():\n",
    "    print(\"Welcome to 'Guess My Number'!\")\n",
    "    print(\"I'm thinking of a number between and 100\")\n",
    "    print(\"Try to guess it in as few attemps as possible\")\n",
    "    Juego().run()\n",
    "\n",
    "if __name__ == \"__main__\":\n",
    "    main()"
   ]
  },
  {
   "cell_type": "markdown",
   "id": "outside-consent",
   "metadata": {},
   "source": [
    "## import the game"
   ]
  },
  {
   "cell_type": "code",
   "execution_count": 1,
   "id": "executed-firmware",
   "metadata": {},
   "outputs": [],
   "source": [
    "from my_game_library import Juego"
   ]
  },
  {
   "cell_type": "code",
   "execution_count": 2,
   "id": "fresh-pepper",
   "metadata": {},
   "outputs": [],
   "source": [
    "partida = Juego()"
   ]
  },
  {
   "cell_type": "code",
   "execution_count": 3,
   "id": "harmful-still",
   "metadata": {},
   "outputs": [
    {
     "name": "stdout",
     "output_type": "stream",
     "text": [
      "Como te llamas? Alberto\n",
      "Hola, Alberto\n"
     ]
    }
   ],
   "source": [
    "partida.run()"
   ]
  },
  {
   "cell_type": "markdown",
   "id": "breeding-financing",
   "metadata": {},
   "source": [
    "# Random events for games"
   ]
  },
  {
   "cell_type": "code",
   "execution_count": 4,
   "id": "ahead-interview",
   "metadata": {},
   "outputs": [],
   "source": [
    "import random"
   ]
  },
  {
   "cell_type": "code",
   "execution_count": 6,
   "id": "white-juice",
   "metadata": {},
   "outputs": [
    {
     "data": {
      "text/plain": [
       "[1, 1, 4, 7]"
      ]
     },
     "execution_count": 6,
     "metadata": {},
     "output_type": "execute_result"
    }
   ],
   "source": [
    "[random.randrange(1,10) for _ in range(4)]"
   ]
  },
  {
   "cell_type": "code",
   "execution_count": 7,
   "id": "front-finland",
   "metadata": {},
   "outputs": [],
   "source": [
    "lista = list(range(10))"
   ]
  },
  {
   "cell_type": "code",
   "execution_count": 8,
   "id": "relative-anderson",
   "metadata": {},
   "outputs": [
    {
     "data": {
      "text/plain": [
       "[0, 1, 2, 3, 4, 5, 6, 7, 8, 9]"
      ]
     },
     "execution_count": 8,
     "metadata": {},
     "output_type": "execute_result"
    }
   ],
   "source": [
    "lista"
   ]
  },
  {
   "cell_type": "code",
   "execution_count": 51,
   "id": "extensive-volunteer",
   "metadata": {},
   "outputs": [
    {
     "data": {
      "text/plain": [
       "[2, 7, 2, 3]"
      ]
     },
     "execution_count": 51,
     "metadata": {},
     "output_type": "execute_result"
    }
   ],
   "source": [
    "random.choices(lista, k=4)"
   ]
  },
  {
   "cell_type": "code",
   "execution_count": 49,
   "id": "proprietary-lobby",
   "metadata": {},
   "outputs": [
    {
     "data": {
      "text/plain": [
       "[9, 3, 1, 8]"
      ]
     },
     "execution_count": 49,
     "metadata": {},
     "output_type": "execute_result"
    }
   ],
   "source": [
    "random.sample(lista, 4)"
   ]
  },
  {
   "cell_type": "code",
   "execution_count": 52,
   "id": "indonesian-seeker",
   "metadata": {},
   "outputs": [
    {
     "data": {
      "text/plain": [
       "[1, 9, 4, 5, 7, 6, 2, 3, 8]"
      ]
     },
     "execution_count": 52,
     "metadata": {},
     "output_type": "execute_result"
    }
   ],
   "source": [
    "random.shuffle(lista)\n",
    "lista"
   ]
  },
  {
   "cell_type": "code",
   "execution_count": 18,
   "id": "anonymous-blend",
   "metadata": {},
   "outputs": [
    {
     "data": {
      "text/plain": [
       "0"
      ]
     },
     "execution_count": 18,
     "metadata": {},
     "output_type": "execute_result"
    }
   ],
   "source": [
    "lista.pop()"
   ]
  },
  {
   "cell_type": "code",
   "execution_count": 19,
   "id": "happy-setting",
   "metadata": {},
   "outputs": [
    {
     "data": {
      "text/plain": [
       "[6, 7, 8, 5, 9, 1, 2, 4, 3]"
      ]
     },
     "execution_count": 19,
     "metadata": {},
     "output_type": "execute_result"
    }
   ],
   "source": [
    "lista"
   ]
  },
  {
   "cell_type": "markdown",
   "id": "satisfactory-night",
   "metadata": {},
   "source": [
    "## Creating a card game"
   ]
  },
  {
   "cell_type": "code",
   "execution_count": 21,
   "id": "vocational-kinase",
   "metadata": {},
   "outputs": [],
   "source": [
    "spade = \"♠\"\n",
    "heart = \"♥\"\n",
    "diamond = \"♦\"\n",
    "club = \"♣\""
   ]
  },
  {
   "cell_type": "code",
   "execution_count": 25,
   "id": "outer-omega",
   "metadata": {},
   "outputs": [],
   "source": [
    "suits = [spade, heart, diamond, club]\n",
    "numbers = [ str(i) for i in range(2,11)] + ['J', 'Q', 'K', 'A']"
   ]
  },
  {
   "cell_type": "markdown",
   "id": "roman-seating",
   "metadata": {},
   "source": [
    "### Deal simulation"
   ]
  },
  {
   "cell_type": "code",
   "execution_count": 43,
   "id": "intense-annotation",
   "metadata": {},
   "outputs": [],
   "source": [
    "num_jugadores = 4\n",
    "num_cards = 5\n",
    "baraja = [(number, suit) for suit, number in zip(suits*len(numbers), numbers*len(suits))]\n",
    "random.shuffle(baraja)\n",
    "\n",
    "mano = {}\n",
    "\n",
    "for j in range(num_jugadores):\n",
    "    mano[j] = []\n",
    "    for c in range(num_cards):\n",
    "        mano[j].append(baraja.pop())\n"
   ]
  },
  {
   "cell_type": "code",
   "execution_count": 44,
   "id": "collective-boulder",
   "metadata": {},
   "outputs": [
    {
     "data": {
      "text/plain": [
       "{0: [('7', '♣'), ('5', '♥'), ('4', '♣'), ('7', '♦'), ('9', '♠')],\n",
       " 1: [('Q', '♦'), ('J', '♠'), ('K', '♠'), ('10', '♥'), ('K', '♦')],\n",
       " 2: [('A', '♠'), ('Q', '♠'), ('3', '♥'), ('2', '♥'), ('8', '♠')],\n",
       " 3: [('9', '♥'), ('7', '♠'), ('2', '♦'), ('2', '♠'), ('8', '♣')]}"
      ]
     },
     "execution_count": 44,
     "metadata": {},
     "output_type": "execute_result"
    }
   ],
   "source": [
    "mano"
   ]
  },
  {
   "cell_type": "code",
   "execution_count": null,
   "id": "historical-nancy",
   "metadata": {},
   "outputs": [],
   "source": []
  },
  {
   "cell_type": "code",
   "execution_count": null,
   "id": "optimum-consultancy",
   "metadata": {},
   "outputs": [],
   "source": []
  }
 ],
 "metadata": {
  "kernelspec": {
   "display_name": "Ironhack",
   "language": "python",
   "name": "ironhack"
  },
  "language_info": {
   "codemirror_mode": {
    "name": "ipython",
    "version": 3
   },
   "file_extension": ".py",
   "mimetype": "text/x-python",
   "name": "python",
   "nbconvert_exporter": "python",
   "pygments_lexer": "ipython3",
   "version": "3.7.5"
  },
  "toc": {
   "base_numbering": 1,
   "nav_menu": {},
   "number_sections": true,
   "sideBar": true,
   "skip_h1_title": false,
   "title_cell": "Table of Contents",
   "title_sidebar": "Contents",
   "toc_cell": true,
   "toc_position": {},
   "toc_section_display": true,
   "toc_window_display": false
  },
  "varInspector": {
   "cols": {
    "lenName": 16,
    "lenType": 16,
    "lenVar": 40
   },
   "kernels_config": {
    "python": {
     "delete_cmd_postfix": "",
     "delete_cmd_prefix": "del ",
     "library": "var_list.py",
     "varRefreshCmd": "print(var_dic_list())"
    },
    "r": {
     "delete_cmd_postfix": ") ",
     "delete_cmd_prefix": "rm(",
     "library": "var_list.r",
     "varRefreshCmd": "cat(var_dic_list()) "
    }
   },
   "types_to_exclude": [
    "module",
    "function",
    "builtin_function_or_method",
    "instance",
    "_Feature"
   ],
   "window_display": false
  }
 },
 "nbformat": 4,
 "nbformat_minor": 5
}
