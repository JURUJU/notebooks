{
 "cells": [
  {
   "cell_type": "markdown",
   "metadata": {
    "toc": true
   },
   "source": [
    "<h1>Table of Contents<span class=\"tocSkip\"></span></h1>\n",
    "<div class=\"toc\"><ul class=\"toc-item\"><li><span><a href=\"#SQL-Murder-Mystery\" data-toc-modified-id=\"SQL-Murder-Mystery-1\"><span class=\"toc-item-num\">1&nbsp;&nbsp;</span>SQL Murder Mystery</a></span></li><li><span><a href=\"#Start-exploring-the-database\" data-toc-modified-id=\"Start-exploring-the-database-2\"><span class=\"toc-item-num\">2&nbsp;&nbsp;</span>Start exploring the database</a></span><ul class=\"toc-item\"><li><span><a href=\"#Did-you-find-the-murderer?\" data-toc-modified-id=\"Did-you-find-the-murderer?-2.1\"><span class=\"toc-item-num\">2.1&nbsp;&nbsp;</span>Did you find the murderer?</a></span></li></ul></li></ul></div>"
   ]
  },
  {
   "cell_type": "markdown",
   "metadata": {},
   "source": [
    "# SQL Murder Mystery\n",
    "\n",
    "A crime has taken place and the detective needs your help. The detective gave you the\n",
    "crime scene report, but you somehow lost it. You vaguely remember that the crime\n",
    "was a **murder** that occurred sometime on **Jan.15, 2018** and that it took place in **SQL\n",
    "City** . All the clues to this mystery are buried in a huge  [database](https://raw.githubusercontent.com/NUKnightLab/sql-mysteries/master/sql-murder-mystery.db), and you need to use\n",
    "SQL to navigate through this vast network of information. Your first step to solving the\n",
    "mystery is to retrieve the corresponding **crime scene report** from the police\n",
    "department’s [database](https://raw.githubusercontent.com/NUKnightLab/sql-mysteries/master/sql-murder-mystery.db). "
   ]
  },
  {
   "cell_type": "markdown",
   "metadata": {},
   "source": [
    "![Solve the mistery](https://raw.githubusercontent.com/NUKnightLab/sql-mysteries/master/174092-clue-illustration.png)"
   ]
  },
  {
   "cell_type": "markdown",
   "metadata": {},
   "source": [
    "# Start exploring the database"
   ]
  },
  {
   "cell_type": "code",
   "execution_count": null,
   "metadata": {},
   "outputs": [],
   "source": []
  },
  {
   "cell_type": "code",
   "execution_count": null,
   "metadata": {},
   "outputs": [],
   "source": []
  },
  {
   "cell_type": "markdown",
   "metadata": {},
   "source": [
    "## Did you find the murderer?\n",
    "\n",
    "Write the following queries in your SQL environment to check whether you've found the right murderer:\n",
    "\n",
    "`INSERT INTO solution VALUES (1, 'Insert the name of the person you found here');`\n",
    "        \n",
    "`SELECT value FROM solution;`"
   ]
  },
  {
   "cell_type": "code",
   "execution_count": null,
   "metadata": {},
   "outputs": [],
   "source": []
  }
 ],
 "metadata": {
  "kernelspec": {
   "display_name": "Ironhack",
   "language": "python",
   "name": "ironhack"
  },
  "language_info": {
   "codemirror_mode": {
    "name": "ipython",
    "version": 3
   },
   "file_extension": ".py",
   "mimetype": "text/x-python",
   "name": "python",
   "nbconvert_exporter": "python",
   "pygments_lexer": "ipython3",
   "version": "3.7.5"
  },
  "toc": {
   "base_numbering": 1,
   "nav_menu": {},
   "number_sections": true,
   "sideBar": true,
   "skip_h1_title": false,
   "title_cell": "Table of Contents",
   "title_sidebar": "Contents",
   "toc_cell": true,
   "toc_position": {},
   "toc_section_display": true,
   "toc_window_display": false
  },
  "varInspector": {
   "cols": {
    "lenName": 16,
    "lenType": 16,
    "lenVar": 40
   },
   "kernels_config": {
    "python": {
     "delete_cmd_postfix": "",
     "delete_cmd_prefix": "del ",
     "library": "var_list.py",
     "varRefreshCmd": "print(var_dic_list())"
    },
    "r": {
     "delete_cmd_postfix": ") ",
     "delete_cmd_prefix": "rm(",
     "library": "var_list.r",
     "varRefreshCmd": "cat(var_dic_list()) "
    }
   },
   "types_to_exclude": [
    "module",
    "function",
    "builtin_function_or_method",
    "instance",
    "_Feature"
   ],
   "window_display": false
  }
 },
 "nbformat": 4,
 "nbformat_minor": 4
}
