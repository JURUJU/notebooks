{
 "cells": [
  {
   "cell_type": "markdown",
   "id": "sustainable-terror",
   "metadata": {
    "toc": true
   },
   "source": [
    "<h1>Table of Contents<span class=\"tocSkip\"></span></h1>\n",
    "<div class=\"toc\"><ul class=\"toc-item\"></ul></div>"
   ]
  },
  {
   "cell_type": "code",
   "execution_count": 2,
   "id": "least-chrome",
   "metadata": {},
   "outputs": [],
   "source": [
    "import requests"
   ]
  },
  {
   "cell_type": "code",
   "execution_count": 1,
   "id": "joint-youth",
   "metadata": {},
   "outputs": [],
   "source": [
    "from bs4 import BeautifulSoup"
   ]
  },
  {
   "cell_type": "code",
   "execution_count": 3,
   "id": "mediterranean-mother",
   "metadata": {},
   "outputs": [],
   "source": [
    "url = 'http://ethans_fake_twitter_site.surge.sh/'"
   ]
  },
  {
   "cell_type": "code",
   "execution_count": 5,
   "id": "hundred-recovery",
   "metadata": {},
   "outputs": [],
   "source": [
    "resp = requests.get(url)"
   ]
  },
  {
   "cell_type": "code",
   "execution_count": 6,
   "id": "tracked-abraham",
   "metadata": {},
   "outputs": [
    {
     "data": {
      "text/plain": [
       "200"
      ]
     },
     "execution_count": 6,
     "metadata": {},
     "output_type": "execute_result"
    }
   ],
   "source": [
    "resp.status_code"
   ]
  },
  {
   "cell_type": "code",
   "execution_count": 8,
   "id": "worldwide-annotation",
   "metadata": {},
   "outputs": [],
   "source": [
    "html = resp.text"
   ]
  },
  {
   "cell_type": "code",
   "execution_count": 10,
   "id": "advised-yemen",
   "metadata": {},
   "outputs": [],
   "source": [
    "soup = BeautifulSoup(html, \"html.parser\")"
   ]
  },
  {
   "cell_type": "code",
   "execution_count": 12,
   "id": "specified-drama",
   "metadata": {},
   "outputs": [
    {
     "data": {
      "text/plain": [
       "bs4.BeautifulSoup"
      ]
     },
     "execution_count": 12,
     "metadata": {},
     "output_type": "execute_result"
    }
   ],
   "source": [
    "type(soup)"
   ]
  },
  {
   "cell_type": "code",
   "execution_count": null,
   "id": "blank-bahrain",
   "metadata": {},
   "outputs": [],
   "source": []
  },
  {
   "cell_type": "code",
   "execution_count": 14,
   "id": "nonprofit-schedule",
   "metadata": {},
   "outputs": [],
   "source": [
    "tweets = soup.findAll('div', attrs={\"class\":\"tweetcontainer\"})"
   ]
  },
  {
   "cell_type": "code",
   "execution_count": 19,
   "id": "pleasant-packet",
   "metadata": {},
   "outputs": [],
   "source": [
    "tweet = tweets[0]"
   ]
  },
  {
   "cell_type": "code",
   "execution_count": 24,
   "id": "boolean-soccer",
   "metadata": {},
   "outputs": [
    {
     "data": {
      "text/plain": [
       "'jimmyfallon'"
      ]
     },
     "execution_count": 24,
     "metadata": {},
     "output_type": "execute_result"
    }
   ],
   "source": [
    "tweet.find('h2', attrs={'class':'author'}).text"
   ]
  },
  {
   "cell_type": "code",
   "execution_count": 25,
   "id": "plain-samba",
   "metadata": {},
   "outputs": [
    {
     "data": {
      "text/plain": [
       "'Tonight: @MichaelKeaton, @ninadobrev, music from @The_xx, and more! #FallonTonight'"
      ]
     },
     "execution_count": 25,
     "metadata": {},
     "output_type": "execute_result"
    }
   ],
   "source": [
    "tweet.find('p', attrs={'class':'content'}).text"
   ]
  },
  {
   "cell_type": "code",
   "execution_count": 26,
   "id": "mental-audio",
   "metadata": {},
   "outputs": [
    {
     "data": {
      "text/plain": [
       "'17/01/2017 13:47'"
      ]
     },
     "execution_count": 26,
     "metadata": {},
     "output_type": "execute_result"
    }
   ],
   "source": [
    "tweet.find('h5', attrs={'class':'dateTime'}).text"
   ]
  },
  {
   "cell_type": "code",
   "execution_count": 35,
   "id": "seventh-newcastle",
   "metadata": {},
   "outputs": [
    {
     "data": {
      "text/plain": [
       "184"
      ]
     },
     "execution_count": 35,
     "metadata": {},
     "output_type": "execute_result"
    }
   ],
   "source": [
    "int(tweet.find('p', attrs={'class':'likes'}).text.replace('Likes  ',''))"
   ]
  },
  {
   "cell_type": "code",
   "execution_count": 41,
   "id": "wanted-omega",
   "metadata": {},
   "outputs": [],
   "source": [
    "tweets_dict = [{'autor':tweet.find('h2', attrs={'class':'author'}).text,\n",
    "  'texto':tweet.find('p', attrs={'class':'content'}).text,\n",
    "  'likes':int(tweet.find('p', attrs={'class':'likes'}).text.replace('Likes  ','')),\n",
    "  'fecha':tweet.find('h5', attrs={'class':'dateTime'}).text\n",
    "} for tweet in tweets ]"
   ]
  },
  {
   "cell_type": "code",
   "execution_count": 38,
   "id": "metropolitan-limit",
   "metadata": {},
   "outputs": [],
   "source": [
    "import pandas as pd"
   ]
  },
  {
   "cell_type": "code",
   "execution_count": 40,
   "id": "overall-inflation",
   "metadata": {},
   "outputs": [
    {
     "data": {
      "text/html": [
       "<div>\n",
       "<style scoped>\n",
       "    .dataframe tbody tr th:only-of-type {\n",
       "        vertical-align: middle;\n",
       "    }\n",
       "\n",
       "    .dataframe tbody tr th {\n",
       "        vertical-align: top;\n",
       "    }\n",
       "\n",
       "    .dataframe thead th {\n",
       "        text-align: right;\n",
       "    }\n",
       "</style>\n",
       "<table border=\"1\" class=\"dataframe\">\n",
       "  <thead>\n",
       "    <tr style=\"text-align: right;\">\n",
       "      <th></th>\n",
       "      <th>autor</th>\n",
       "      <th>texto</th>\n",
       "      <th>likes</th>\n",
       "      <th>fecha</th>\n",
       "    </tr>\n",
       "  </thead>\n",
       "  <tbody>\n",
       "    <tr>\n",
       "      <th>0</th>\n",
       "      <td>jimmyfallon</td>\n",
       "      <td>Tonight: @MichaelKeaton, @ninadobrev, music fr...</td>\n",
       "      <td>184</td>\n",
       "      <td>17/01/2017 13:47</td>\n",
       "    </tr>\n",
       "    <tr>\n",
       "      <th>1</th>\n",
       "      <td>jimmyfallon</td>\n",
       "      <td>.@michaelstrahan and @BryceDHoward take on @qu...</td>\n",
       "      <td>402</td>\n",
       "      <td>17/01/2017 12:55</td>\n",
       "    </tr>\n",
       "    <tr>\n",
       "      <th>2</th>\n",
       "      <td>jimmyfallon</td>\n",
       "      <td>Tonight on the show: @michaelstrahan and Bryce...</td>\n",
       "      <td>1886</td>\n",
       "      <td>16/01/2017 14:10</td>\n",
       "    </tr>\n",
       "    <tr>\n",
       "      <th>3</th>\n",
       "      <td>jimmyfallon</td>\n",
       "      <td>Can't believe we were just in LA a few days ag...</td>\n",
       "      <td>8731</td>\n",
       "      <td>13/01/2017 23:23</td>\n",
       "    </tr>\n",
       "    <tr>\n",
       "      <th>4</th>\n",
       "      <td>jimmyfallon</td>\n",
       "      <td>Rumors circulating that @TheKinks actually own...</td>\n",
       "      <td>1253</td>\n",
       "      <td>13/01/2017 17:40</td>\n",
       "    </tr>\n",
       "    <tr>\n",
       "      <th>...</th>\n",
       "      <td>...</td>\n",
       "      <td>...</td>\n",
       "      <td>...</td>\n",
       "      <td>...</td>\n",
       "    </tr>\n",
       "    <tr>\n",
       "      <th>3118</th>\n",
       "      <td>jimmyfallon</td>\n",
       "      <td>Special hashtag game! Steve Buscemi’s on the s...</td>\n",
       "      <td>208</td>\n",
       "      <td>04/09/2013 18:56</td>\n",
       "    </tr>\n",
       "    <tr>\n",
       "      <th>3119</th>\n",
       "      <td>jimmyfallon</td>\n",
       "      <td>Fun show tonight. @heidiklum, Mayor @CoryBooke...</td>\n",
       "      <td>149</td>\n",
       "      <td>04/09/2013 16:30</td>\n",
       "    </tr>\n",
       "    <tr>\n",
       "      <th>3120</th>\n",
       "      <td>jimmyfallon</td>\n",
       "      <td>Mark Zuckerberg has launched a new project to ...</td>\n",
       "      <td>881</td>\n",
       "      <td>03/09/2013 23:55</td>\n",
       "    </tr>\n",
       "    <tr>\n",
       "      <th>3121</th>\n",
       "      <td>jimmyfallon</td>\n",
       "      <td>Tonight, for our first show back, we've got @m...</td>\n",
       "      <td>530</td>\n",
       "      <td>03/09/2013 20:14</td>\n",
       "    </tr>\n",
       "    <tr>\n",
       "      <th>3122</th>\n",
       "      <td>jimmyfallon</td>\n",
       "      <td>We are back with a brand new Late Night tonigh...</td>\n",
       "      <td>763</td>\n",
       "      <td>03/09/2013 14:12</td>\n",
       "    </tr>\n",
       "  </tbody>\n",
       "</table>\n",
       "<p>3123 rows × 4 columns</p>\n",
       "</div>"
      ],
      "text/plain": [
       "            autor                                              texto  likes  \\\n",
       "0     jimmyfallon  Tonight: @MichaelKeaton, @ninadobrev, music fr...    184   \n",
       "1     jimmyfallon  .@michaelstrahan and @BryceDHoward take on @qu...    402   \n",
       "2     jimmyfallon  Tonight on the show: @michaelstrahan and Bryce...   1886   \n",
       "3     jimmyfallon  Can't believe we were just in LA a few days ag...   8731   \n",
       "4     jimmyfallon  Rumors circulating that @TheKinks actually own...   1253   \n",
       "...           ...                                                ...    ...   \n",
       "3118  jimmyfallon  Special hashtag game! Steve Buscemi’s on the s...    208   \n",
       "3119  jimmyfallon  Fun show tonight. @heidiklum, Mayor @CoryBooke...    149   \n",
       "3120  jimmyfallon  Mark Zuckerberg has launched a new project to ...    881   \n",
       "3121  jimmyfallon  Tonight, for our first show back, we've got @m...    530   \n",
       "3122  jimmyfallon  We are back with a brand new Late Night tonigh...    763   \n",
       "\n",
       "                 fecha  \n",
       "0     17/01/2017 13:47  \n",
       "1     17/01/2017 12:55  \n",
       "2     16/01/2017 14:10  \n",
       "3     13/01/2017 23:23  \n",
       "4     13/01/2017 17:40  \n",
       "...                ...  \n",
       "3118  04/09/2013 18:56  \n",
       "3119  04/09/2013 16:30  \n",
       "3120  03/09/2013 23:55  \n",
       "3121  03/09/2013 20:14  \n",
       "3122  03/09/2013 14:12  \n",
       "\n",
       "[3123 rows x 4 columns]"
      ]
     },
     "execution_count": 40,
     "metadata": {},
     "output_type": "execute_result"
    }
   ],
   "source": [
    "pd.DataFrame(twwets_dict)"
   ]
  },
  {
   "cell_type": "code",
   "execution_count": null,
   "id": "surface-skiing",
   "metadata": {},
   "outputs": [],
   "source": []
  }
 ],
 "metadata": {
  "kernelspec": {
   "display_name": "Ironhack",
   "language": "python",
   "name": "ironhack"
  },
  "language_info": {
   "codemirror_mode": {
    "name": "ipython",
    "version": 3
   },
   "file_extension": ".py",
   "mimetype": "text/x-python",
   "name": "python",
   "nbconvert_exporter": "python",
   "pygments_lexer": "ipython3",
   "version": "3.7.5"
  },
  "toc": {
   "base_numbering": 1,
   "nav_menu": {},
   "number_sections": true,
   "sideBar": true,
   "skip_h1_title": false,
   "title_cell": "Table of Contents",
   "title_sidebar": "Contents",
   "toc_cell": true,
   "toc_position": {},
   "toc_section_display": true,
   "toc_window_display": false
  },
  "varInspector": {
   "cols": {
    "lenName": 16,
    "lenType": 16,
    "lenVar": 40
   },
   "kernels_config": {
    "python": {
     "delete_cmd_postfix": "",
     "delete_cmd_prefix": "del ",
     "library": "var_list.py",
     "varRefreshCmd": "print(var_dic_list())"
    },
    "r": {
     "delete_cmd_postfix": ") ",
     "delete_cmd_prefix": "rm(",
     "library": "var_list.r",
     "varRefreshCmd": "cat(var_dic_list()) "
    }
   },
   "types_to_exclude": [
    "module",
    "function",
    "builtin_function_or_method",
    "instance",
    "_Feature"
   ],
   "window_display": false
  }
 },
 "nbformat": 4,
 "nbformat_minor": 5
}
