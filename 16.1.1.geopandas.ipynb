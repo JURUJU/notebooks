{
 "cells": [
  {
   "cell_type": "code",
   "execution_count": 1,
   "metadata": {
    "slideshow": {
     "slide_type": "slide"
    }
   },
   "outputs": [],
   "source": [
    "import pandas as pd\n",
    "import geopandas as gpd\n",
    "import matplotlib.pyplot as plt"
   ]
  },
  {
   "cell_type": "code",
   "execution_count": 26,
   "metadata": {},
   "outputs": [
    {
     "data": {
      "text/html": [
       "<div>\n",
       "<style scoped>\n",
       "    .dataframe tbody tr th:only-of-type {\n",
       "        vertical-align: middle;\n",
       "    }\n",
       "\n",
       "    .dataframe tbody tr th {\n",
       "        vertical-align: top;\n",
       "    }\n",
       "\n",
       "    .dataframe thead th {\n",
       "        text-align: right;\n",
       "    }\n",
       "</style>\n",
       "<table border=\"1\" class=\"dataframe\">\n",
       "  <thead>\n",
       "    <tr style=\"text-align: right;\">\n",
       "      <th></th>\n",
       "      <th>NAME_1</th>\n",
       "      <th>NAME_2</th>\n",
       "      <th>CC_2</th>\n",
       "      <th>geometry</th>\n",
       "    </tr>\n",
       "  </thead>\n",
       "  <tbody>\n",
       "    <tr>\n",
       "      <th>0</th>\n",
       "      <td>Andalucía</td>\n",
       "      <td>Almería</td>\n",
       "      <td>04</td>\n",
       "      <td>MULTIPOLYGON (((-3.03042 35.94236, -3.03042 35...</td>\n",
       "    </tr>\n",
       "    <tr>\n",
       "      <th>1</th>\n",
       "      <td>Andalucía</td>\n",
       "      <td>Cádiz</td>\n",
       "      <td>11</td>\n",
       "      <td>MULTIPOLYGON (((-6.21958 36.38110, -6.21958 36...</td>\n",
       "    </tr>\n",
       "    <tr>\n",
       "      <th>2</th>\n",
       "      <td>Andalucía</td>\n",
       "      <td>Córdoba</td>\n",
       "      <td>14</td>\n",
       "      <td>MULTIPOLYGON (((-5.04854 37.63690, -5.04667 37...</td>\n",
       "    </tr>\n",
       "    <tr>\n",
       "      <th>3</th>\n",
       "      <td>Andalucía</td>\n",
       "      <td>Granada</td>\n",
       "      <td>18</td>\n",
       "      <td>MULTIPOLYGON (((-3.35014 36.72952, -3.35014 36...</td>\n",
       "    </tr>\n",
       "    <tr>\n",
       "      <th>4</th>\n",
       "      <td>Andalucía</td>\n",
       "      <td>Huelva</td>\n",
       "      <td>21</td>\n",
       "      <td>MULTIPOLYGON (((-6.83648 37.11547, -6.83643 37...</td>\n",
       "    </tr>\n",
       "    <tr>\n",
       "      <th>5</th>\n",
       "      <td>Andalucía</td>\n",
       "      <td>Jaén</td>\n",
       "      <td>23</td>\n",
       "      <td>MULTIPOLYGON (((-3.00812 37.60799, -3.02137 37...</td>\n",
       "    </tr>\n",
       "    <tr>\n",
       "      <th>6</th>\n",
       "      <td>Andalucía</td>\n",
       "      <td>Málaga</td>\n",
       "      <td>29</td>\n",
       "      <td>MULTIPOLYGON (((-4.00083 36.73986, -4.00153 36...</td>\n",
       "    </tr>\n",
       "    <tr>\n",
       "      <th>7</th>\n",
       "      <td>Andalucía</td>\n",
       "      <td>Sevilla</td>\n",
       "      <td>41</td>\n",
       "      <td>MULTIPOLYGON (((-5.94118 36.85199, -5.95270 36...</td>\n",
       "    </tr>\n",
       "    <tr>\n",
       "      <th>8</th>\n",
       "      <td>Aragón</td>\n",
       "      <td>Huesca</td>\n",
       "      <td>22</td>\n",
       "      <td>MULTIPOLYGON (((0.34747 41.42733, 0.34187 41.4...</td>\n",
       "    </tr>\n",
       "    <tr>\n",
       "      <th>9</th>\n",
       "      <td>Aragón</td>\n",
       "      <td>Teruel</td>\n",
       "      <td>44</td>\n",
       "      <td>MULTIPOLYGON (((0.02648 40.69497, 0.02688 40.7...</td>\n",
       "    </tr>\n",
       "  </tbody>\n",
       "</table>\n",
       "</div>"
      ],
      "text/plain": [
       "      NAME_1   NAME_2 CC_2                                           geometry\n",
       "0  Andalucía  Almería   04  MULTIPOLYGON (((-3.03042 35.94236, -3.03042 35...\n",
       "1  Andalucía    Cádiz   11  MULTIPOLYGON (((-6.21958 36.38110, -6.21958 36...\n",
       "2  Andalucía  Córdoba   14  MULTIPOLYGON (((-5.04854 37.63690, -5.04667 37...\n",
       "3  Andalucía  Granada   18  MULTIPOLYGON (((-3.35014 36.72952, -3.35014 36...\n",
       "4  Andalucía   Huelva   21  MULTIPOLYGON (((-6.83648 37.11547, -6.83643 37...\n",
       "5  Andalucía     Jaén   23  MULTIPOLYGON (((-3.00812 37.60799, -3.02137 37...\n",
       "6  Andalucía   Málaga   29  MULTIPOLYGON (((-4.00083 36.73986, -4.00153 36...\n",
       "7  Andalucía  Sevilla   41  MULTIPOLYGON (((-5.94118 36.85199, -5.95270 36...\n",
       "8     Aragón   Huesca   22  MULTIPOLYGON (((0.34747 41.42733, 0.34187 41.4...\n",
       "9     Aragón   Teruel   44  MULTIPOLYGON (((0.02648 40.69497, 0.02688 40.7..."
      ]
     },
     "execution_count": 26,
     "metadata": {},
     "output_type": "execute_result"
    }
   ],
   "source": [
    "# Cargar el mapa\n",
    "mapa = gpd.read_file('data/provincias.geojson')\n",
    "mapa.head(10)"
   ]
  },
  {
   "cell_type": "code",
   "execution_count": null,
   "metadata": {},
   "outputs": [],
   "source": []
  },
  {
   "cell_type": "code",
   "execution_count": 28,
   "metadata": {},
   "outputs": [
    {
     "data": {
      "text/html": [
       "<div>\n",
       "<style scoped>\n",
       "    .dataframe tbody tr th:only-of-type {\n",
       "        vertical-align: middle;\n",
       "    }\n",
       "\n",
       "    .dataframe tbody tr th {\n",
       "        vertical-align: top;\n",
       "    }\n",
       "\n",
       "    .dataframe thead th {\n",
       "        text-align: right;\n",
       "    }\n",
       "</style>\n",
       "<table border=\"1\" class=\"dataframe\">\n",
       "  <thead>\n",
       "    <tr style=\"text-align: right;\">\n",
       "      <th></th>\n",
       "      <th>NAME</th>\n",
       "      <th>NATALIDAD</th>\n",
       "    </tr>\n",
       "  </thead>\n",
       "  <tbody>\n",
       "    <tr>\n",
       "      <th>0</th>\n",
       "      <td>Almería</td>\n",
       "      <td>10.48</td>\n",
       "    </tr>\n",
       "    <tr>\n",
       "      <th>1</th>\n",
       "      <td>Cádiz</td>\n",
       "      <td>8.11</td>\n",
       "    </tr>\n",
       "    <tr>\n",
       "      <th>2</th>\n",
       "      <td>Córdoba</td>\n",
       "      <td>7.90</td>\n",
       "    </tr>\n",
       "    <tr>\n",
       "      <th>3</th>\n",
       "      <td>Granada</td>\n",
       "      <td>7.78</td>\n",
       "    </tr>\n",
       "    <tr>\n",
       "      <th>4</th>\n",
       "      <td>Huelva</td>\n",
       "      <td>7.57</td>\n",
       "    </tr>\n",
       "  </tbody>\n",
       "</table>\n",
       "</div>"
      ],
      "text/plain": [
       "      NAME  NATALIDAD\n",
       "0  Almería      10.48\n",
       "1    Cádiz       8.11\n",
       "2  Córdoba       7.90\n",
       "3  Granada       7.78\n",
       "4   Huelva       7.57"
      ]
     },
     "execution_count": 28,
     "metadata": {},
     "output_type": "execute_result"
    }
   ],
   "source": [
    "natalidad = pd.read_csv('data/natalidad.csv')\n",
    "natalidad.head()"
   ]
  },
  {
   "cell_type": "code",
   "execution_count": 29,
   "metadata": {},
   "outputs": [],
   "source": [
    "mapa_data = pd.merge(mapa, natalidad, left_on='NAME_2', right_on='NAME')"
   ]
  }
 ],
 "metadata": {
  "kernelspec": {
   "display_name": "Ironhack",
   "language": "python",
   "name": "ironhack"
  },
  "language_info": {
   "codemirror_mode": {
    "name": "ipython",
    "version": 3
   },
   "file_extension": ".py",
   "mimetype": "text/x-python",
   "name": "python",
   "nbconvert_exporter": "python",
   "pygments_lexer": "ipython3",
   "version": "3.7.5"
  }
 },
 "nbformat": 4,
 "nbformat_minor": 4
}
