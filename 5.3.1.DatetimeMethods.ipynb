{
 "cells": [
  {
   "cell_type": "markdown",
   "metadata": {},
   "source": [
    "# Dates and Times"
   ]
  },
  {
   "cell_type": "markdown",
   "metadata": {},
   "source": [
    "* Python datetime\n",
    "  * datetime\n",
    "  * strftime/strptime\n",
    "  * timedelta\n",
    "  * timezones\n",
    "* Pandas datetime\n",
    "  * Parse dates\n",
    "  * Date index"
   ]
  },
  {
   "cell_type": "markdown",
   "metadata": {},
   "source": [
    "## Basics"
   ]
  },
  {
   "cell_type": "code",
   "execution_count": 1,
   "metadata": {},
   "outputs": [],
   "source": [
    "from datetime import datetime, date, time"
   ]
  },
  {
   "cell_type": "code",
   "execution_count": 2,
   "metadata": {},
   "outputs": [],
   "source": [
    "year = 2015\n",
    "month = 1\n",
    "day = 20\n",
    "hour = 7\n",
    "minute = 28\n",
    "second = 15"
   ]
  },
  {
   "cell_type": "code",
   "execution_count": 3,
   "metadata": {},
   "outputs": [],
   "source": [
    "dt = datetime(year, month, day, hour, minute, second)"
   ]
  },
  {
   "cell_type": "code",
   "execution_count": 4,
   "metadata": {},
   "outputs": [
    {
     "data": {
      "text/plain": [
       "datetime.datetime(2015, 1, 20, 7, 28, 15)"
      ]
     },
     "execution_count": 4,
     "metadata": {},
     "output_type": "execute_result"
    }
   ],
   "source": [
    "dt"
   ]
  },
  {
   "cell_type": "code",
   "execution_count": 5,
   "metadata": {},
   "outputs": [
    {
     "data": {
      "text/plain": [
       "['__add__',\n",
       " '__class__',\n",
       " '__delattr__',\n",
       " '__dir__',\n",
       " '__doc__',\n",
       " '__eq__',\n",
       " '__format__',\n",
       " '__ge__',\n",
       " '__getattribute__',\n",
       " '__gt__',\n",
       " '__hash__',\n",
       " '__init__',\n",
       " '__init_subclass__',\n",
       " '__le__',\n",
       " '__lt__',\n",
       " '__ne__',\n",
       " '__new__',\n",
       " '__radd__',\n",
       " '__reduce__',\n",
       " '__reduce_ex__',\n",
       " '__repr__',\n",
       " '__rsub__',\n",
       " '__setattr__',\n",
       " '__sizeof__',\n",
       " '__str__',\n",
       " '__sub__',\n",
       " '__subclasshook__',\n",
       " 'astimezone',\n",
       " 'combine',\n",
       " 'ctime',\n",
       " 'date',\n",
       " 'day',\n",
       " 'dst',\n",
       " 'fold',\n",
       " 'fromisoformat',\n",
       " 'fromordinal',\n",
       " 'fromtimestamp',\n",
       " 'hour',\n",
       " 'isocalendar',\n",
       " 'isoformat',\n",
       " 'isoweekday',\n",
       " 'max',\n",
       " 'microsecond',\n",
       " 'min',\n",
       " 'minute',\n",
       " 'month',\n",
       " 'now',\n",
       " 'replace',\n",
       " 'resolution',\n",
       " 'second',\n",
       " 'strftime',\n",
       " 'strptime',\n",
       " 'time',\n",
       " 'timestamp',\n",
       " 'timetuple',\n",
       " 'timetz',\n",
       " 'today',\n",
       " 'toordinal',\n",
       " 'tzinfo',\n",
       " 'tzname',\n",
       " 'utcfromtimestamp',\n",
       " 'utcnow',\n",
       " 'utcoffset',\n",
       " 'utctimetuple',\n",
       " 'weekday',\n",
       " 'year']"
      ]
     },
     "execution_count": 5,
     "metadata": {},
     "output_type": "execute_result"
    }
   ],
   "source": [
    "dir(dt)"
   ]
  },
  {
   "cell_type": "code",
   "execution_count": 7,
   "metadata": {},
   "outputs": [
    {
     "data": {
      "text/plain": [
       "(7, 28, 15, 1)"
      ]
     },
     "execution_count": 7,
     "metadata": {},
     "output_type": "execute_result"
    }
   ],
   "source": [
    "dt.hour, dt.minute, dt.second, dt.month"
   ]
  },
  {
   "cell_type": "markdown",
   "metadata": {},
   "source": [
    "Extract the equivalent date object:"
   ]
  },
  {
   "cell_type": "code",
   "execution_count": 8,
   "metadata": {},
   "outputs": [
    {
     "data": {
      "text/plain": [
       "datetime.date(2015, 1, 20)"
      ]
     },
     "execution_count": 8,
     "metadata": {},
     "output_type": "execute_result"
    }
   ],
   "source": [
    "dt.date()"
   ]
  },
  {
   "cell_type": "markdown",
   "metadata": {},
   "source": [
    "Extract the equivalent time object:"
   ]
  },
  {
   "cell_type": "code",
   "execution_count": 9,
   "metadata": {},
   "outputs": [
    {
     "data": {
      "text/plain": [
       "datetime.time(7, 28, 15)"
      ]
     },
     "execution_count": 9,
     "metadata": {},
     "output_type": "execute_result"
    }
   ],
   "source": [
    "dt.time()"
   ]
  },
  {
   "cell_type": "markdown",
   "metadata": {},
   "source": [
    "When aggregating or grouping time series data, it is sometimes useful to replace fields of a series of datetimes such as zeroing out the minute and second fields:"
   ]
  },
  {
   "cell_type": "code",
   "execution_count": 10,
   "metadata": {},
   "outputs": [
    {
     "data": {
      "text/plain": [
       "datetime.datetime(2015, 1, 20, 7, 0)"
      ]
     },
     "execution_count": 10,
     "metadata": {},
     "output_type": "execute_result"
    }
   ],
   "source": [
    "dt.replace(minute=0, second=0)"
   ]
  },
  {
   "cell_type": "markdown",
   "metadata": {},
   "source": [
    "## Current date and time"
   ]
  },
  {
   "cell_type": "code",
   "execution_count": 11,
   "metadata": {},
   "outputs": [
    {
     "name": "stdout",
     "output_type": "stream",
     "text": [
      "Today:  2020-07-18\n"
     ]
    }
   ],
   "source": [
    "print(\"Today: \", date.today())"
   ]
  },
  {
   "cell_type": "code",
   "execution_count": 12,
   "metadata": {},
   "outputs": [
    {
     "name": "stdout",
     "output_type": "stream",
     "text": [
      "Now:  2020-07-18 09:36:35.087184\n"
     ]
    }
   ],
   "source": [
    "print(\"Now: \", datetime.now())"
   ]
  },
  {
   "cell_type": "code",
   "execution_count": 13,
   "metadata": {},
   "outputs": [],
   "source": [
    "start_time = datetime.now()"
   ]
  },
  {
   "cell_type": "code",
   "execution_count": 14,
   "metadata": {},
   "outputs": [
    {
     "data": {
      "text/plain": [
       "datetime.datetime(2020, 7, 18, 9, 37, 18, 465744)"
      ]
     },
     "execution_count": 14,
     "metadata": {},
     "output_type": "execute_result"
    }
   ],
   "source": [
    "start_time"
   ]
  },
  {
   "cell_type": "code",
   "execution_count": 18,
   "metadata": {},
   "outputs": [
    {
     "data": {
      "text/plain": [
       "datetime.timedelta(seconds=48, microseconds=933463)"
      ]
     },
     "execution_count": 18,
     "metadata": {},
     "output_type": "execute_result"
    }
   ],
   "source": [
    "datetime.now() - start_time"
   ]
  },
  {
   "cell_type": "markdown",
   "metadata": {},
   "source": [
    "## strftime"
   ]
  },
  {
   "cell_type": "markdown",
   "metadata": {},
   "source": [
    "Format a datetime string:"
   ]
  },
  {
   "cell_type": "code",
   "execution_count": 26,
   "metadata": {},
   "outputs": [
    {
     "data": {
      "text/plain": [
       "'18-07-2020, Saturday'"
      ]
     },
     "execution_count": 26,
     "metadata": {},
     "output_type": "execute_result"
    }
   ],
   "source": [
    "start_time.strftime('%d-%m-%Y, %A')"
   ]
  },
  {
   "cell_type": "code",
   "execution_count": 20,
   "metadata": {},
   "outputs": [
    {
     "data": {
      "text/plain": [
       "'07/18/2020 09:37'"
      ]
     },
     "execution_count": 20,
     "metadata": {},
     "output_type": "execute_result"
    }
   ],
   "source": [
    "start_time.strftime('%m/%d/%Y %H:%M')"
   ]
  },
  {
   "cell_type": "markdown",
   "metadata": {},
   "source": [
    "* `%a` - abbreviated weekday name.\n",
    "* `%A` - full weekday name.\n",
    "* `%b` - abbreviated month name.\n",
    "* `%B` - full month name.\n",
    "* `%c` - date and time, as \"%a %b %e %H:%M:%S %Y\".\n",
    "* `%d` - zero-padded day of the month as a decimal number [01,31].\n",
    "* `%e` - space-padded day of the month as a decimal number [ 1,31]; equivalent to `%_d`.\n",
    "* `%H` - hour (24-hour clock) as a decimal number [00,23].\n",
    "* `%I` - hour (12-hour clock) as a decimal number [01,12].\n",
    "* `%j` - day of the year as a decimal number [001,366].\n",
    "* `%m` - month as a decimal number [01,12].\n",
    "* `%M` - minute as a decimal number [00,59].\n",
    "* `%L` - milliseconds as a decimal number [000, 999].\n",
    "* `%p` - either AM or PM.\n",
    "* `%S` - second as a decimal number [00,61].\n",
    "* `%U` - week number of the year (Sunday as the first day of the week) as a decimal number [00,53].\n",
    "* `%w` - weekday as a decimal number [0(Sunday),6].\n",
    "* `%W` - week number of the year (Monday as the first day of the week) as a decimal number [00,53].\n",
    "* `%x` - date, as \"%m/%d/%Y\".\n",
    "* `%X` - time, as \"%H:%M:%S\".\n",
    "* `%y` - year without century as a decimal number [00,99].\n",
    "* `%Y` - year with century as a decimal number.\n",
    "* `%Z` - time zone offset, such as \"-0700\".\n",
    "* `%%` - a literal \"%\" character.\n",
    "\n",
    "https://strftime.org/"
   ]
  },
  {
   "cell_type": "code",
   "execution_count": 30,
   "metadata": {},
   "outputs": [
    {
     "name": "stdout",
     "output_type": "stream",
     "text": [
      "Current year:  2020\n",
      "Month of a year:  July\n",
      "Week number of the year:  28\n",
      "Weekday of the week:  6\n",
      "Day of the year:  200\n",
      "Day of the Month:  18\n",
      "Day of week:  Saturday\n"
     ]
    }
   ],
   "source": [
    "print(\"Current year: \", date.today().strftime(\"%Y\"))\n",
    "print(\"Month of a year: \", date.today().strftime(\"%B\"))\n",
    "print(\"Week number of the year: \", date.today().strftime(\"%W\"))\n",
    "print(\"Weekday of the week: \", date.today().strftime(\"%w\"))\n",
    "print(\"Day of the year: \", date.today().strftime(\"%j\"))\n",
    "print(\"Day of the Month: \", date.today().strftime(\"%d\"))\n",
    "print(\"Day of week: \", date.today().strftime(\"%A\"))"
   ]
  },
  {
   "cell_type": "markdown",
   "metadata": {},
   "source": [
    "## strptime"
   ]
  },
  {
   "cell_type": "markdown",
   "metadata": {},
   "source": [
    "Convert a string into a datetime object:"
   ]
  },
  {
   "cell_type": "code",
   "execution_count": 27,
   "metadata": {},
   "outputs": [
    {
     "data": {
      "text/plain": [
       "datetime.datetime(2015, 1, 20, 0, 0)"
      ]
     },
     "execution_count": 27,
     "metadata": {},
     "output_type": "execute_result"
    }
   ],
   "source": [
    "datetime.strptime('20150120', '%Y%m%d')"
   ]
  },
  {
   "cell_type": "code",
   "execution_count": 29,
   "metadata": {},
   "outputs": [
    {
     "data": {
      "text/plain": [
       "datetime.datetime(2015, 1, 20, 0, 0)"
      ]
     },
     "execution_count": 29,
     "metadata": {},
     "output_type": "execute_result"
    }
   ],
   "source": [
    "datetime.strptime('2015-01-20', '%Y-%m-%d')"
   ]
  },
  {
   "cell_type": "markdown",
   "metadata": {},
   "source": [
    "## Exercise"
   ]
  },
  {
   "cell_type": "code",
   "execution_count": 33,
   "metadata": {},
   "outputs": [],
   "source": [
    "import pandas as pd"
   ]
  },
  {
   "cell_type": "code",
   "execution_count": 38,
   "metadata": {},
   "outputs": [],
   "source": [
    "cumples = pd.read_excel('data/Cumpleaños IH Data Jun 2020.xlsx')"
   ]
  },
  {
   "cell_type": "code",
   "execution_count": 40,
   "metadata": {},
   "outputs": [
    {
     "data": {
      "text/html": [
       "<div>\n",
       "<style scoped>\n",
       "    .dataframe tbody tr th:only-of-type {\n",
       "        vertical-align: middle;\n",
       "    }\n",
       "\n",
       "    .dataframe tbody tr th {\n",
       "        vertical-align: top;\n",
       "    }\n",
       "\n",
       "    .dataframe thead th {\n",
       "        text-align: right;\n",
       "    }\n",
       "</style>\n",
       "<table border=\"1\" class=\"dataframe\">\n",
       "  <thead>\n",
       "    <tr style=\"text-align: right;\">\n",
       "      <th></th>\n",
       "      <th>Nombre</th>\n",
       "      <th>Fecha</th>\n",
       "    </tr>\n",
       "  </thead>\n",
       "  <tbody>\n",
       "    <tr>\n",
       "      <th>0</th>\n",
       "      <td>Lola</td>\n",
       "      <td>23-06-1991</td>\n",
       "    </tr>\n",
       "    <tr>\n",
       "      <th>1</th>\n",
       "      <td>Laura</td>\n",
       "      <td>24-08-1986</td>\n",
       "    </tr>\n",
       "    <tr>\n",
       "      <th>2</th>\n",
       "      <td>Álvaro</td>\n",
       "      <td>1993-09-11 00:00:00</td>\n",
       "    </tr>\n",
       "    <tr>\n",
       "      <th>3</th>\n",
       "      <td>Anna</td>\n",
       "      <td>19-09-1991</td>\n",
       "    </tr>\n",
       "    <tr>\n",
       "      <th>4</th>\n",
       "      <td>Vero</td>\n",
       "      <td>1983-06-01 00:00:00</td>\n",
       "    </tr>\n",
       "    <tr>\n",
       "      <th>5</th>\n",
       "      <td>Blanca</td>\n",
       "      <td>1985-01-12 00:00:00</td>\n",
       "    </tr>\n",
       "    <tr>\n",
       "      <th>6</th>\n",
       "      <td>Ezequiel</td>\n",
       "      <td>1996-07-03 00:00:00</td>\n",
       "    </tr>\n",
       "    <tr>\n",
       "      <th>7</th>\n",
       "      <td>Susanna</td>\n",
       "      <td>1973-03-16 00:00:00</td>\n",
       "    </tr>\n",
       "    <tr>\n",
       "      <th>8</th>\n",
       "      <td>Victor</td>\n",
       "      <td>1988-06-09 00:00:00</td>\n",
       "    </tr>\n",
       "    <tr>\n",
       "      <th>9</th>\n",
       "      <td>Alex</td>\n",
       "      <td>1991-01-08 00:00:00</td>\n",
       "    </tr>\n",
       "    <tr>\n",
       "      <th>10</th>\n",
       "      <td>Aaron</td>\n",
       "      <td>1989-02-05 00:00:00</td>\n",
       "    </tr>\n",
       "  </tbody>\n",
       "</table>\n",
       "</div>"
      ],
      "text/plain": [
       "      Nombre                Fecha\n",
       "0       Lola           23-06-1991\n",
       "1      Laura           24-08-1986\n",
       "2     Álvaro  1993-09-11 00:00:00\n",
       "3       Anna           19-09-1991\n",
       "4       Vero  1983-06-01 00:00:00\n",
       "5     Blanca  1985-01-12 00:00:00\n",
       "6   Ezequiel  1996-07-03 00:00:00\n",
       "7    Susanna  1973-03-16 00:00:00\n",
       "8     Victor  1988-06-09 00:00:00\n",
       "9       Alex  1991-01-08 00:00:00\n",
       "10     Aaron  1989-02-05 00:00:00"
      ]
     },
     "execution_count": 40,
     "metadata": {},
     "output_type": "execute_result"
    }
   ],
   "source": [
    "cumples.head(20)"
   ]
  },
  {
   "cell_type": "code",
   "execution_count": 64,
   "metadata": {},
   "outputs": [],
   "source": [
    "cumples['fecha_pd'] = pd.to_datetime(cumples.Fecha)"
   ]
  },
  {
   "cell_type": "code",
   "execution_count": 55,
   "metadata": {},
   "outputs": [],
   "source": [
    "cumples['fecha_fix'] = [datetime.strptime(f, '%d-%m-%Y') if type(f) == str else f for f in cumples.Fecha ]"
   ]
  },
  {
   "cell_type": "code",
   "execution_count": 67,
   "metadata": {},
   "outputs": [
    {
     "data": {
      "text/html": [
       "<div>\n",
       "<style scoped>\n",
       "    .dataframe tbody tr th:only-of-type {\n",
       "        vertical-align: middle;\n",
       "    }\n",
       "\n",
       "    .dataframe tbody tr th {\n",
       "        vertical-align: top;\n",
       "    }\n",
       "\n",
       "    .dataframe thead th {\n",
       "        text-align: right;\n",
       "    }\n",
       "</style>\n",
       "<table border=\"1\" class=\"dataframe\">\n",
       "  <thead>\n",
       "    <tr style=\"text-align: right;\">\n",
       "      <th></th>\n",
       "      <th>Nombre</th>\n",
       "      <th>Fecha</th>\n",
       "      <th>fecha_fix</th>\n",
       "      <th>fecha_pd</th>\n",
       "    </tr>\n",
       "  </thead>\n",
       "  <tbody>\n",
       "    <tr>\n",
       "      <th>0</th>\n",
       "      <td>Lola</td>\n",
       "      <td>23-06-1991</td>\n",
       "      <td>1991-06-23</td>\n",
       "      <td>1991-06-23</td>\n",
       "    </tr>\n",
       "    <tr>\n",
       "      <th>1</th>\n",
       "      <td>Laura</td>\n",
       "      <td>24-08-1986</td>\n",
       "      <td>1986-08-24</td>\n",
       "      <td>1986-08-24</td>\n",
       "    </tr>\n",
       "    <tr>\n",
       "      <th>2</th>\n",
       "      <td>Álvaro</td>\n",
       "      <td>1993-09-11 00:00:00</td>\n",
       "      <td>1993-09-11</td>\n",
       "      <td>1993-09-11</td>\n",
       "    </tr>\n",
       "    <tr>\n",
       "      <th>3</th>\n",
       "      <td>Anna</td>\n",
       "      <td>19-09-1991</td>\n",
       "      <td>1991-09-19</td>\n",
       "      <td>1991-09-19</td>\n",
       "    </tr>\n",
       "    <tr>\n",
       "      <th>4</th>\n",
       "      <td>Vero</td>\n",
       "      <td>1983-06-01 00:00:00</td>\n",
       "      <td>1983-06-01</td>\n",
       "      <td>1983-06-01</td>\n",
       "    </tr>\n",
       "    <tr>\n",
       "      <th>5</th>\n",
       "      <td>Blanca</td>\n",
       "      <td>1985-01-12 00:00:00</td>\n",
       "      <td>1985-01-12</td>\n",
       "      <td>1985-01-12</td>\n",
       "    </tr>\n",
       "    <tr>\n",
       "      <th>6</th>\n",
       "      <td>Ezequiel</td>\n",
       "      <td>1996-07-03 00:00:00</td>\n",
       "      <td>1996-07-03</td>\n",
       "      <td>1996-07-03</td>\n",
       "    </tr>\n",
       "    <tr>\n",
       "      <th>7</th>\n",
       "      <td>Susanna</td>\n",
       "      <td>1973-03-16 00:00:00</td>\n",
       "      <td>1973-03-16</td>\n",
       "      <td>1973-03-16</td>\n",
       "    </tr>\n",
       "    <tr>\n",
       "      <th>8</th>\n",
       "      <td>Victor</td>\n",
       "      <td>1988-06-09 00:00:00</td>\n",
       "      <td>1988-06-09</td>\n",
       "      <td>1988-06-09</td>\n",
       "    </tr>\n",
       "    <tr>\n",
       "      <th>9</th>\n",
       "      <td>Alex</td>\n",
       "      <td>1991-01-08 00:00:00</td>\n",
       "      <td>1991-01-08</td>\n",
       "      <td>1991-01-08</td>\n",
       "    </tr>\n",
       "    <tr>\n",
       "      <th>10</th>\n",
       "      <td>Aaron</td>\n",
       "      <td>1989-02-05 00:00:00</td>\n",
       "      <td>1989-02-05</td>\n",
       "      <td>1989-02-05</td>\n",
       "    </tr>\n",
       "  </tbody>\n",
       "</table>\n",
       "</div>"
      ],
      "text/plain": [
       "      Nombre                Fecha  fecha_fix   fecha_pd\n",
       "0       Lola           23-06-1991 1991-06-23 1991-06-23\n",
       "1      Laura           24-08-1986 1986-08-24 1986-08-24\n",
       "2     Álvaro  1993-09-11 00:00:00 1993-09-11 1993-09-11\n",
       "3       Anna           19-09-1991 1991-09-19 1991-09-19\n",
       "4       Vero  1983-06-01 00:00:00 1983-06-01 1983-06-01\n",
       "5     Blanca  1985-01-12 00:00:00 1985-01-12 1985-01-12\n",
       "6   Ezequiel  1996-07-03 00:00:00 1996-07-03 1996-07-03\n",
       "7    Susanna  1973-03-16 00:00:00 1973-03-16 1973-03-16\n",
       "8     Victor  1988-06-09 00:00:00 1988-06-09 1988-06-09\n",
       "9       Alex  1991-01-08 00:00:00 1991-01-08 1991-01-08\n",
       "10     Aaron  1989-02-05 00:00:00 1989-02-05 1989-02-05"
      ]
     },
     "execution_count": 67,
     "metadata": {},
     "output_type": "execute_result"
    }
   ],
   "source": [
    "cumples"
   ]
  },
  {
   "cell_type": "code",
   "execution_count": 68,
   "metadata": {},
   "outputs": [
    {
     "data": {
      "text/plain": [
       "2020"
      ]
     },
     "execution_count": 68,
     "metadata": {},
     "output_type": "execute_result"
    }
   ],
   "source": [
    "pd.to_datetime(\"today\").year -"
   ]
  },
  {
   "cell_type": "markdown",
   "metadata": {},
   "source": [
    "## 0.- Calcular la edad de todos los estudiantes"
   ]
  },
  {
   "cell_type": "code",
   "execution_count": 69,
   "metadata": {},
   "outputs": [],
   "source": [
    "def edad(fecha_nac):\n",
    "    return date.today().year - fecha_nac.year"
   ]
  },
  {
   "cell_type": "code",
   "execution_count": 71,
   "metadata": {},
   "outputs": [],
   "source": [
    "def edad(fecha_nac):\n",
    "    today = date.today()\n",
    "    return today.year - fecha_nac.year - ((today.month, today.day) < (fecha_nac.month, fecha_nac.day))"
   ]
  },
  {
   "cell_type": "code",
   "execution_count": 73,
   "metadata": {},
   "outputs": [
    {
     "data": {
      "text/html": [
       "<div>\n",
       "<style scoped>\n",
       "    .dataframe tbody tr th:only-of-type {\n",
       "        vertical-align: middle;\n",
       "    }\n",
       "\n",
       "    .dataframe tbody tr th {\n",
       "        vertical-align: top;\n",
       "    }\n",
       "\n",
       "    .dataframe thead th {\n",
       "        text-align: right;\n",
       "    }\n",
       "</style>\n",
       "<table border=\"1\" class=\"dataframe\">\n",
       "  <thead>\n",
       "    <tr style=\"text-align: right;\">\n",
       "      <th></th>\n",
       "      <th>Nombre</th>\n",
       "      <th>Fecha</th>\n",
       "      <th>fecha_fix</th>\n",
       "      <th>fecha_pd</th>\n",
       "      <th>edad</th>\n",
       "    </tr>\n",
       "  </thead>\n",
       "  <tbody>\n",
       "    <tr>\n",
       "      <th>0</th>\n",
       "      <td>Lola</td>\n",
       "      <td>23-06-1991</td>\n",
       "      <td>1991-06-23</td>\n",
       "      <td>1991-06-23</td>\n",
       "      <td>29</td>\n",
       "    </tr>\n",
       "    <tr>\n",
       "      <th>1</th>\n",
       "      <td>Laura</td>\n",
       "      <td>24-08-1986</td>\n",
       "      <td>1986-08-24</td>\n",
       "      <td>1986-08-24</td>\n",
       "      <td>33</td>\n",
       "    </tr>\n",
       "    <tr>\n",
       "      <th>2</th>\n",
       "      <td>Álvaro</td>\n",
       "      <td>1993-09-11 00:00:00</td>\n",
       "      <td>1993-09-11</td>\n",
       "      <td>1993-09-11</td>\n",
       "      <td>26</td>\n",
       "    </tr>\n",
       "    <tr>\n",
       "      <th>3</th>\n",
       "      <td>Anna</td>\n",
       "      <td>19-09-1991</td>\n",
       "      <td>1991-09-19</td>\n",
       "      <td>1991-09-19</td>\n",
       "      <td>28</td>\n",
       "    </tr>\n",
       "    <tr>\n",
       "      <th>4</th>\n",
       "      <td>Vero</td>\n",
       "      <td>1983-06-01 00:00:00</td>\n",
       "      <td>1983-06-01</td>\n",
       "      <td>1983-06-01</td>\n",
       "      <td>37</td>\n",
       "    </tr>\n",
       "    <tr>\n",
       "      <th>5</th>\n",
       "      <td>Blanca</td>\n",
       "      <td>1985-01-12 00:00:00</td>\n",
       "      <td>1985-01-12</td>\n",
       "      <td>1985-01-12</td>\n",
       "      <td>35</td>\n",
       "    </tr>\n",
       "    <tr>\n",
       "      <th>6</th>\n",
       "      <td>Ezequiel</td>\n",
       "      <td>1996-07-03 00:00:00</td>\n",
       "      <td>1996-07-03</td>\n",
       "      <td>1996-07-03</td>\n",
       "      <td>24</td>\n",
       "    </tr>\n",
       "    <tr>\n",
       "      <th>7</th>\n",
       "      <td>Susanna</td>\n",
       "      <td>1973-03-16 00:00:00</td>\n",
       "      <td>1973-03-16</td>\n",
       "      <td>1973-03-16</td>\n",
       "      <td>47</td>\n",
       "    </tr>\n",
       "    <tr>\n",
       "      <th>8</th>\n",
       "      <td>Victor</td>\n",
       "      <td>1988-06-09 00:00:00</td>\n",
       "      <td>1988-06-09</td>\n",
       "      <td>1988-06-09</td>\n",
       "      <td>32</td>\n",
       "    </tr>\n",
       "    <tr>\n",
       "      <th>9</th>\n",
       "      <td>Alex</td>\n",
       "      <td>1991-01-08 00:00:00</td>\n",
       "      <td>1991-01-08</td>\n",
       "      <td>1991-01-08</td>\n",
       "      <td>29</td>\n",
       "    </tr>\n",
       "    <tr>\n",
       "      <th>10</th>\n",
       "      <td>Aaron</td>\n",
       "      <td>1989-02-05 00:00:00</td>\n",
       "      <td>1989-02-05</td>\n",
       "      <td>1989-02-05</td>\n",
       "      <td>31</td>\n",
       "    </tr>\n",
       "  </tbody>\n",
       "</table>\n",
       "</div>"
      ],
      "text/plain": [
       "      Nombre                Fecha  fecha_fix   fecha_pd  edad\n",
       "0       Lola           23-06-1991 1991-06-23 1991-06-23    29\n",
       "1      Laura           24-08-1986 1986-08-24 1986-08-24    33\n",
       "2     Álvaro  1993-09-11 00:00:00 1993-09-11 1993-09-11    26\n",
       "3       Anna           19-09-1991 1991-09-19 1991-09-19    28\n",
       "4       Vero  1983-06-01 00:00:00 1983-06-01 1983-06-01    37\n",
       "5     Blanca  1985-01-12 00:00:00 1985-01-12 1985-01-12    35\n",
       "6   Ezequiel  1996-07-03 00:00:00 1996-07-03 1996-07-03    24\n",
       "7    Susanna  1973-03-16 00:00:00 1973-03-16 1973-03-16    47\n",
       "8     Victor  1988-06-09 00:00:00 1988-06-09 1988-06-09    32\n",
       "9       Alex  1991-01-08 00:00:00 1991-01-08 1991-01-08    29\n",
       "10     Aaron  1989-02-05 00:00:00 1989-02-05 1989-02-05    31"
      ]
     },
     "execution_count": 73,
     "metadata": {},
     "output_type": "execute_result"
    }
   ],
   "source": [
    "cumples['edad'] = cumples['fecha_fix'].apply(edad)\n",
    "cumples"
   ]
  },
  {
   "cell_type": "markdown",
   "metadata": {},
   "source": [
    "## 1.- Fecha y nombre del próximo cumpleaños"
   ]
  },
  {
   "cell_type": "code",
   "execution_count": 75,
   "metadata": {},
   "outputs": [
    {
     "data": {
      "text/html": [
       "<div>\n",
       "<style scoped>\n",
       "    .dataframe tbody tr th:only-of-type {\n",
       "        vertical-align: middle;\n",
       "    }\n",
       "\n",
       "    .dataframe tbody tr th {\n",
       "        vertical-align: top;\n",
       "    }\n",
       "\n",
       "    .dataframe thead th {\n",
       "        text-align: right;\n",
       "    }\n",
       "</style>\n",
       "<table border=\"1\" class=\"dataframe\">\n",
       "  <thead>\n",
       "    <tr style=\"text-align: right;\">\n",
       "      <th></th>\n",
       "      <th>Nombre</th>\n",
       "      <th>Fecha</th>\n",
       "      <th>fecha_fix</th>\n",
       "      <th>fecha_pd</th>\n",
       "      <th>edad</th>\n",
       "      <th>2020</th>\n",
       "      <th>2021</th>\n",
       "    </tr>\n",
       "  </thead>\n",
       "  <tbody>\n",
       "    <tr>\n",
       "      <th>0</th>\n",
       "      <td>Lola</td>\n",
       "      <td>23-06-1991</td>\n",
       "      <td>1991-06-23</td>\n",
       "      <td>1991-06-23</td>\n",
       "      <td>29</td>\n",
       "      <td>2020-06-23</td>\n",
       "      <td>2021-06-23</td>\n",
       "    </tr>\n",
       "    <tr>\n",
       "      <th>1</th>\n",
       "      <td>Laura</td>\n",
       "      <td>24-08-1986</td>\n",
       "      <td>1986-08-24</td>\n",
       "      <td>1986-08-24</td>\n",
       "      <td>33</td>\n",
       "      <td>2020-08-24</td>\n",
       "      <td>2021-08-24</td>\n",
       "    </tr>\n",
       "    <tr>\n",
       "      <th>2</th>\n",
       "      <td>Álvaro</td>\n",
       "      <td>1993-09-11 00:00:00</td>\n",
       "      <td>1993-09-11</td>\n",
       "      <td>1993-09-11</td>\n",
       "      <td>26</td>\n",
       "      <td>2020-09-11</td>\n",
       "      <td>2021-09-11</td>\n",
       "    </tr>\n",
       "    <tr>\n",
       "      <th>3</th>\n",
       "      <td>Anna</td>\n",
       "      <td>19-09-1991</td>\n",
       "      <td>1991-09-19</td>\n",
       "      <td>1991-09-19</td>\n",
       "      <td>28</td>\n",
       "      <td>2020-09-19</td>\n",
       "      <td>2021-09-19</td>\n",
       "    </tr>\n",
       "    <tr>\n",
       "      <th>4</th>\n",
       "      <td>Vero</td>\n",
       "      <td>1983-06-01 00:00:00</td>\n",
       "      <td>1983-06-01</td>\n",
       "      <td>1983-06-01</td>\n",
       "      <td>37</td>\n",
       "      <td>2020-06-01</td>\n",
       "      <td>2021-06-01</td>\n",
       "    </tr>\n",
       "    <tr>\n",
       "      <th>5</th>\n",
       "      <td>Blanca</td>\n",
       "      <td>1985-01-12 00:00:00</td>\n",
       "      <td>1985-01-12</td>\n",
       "      <td>1985-01-12</td>\n",
       "      <td>35</td>\n",
       "      <td>2020-01-12</td>\n",
       "      <td>2021-01-12</td>\n",
       "    </tr>\n",
       "    <tr>\n",
       "      <th>6</th>\n",
       "      <td>Ezequiel</td>\n",
       "      <td>1996-07-03 00:00:00</td>\n",
       "      <td>1996-07-03</td>\n",
       "      <td>1996-07-03</td>\n",
       "      <td>24</td>\n",
       "      <td>2020-07-03</td>\n",
       "      <td>2021-07-03</td>\n",
       "    </tr>\n",
       "    <tr>\n",
       "      <th>7</th>\n",
       "      <td>Susanna</td>\n",
       "      <td>1973-03-16 00:00:00</td>\n",
       "      <td>1973-03-16</td>\n",
       "      <td>1973-03-16</td>\n",
       "      <td>47</td>\n",
       "      <td>2020-03-16</td>\n",
       "      <td>2021-03-16</td>\n",
       "    </tr>\n",
       "    <tr>\n",
       "      <th>8</th>\n",
       "      <td>Victor</td>\n",
       "      <td>1988-06-09 00:00:00</td>\n",
       "      <td>1988-06-09</td>\n",
       "      <td>1988-06-09</td>\n",
       "      <td>32</td>\n",
       "      <td>2020-06-09</td>\n",
       "      <td>2021-06-09</td>\n",
       "    </tr>\n",
       "    <tr>\n",
       "      <th>9</th>\n",
       "      <td>Alex</td>\n",
       "      <td>1991-01-08 00:00:00</td>\n",
       "      <td>1991-01-08</td>\n",
       "      <td>1991-01-08</td>\n",
       "      <td>29</td>\n",
       "      <td>2020-01-08</td>\n",
       "      <td>2021-01-08</td>\n",
       "    </tr>\n",
       "    <tr>\n",
       "      <th>10</th>\n",
       "      <td>Aaron</td>\n",
       "      <td>1989-02-05 00:00:00</td>\n",
       "      <td>1989-02-05</td>\n",
       "      <td>1989-02-05</td>\n",
       "      <td>31</td>\n",
       "      <td>2020-02-05</td>\n",
       "      <td>2021-02-05</td>\n",
       "    </tr>\n",
       "  </tbody>\n",
       "</table>\n",
       "</div>"
      ],
      "text/plain": [
       "      Nombre                Fecha  fecha_fix   fecha_pd  edad       2020  \\\n",
       "0       Lola           23-06-1991 1991-06-23 1991-06-23    29 2020-06-23   \n",
       "1      Laura           24-08-1986 1986-08-24 1986-08-24    33 2020-08-24   \n",
       "2     Álvaro  1993-09-11 00:00:00 1993-09-11 1993-09-11    26 2020-09-11   \n",
       "3       Anna           19-09-1991 1991-09-19 1991-09-19    28 2020-09-19   \n",
       "4       Vero  1983-06-01 00:00:00 1983-06-01 1983-06-01    37 2020-06-01   \n",
       "5     Blanca  1985-01-12 00:00:00 1985-01-12 1985-01-12    35 2020-01-12   \n",
       "6   Ezequiel  1996-07-03 00:00:00 1996-07-03 1996-07-03    24 2020-07-03   \n",
       "7    Susanna  1973-03-16 00:00:00 1973-03-16 1973-03-16    47 2020-03-16   \n",
       "8     Victor  1988-06-09 00:00:00 1988-06-09 1988-06-09    32 2020-06-09   \n",
       "9       Alex  1991-01-08 00:00:00 1991-01-08 1991-01-08    29 2020-01-08   \n",
       "10     Aaron  1989-02-05 00:00:00 1989-02-05 1989-02-05    31 2020-02-05   \n",
       "\n",
       "         2021  \n",
       "0  2021-06-23  \n",
       "1  2021-08-24  \n",
       "2  2021-09-11  \n",
       "3  2021-09-19  \n",
       "4  2021-06-01  \n",
       "5  2021-01-12  \n",
       "6  2021-07-03  \n",
       "7  2021-03-16  \n",
       "8  2021-06-09  \n",
       "9  2021-01-08  \n",
       "10 2021-02-05  "
      ]
     },
     "execution_count": 75,
     "metadata": {},
     "output_type": "execute_result"
    }
   ],
   "source": [
    "cumples['2021'] = cumples['fecha_fix'].apply(lambda x: x.replace(year=2021))\n",
    "cumples"
   ]
  },
  {
   "cell_type": "code",
   "execution_count": 78,
   "metadata": {},
   "outputs": [],
   "source": [
    "from datetime import timedelta"
   ]
  },
  {
   "cell_type": "code",
   "execution_count": 81,
   "metadata": {},
   "outputs": [
    {
     "data": {
      "text/html": [
       "<div>\n",
       "<style scoped>\n",
       "    .dataframe tbody tr th:only-of-type {\n",
       "        vertical-align: middle;\n",
       "    }\n",
       "\n",
       "    .dataframe tbody tr th {\n",
       "        vertical-align: top;\n",
       "    }\n",
       "\n",
       "    .dataframe thead th {\n",
       "        text-align: right;\n",
       "    }\n",
       "</style>\n",
       "<table border=\"1\" class=\"dataframe\">\n",
       "  <thead>\n",
       "    <tr style=\"text-align: right;\">\n",
       "      <th></th>\n",
       "      <th>Nombre</th>\n",
       "      <th>Fecha</th>\n",
       "      <th>fecha_fix</th>\n",
       "      <th>fecha_pd</th>\n",
       "      <th>edad</th>\n",
       "      <th>2020</th>\n",
       "      <th>2021</th>\n",
       "    </tr>\n",
       "  </thead>\n",
       "  <tbody>\n",
       "    <tr>\n",
       "      <th>1</th>\n",
       "      <td>Laura</td>\n",
       "      <td>24-08-1986</td>\n",
       "      <td>1986-08-24</td>\n",
       "      <td>1986-08-24</td>\n",
       "      <td>33</td>\n",
       "      <td>2020-08-24</td>\n",
       "      <td>2021-08-24</td>\n",
       "    </tr>\n",
       "    <tr>\n",
       "      <th>2</th>\n",
       "      <td>Álvaro</td>\n",
       "      <td>1993-09-11 00:00:00</td>\n",
       "      <td>1993-09-11</td>\n",
       "      <td>1993-09-11</td>\n",
       "      <td>26</td>\n",
       "      <td>2020-09-11</td>\n",
       "      <td>2021-09-11</td>\n",
       "    </tr>\n",
       "    <tr>\n",
       "      <th>3</th>\n",
       "      <td>Anna</td>\n",
       "      <td>19-09-1991</td>\n",
       "      <td>1991-09-19</td>\n",
       "      <td>1991-09-19</td>\n",
       "      <td>28</td>\n",
       "      <td>2020-09-19</td>\n",
       "      <td>2021-09-19</td>\n",
       "    </tr>\n",
       "  </tbody>\n",
       "</table>\n",
       "</div>"
      ],
      "text/plain": [
       "   Nombre                Fecha  fecha_fix   fecha_pd  edad       2020  \\\n",
       "1   Laura           24-08-1986 1986-08-24 1986-08-24    33 2020-08-24   \n",
       "2  Álvaro  1993-09-11 00:00:00 1993-09-11 1993-09-11    26 2020-09-11   \n",
       "3    Anna           19-09-1991 1991-09-19 1991-09-19    28 2020-09-19   \n",
       "\n",
       "        2021  \n",
       "1 2021-08-24  \n",
       "2 2021-09-11  \n",
       "3 2021-09-19  "
      ]
     },
     "execution_count": 81,
     "metadata": {},
     "output_type": "execute_result"
    }
   ],
   "source": [
    "cumples[cumples['2020'].apply(lambda x: x.date()-date.today()) > timedelta(days=1)].sort_values('2020')"
   ]
  },
  {
   "cell_type": "code",
   "execution_count": 84,
   "metadata": {},
   "outputs": [
    {
     "data": {
      "text/plain": [
       "1      Monday\n",
       "2      Friday\n",
       "3    Saturday\n",
       "Name: 2020, dtype: object"
      ]
     },
     "execution_count": 84,
     "metadata": {},
     "output_type": "execute_result"
    }
   ],
   "source": [
    "cumples[cumples['2020'].apply(lambda x: x.date()-date.today()) > timedelta(days=1)]['2020'].apply(lambda x: x.strftime('%A'))"
   ]
  },
  {
   "cell_type": "markdown",
   "metadata": {},
   "source": [
    "## 2.- Mes en las que más personas han nacido"
   ]
  },
  {
   "cell_type": "code",
   "execution_count": 85,
   "metadata": {},
   "outputs": [
    {
     "data": {
      "text/html": [
       "<div>\n",
       "<style scoped>\n",
       "    .dataframe tbody tr th:only-of-type {\n",
       "        vertical-align: middle;\n",
       "    }\n",
       "\n",
       "    .dataframe tbody tr th {\n",
       "        vertical-align: top;\n",
       "    }\n",
       "\n",
       "    .dataframe thead th {\n",
       "        text-align: right;\n",
       "    }\n",
       "</style>\n",
       "<table border=\"1\" class=\"dataframe\">\n",
       "  <thead>\n",
       "    <tr style=\"text-align: right;\">\n",
       "      <th></th>\n",
       "      <th>Nombre</th>\n",
       "      <th>Fecha</th>\n",
       "      <th>fecha_fix</th>\n",
       "      <th>fecha_pd</th>\n",
       "      <th>edad</th>\n",
       "      <th>2020</th>\n",
       "      <th>2021</th>\n",
       "    </tr>\n",
       "  </thead>\n",
       "  <tbody>\n",
       "    <tr>\n",
       "      <th>0</th>\n",
       "      <td>Lola</td>\n",
       "      <td>23-06-1991</td>\n",
       "      <td>1991-06-23</td>\n",
       "      <td>1991-06-23</td>\n",
       "      <td>29</td>\n",
       "      <td>2020-06-23</td>\n",
       "      <td>2021-06-23</td>\n",
       "    </tr>\n",
       "    <tr>\n",
       "      <th>1</th>\n",
       "      <td>Laura</td>\n",
       "      <td>24-08-1986</td>\n",
       "      <td>1986-08-24</td>\n",
       "      <td>1986-08-24</td>\n",
       "      <td>33</td>\n",
       "      <td>2020-08-24</td>\n",
       "      <td>2021-08-24</td>\n",
       "    </tr>\n",
       "    <tr>\n",
       "      <th>2</th>\n",
       "      <td>Álvaro</td>\n",
       "      <td>1993-09-11 00:00:00</td>\n",
       "      <td>1993-09-11</td>\n",
       "      <td>1993-09-11</td>\n",
       "      <td>26</td>\n",
       "      <td>2020-09-11</td>\n",
       "      <td>2021-09-11</td>\n",
       "    </tr>\n",
       "    <tr>\n",
       "      <th>3</th>\n",
       "      <td>Anna</td>\n",
       "      <td>19-09-1991</td>\n",
       "      <td>1991-09-19</td>\n",
       "      <td>1991-09-19</td>\n",
       "      <td>28</td>\n",
       "      <td>2020-09-19</td>\n",
       "      <td>2021-09-19</td>\n",
       "    </tr>\n",
       "    <tr>\n",
       "      <th>4</th>\n",
       "      <td>Vero</td>\n",
       "      <td>1983-06-01 00:00:00</td>\n",
       "      <td>1983-06-01</td>\n",
       "      <td>1983-06-01</td>\n",
       "      <td>37</td>\n",
       "      <td>2020-06-01</td>\n",
       "      <td>2021-06-01</td>\n",
       "    </tr>\n",
       "    <tr>\n",
       "      <th>5</th>\n",
       "      <td>Blanca</td>\n",
       "      <td>1985-01-12 00:00:00</td>\n",
       "      <td>1985-01-12</td>\n",
       "      <td>1985-01-12</td>\n",
       "      <td>35</td>\n",
       "      <td>2020-01-12</td>\n",
       "      <td>2021-01-12</td>\n",
       "    </tr>\n",
       "    <tr>\n",
       "      <th>6</th>\n",
       "      <td>Ezequiel</td>\n",
       "      <td>1996-07-03 00:00:00</td>\n",
       "      <td>1996-07-03</td>\n",
       "      <td>1996-07-03</td>\n",
       "      <td>24</td>\n",
       "      <td>2020-07-03</td>\n",
       "      <td>2021-07-03</td>\n",
       "    </tr>\n",
       "    <tr>\n",
       "      <th>7</th>\n",
       "      <td>Susanna</td>\n",
       "      <td>1973-03-16 00:00:00</td>\n",
       "      <td>1973-03-16</td>\n",
       "      <td>1973-03-16</td>\n",
       "      <td>47</td>\n",
       "      <td>2020-03-16</td>\n",
       "      <td>2021-03-16</td>\n",
       "    </tr>\n",
       "    <tr>\n",
       "      <th>8</th>\n",
       "      <td>Victor</td>\n",
       "      <td>1988-06-09 00:00:00</td>\n",
       "      <td>1988-06-09</td>\n",
       "      <td>1988-06-09</td>\n",
       "      <td>32</td>\n",
       "      <td>2020-06-09</td>\n",
       "      <td>2021-06-09</td>\n",
       "    </tr>\n",
       "    <tr>\n",
       "      <th>9</th>\n",
       "      <td>Alex</td>\n",
       "      <td>1991-01-08 00:00:00</td>\n",
       "      <td>1991-01-08</td>\n",
       "      <td>1991-01-08</td>\n",
       "      <td>29</td>\n",
       "      <td>2020-01-08</td>\n",
       "      <td>2021-01-08</td>\n",
       "    </tr>\n",
       "    <tr>\n",
       "      <th>10</th>\n",
       "      <td>Aaron</td>\n",
       "      <td>1989-02-05 00:00:00</td>\n",
       "      <td>1989-02-05</td>\n",
       "      <td>1989-02-05</td>\n",
       "      <td>31</td>\n",
       "      <td>2020-02-05</td>\n",
       "      <td>2021-02-05</td>\n",
       "    </tr>\n",
       "  </tbody>\n",
       "</table>\n",
       "</div>"
      ],
      "text/plain": [
       "      Nombre                Fecha  fecha_fix   fecha_pd  edad       2020  \\\n",
       "0       Lola           23-06-1991 1991-06-23 1991-06-23    29 2020-06-23   \n",
       "1      Laura           24-08-1986 1986-08-24 1986-08-24    33 2020-08-24   \n",
       "2     Álvaro  1993-09-11 00:00:00 1993-09-11 1993-09-11    26 2020-09-11   \n",
       "3       Anna           19-09-1991 1991-09-19 1991-09-19    28 2020-09-19   \n",
       "4       Vero  1983-06-01 00:00:00 1983-06-01 1983-06-01    37 2020-06-01   \n",
       "5     Blanca  1985-01-12 00:00:00 1985-01-12 1985-01-12    35 2020-01-12   \n",
       "6   Ezequiel  1996-07-03 00:00:00 1996-07-03 1996-07-03    24 2020-07-03   \n",
       "7    Susanna  1973-03-16 00:00:00 1973-03-16 1973-03-16    47 2020-03-16   \n",
       "8     Victor  1988-06-09 00:00:00 1988-06-09 1988-06-09    32 2020-06-09   \n",
       "9       Alex  1991-01-08 00:00:00 1991-01-08 1991-01-08    29 2020-01-08   \n",
       "10     Aaron  1989-02-05 00:00:00 1989-02-05 1989-02-05    31 2020-02-05   \n",
       "\n",
       "         2021  \n",
       "0  2021-06-23  \n",
       "1  2021-08-24  \n",
       "2  2021-09-11  \n",
       "3  2021-09-19  \n",
       "4  2021-06-01  \n",
       "5  2021-01-12  \n",
       "6  2021-07-03  \n",
       "7  2021-03-16  \n",
       "8  2021-06-09  \n",
       "9  2021-01-08  \n",
       "10 2021-02-05  "
      ]
     },
     "execution_count": 85,
     "metadata": {},
     "output_type": "execute_result"
    }
   ],
   "source": [
    "cumples"
   ]
  },
  {
   "cell_type": "code",
   "execution_count": 86,
   "metadata": {
    "scrolled": true
   },
   "outputs": [
    {
     "data": {
      "text/html": [
       "<div>\n",
       "<style scoped>\n",
       "    .dataframe tbody tr th:only-of-type {\n",
       "        vertical-align: middle;\n",
       "    }\n",
       "\n",
       "    .dataframe tbody tr th {\n",
       "        vertical-align: top;\n",
       "    }\n",
       "\n",
       "    .dataframe thead th {\n",
       "        text-align: right;\n",
       "    }\n",
       "</style>\n",
       "<table border=\"1\" class=\"dataframe\">\n",
       "  <thead>\n",
       "    <tr style=\"text-align: right;\">\n",
       "      <th></th>\n",
       "      <th>Nombre</th>\n",
       "      <th>Fecha</th>\n",
       "      <th>fecha_fix</th>\n",
       "      <th>fecha_pd</th>\n",
       "      <th>edad</th>\n",
       "      <th>2020</th>\n",
       "      <th>2021</th>\n",
       "      <th>mes</th>\n",
       "    </tr>\n",
       "  </thead>\n",
       "  <tbody>\n",
       "    <tr>\n",
       "      <th>0</th>\n",
       "      <td>Lola</td>\n",
       "      <td>23-06-1991</td>\n",
       "      <td>1991-06-23</td>\n",
       "      <td>1991-06-23</td>\n",
       "      <td>29</td>\n",
       "      <td>2020-06-23</td>\n",
       "      <td>2021-06-23</td>\n",
       "      <td>June</td>\n",
       "    </tr>\n",
       "    <tr>\n",
       "      <th>1</th>\n",
       "      <td>Laura</td>\n",
       "      <td>24-08-1986</td>\n",
       "      <td>1986-08-24</td>\n",
       "      <td>1986-08-24</td>\n",
       "      <td>33</td>\n",
       "      <td>2020-08-24</td>\n",
       "      <td>2021-08-24</td>\n",
       "      <td>August</td>\n",
       "    </tr>\n",
       "    <tr>\n",
       "      <th>2</th>\n",
       "      <td>Álvaro</td>\n",
       "      <td>1993-09-11 00:00:00</td>\n",
       "      <td>1993-09-11</td>\n",
       "      <td>1993-09-11</td>\n",
       "      <td>26</td>\n",
       "      <td>2020-09-11</td>\n",
       "      <td>2021-09-11</td>\n",
       "      <td>September</td>\n",
       "    </tr>\n",
       "    <tr>\n",
       "      <th>3</th>\n",
       "      <td>Anna</td>\n",
       "      <td>19-09-1991</td>\n",
       "      <td>1991-09-19</td>\n",
       "      <td>1991-09-19</td>\n",
       "      <td>28</td>\n",
       "      <td>2020-09-19</td>\n",
       "      <td>2021-09-19</td>\n",
       "      <td>September</td>\n",
       "    </tr>\n",
       "    <tr>\n",
       "      <th>4</th>\n",
       "      <td>Vero</td>\n",
       "      <td>1983-06-01 00:00:00</td>\n",
       "      <td>1983-06-01</td>\n",
       "      <td>1983-06-01</td>\n",
       "      <td>37</td>\n",
       "      <td>2020-06-01</td>\n",
       "      <td>2021-06-01</td>\n",
       "      <td>June</td>\n",
       "    </tr>\n",
       "    <tr>\n",
       "      <th>5</th>\n",
       "      <td>Blanca</td>\n",
       "      <td>1985-01-12 00:00:00</td>\n",
       "      <td>1985-01-12</td>\n",
       "      <td>1985-01-12</td>\n",
       "      <td>35</td>\n",
       "      <td>2020-01-12</td>\n",
       "      <td>2021-01-12</td>\n",
       "      <td>January</td>\n",
       "    </tr>\n",
       "    <tr>\n",
       "      <th>6</th>\n",
       "      <td>Ezequiel</td>\n",
       "      <td>1996-07-03 00:00:00</td>\n",
       "      <td>1996-07-03</td>\n",
       "      <td>1996-07-03</td>\n",
       "      <td>24</td>\n",
       "      <td>2020-07-03</td>\n",
       "      <td>2021-07-03</td>\n",
       "      <td>July</td>\n",
       "    </tr>\n",
       "    <tr>\n",
       "      <th>7</th>\n",
       "      <td>Susanna</td>\n",
       "      <td>1973-03-16 00:00:00</td>\n",
       "      <td>1973-03-16</td>\n",
       "      <td>1973-03-16</td>\n",
       "      <td>47</td>\n",
       "      <td>2020-03-16</td>\n",
       "      <td>2021-03-16</td>\n",
       "      <td>March</td>\n",
       "    </tr>\n",
       "    <tr>\n",
       "      <th>8</th>\n",
       "      <td>Victor</td>\n",
       "      <td>1988-06-09 00:00:00</td>\n",
       "      <td>1988-06-09</td>\n",
       "      <td>1988-06-09</td>\n",
       "      <td>32</td>\n",
       "      <td>2020-06-09</td>\n",
       "      <td>2021-06-09</td>\n",
       "      <td>June</td>\n",
       "    </tr>\n",
       "    <tr>\n",
       "      <th>9</th>\n",
       "      <td>Alex</td>\n",
       "      <td>1991-01-08 00:00:00</td>\n",
       "      <td>1991-01-08</td>\n",
       "      <td>1991-01-08</td>\n",
       "      <td>29</td>\n",
       "      <td>2020-01-08</td>\n",
       "      <td>2021-01-08</td>\n",
       "      <td>January</td>\n",
       "    </tr>\n",
       "    <tr>\n",
       "      <th>10</th>\n",
       "      <td>Aaron</td>\n",
       "      <td>1989-02-05 00:00:00</td>\n",
       "      <td>1989-02-05</td>\n",
       "      <td>1989-02-05</td>\n",
       "      <td>31</td>\n",
       "      <td>2020-02-05</td>\n",
       "      <td>2021-02-05</td>\n",
       "      <td>February</td>\n",
       "    </tr>\n",
       "  </tbody>\n",
       "</table>\n",
       "</div>"
      ],
      "text/plain": [
       "      Nombre                Fecha  fecha_fix   fecha_pd  edad       2020  \\\n",
       "0       Lola           23-06-1991 1991-06-23 1991-06-23    29 2020-06-23   \n",
       "1      Laura           24-08-1986 1986-08-24 1986-08-24    33 2020-08-24   \n",
       "2     Álvaro  1993-09-11 00:00:00 1993-09-11 1993-09-11    26 2020-09-11   \n",
       "3       Anna           19-09-1991 1991-09-19 1991-09-19    28 2020-09-19   \n",
       "4       Vero  1983-06-01 00:00:00 1983-06-01 1983-06-01    37 2020-06-01   \n",
       "5     Blanca  1985-01-12 00:00:00 1985-01-12 1985-01-12    35 2020-01-12   \n",
       "6   Ezequiel  1996-07-03 00:00:00 1996-07-03 1996-07-03    24 2020-07-03   \n",
       "7    Susanna  1973-03-16 00:00:00 1973-03-16 1973-03-16    47 2020-03-16   \n",
       "8     Victor  1988-06-09 00:00:00 1988-06-09 1988-06-09    32 2020-06-09   \n",
       "9       Alex  1991-01-08 00:00:00 1991-01-08 1991-01-08    29 2020-01-08   \n",
       "10     Aaron  1989-02-05 00:00:00 1989-02-05 1989-02-05    31 2020-02-05   \n",
       "\n",
       "         2021        mes  \n",
       "0  2021-06-23       June  \n",
       "1  2021-08-24     August  \n",
       "2  2021-09-11  September  \n",
       "3  2021-09-19  September  \n",
       "4  2021-06-01       June  \n",
       "5  2021-01-12    January  \n",
       "6  2021-07-03       July  \n",
       "7  2021-03-16      March  \n",
       "8  2021-06-09       June  \n",
       "9  2021-01-08    January  \n",
       "10 2021-02-05   February  "
      ]
     },
     "execution_count": 86,
     "metadata": {},
     "output_type": "execute_result"
    }
   ],
   "source": [
    "cumples['mes'] = cumples['fecha_fix'].apply(lambda x: x.strftime('%B'))\n",
    "cumples"
   ]
  },
  {
   "cell_type": "code",
   "execution_count": 87,
   "metadata": {},
   "outputs": [
    {
     "data": {
      "text/plain": [
       "June         3\n",
       "January      2\n",
       "September    2\n",
       "March        1\n",
       "February     1\n",
       "July         1\n",
       "August       1\n",
       "Name: mes, dtype: int64"
      ]
     },
     "execution_count": 87,
     "metadata": {},
     "output_type": "execute_result"
    }
   ],
   "source": [
    "cumples['mes'].value_counts()"
   ]
  },
  {
   "cell_type": "markdown",
   "metadata": {},
   "source": [
    "## 3.- Dia de la semana en las que más personas tendrán su cumpleaños en 2021"
   ]
  },
  {
   "cell_type": "code",
   "execution_count": 89,
   "metadata": {},
   "outputs": [
    {
     "data": {
      "text/plain": [
       "Tuesday      4\n",
       "Wednesday    2\n",
       "Saturday     2\n",
       "Friday       2\n",
       "Sunday       1\n",
       "Name: 2021, dtype: int64"
      ]
     },
     "execution_count": 89,
     "metadata": {},
     "output_type": "execute_result"
    }
   ],
   "source": [
    "cumples['2021'].apply(lambda x: x.strftime('%A')).value_counts()"
   ]
  },
  {
   "cell_type": "markdown",
   "metadata": {},
   "source": [
    "## timedelta"
   ]
  },
  {
   "cell_type": "markdown",
   "metadata": {},
   "source": [
    "Get the current datetime:"
   ]
  },
  {
   "cell_type": "code",
   "execution_count": 90,
   "metadata": {},
   "outputs": [],
   "source": [
    "dt_now = datetime.now()"
   ]
  },
  {
   "cell_type": "markdown",
   "metadata": {},
   "source": [
    "Subtract two datetime fields to create a timedelta:"
   ]
  },
  {
   "cell_type": "code",
   "execution_count": 91,
   "metadata": {},
   "outputs": [
    {
     "data": {
      "text/plain": [
       "datetime.timedelta(days=2006, seconds=13477, microseconds=995149)"
      ]
     },
     "execution_count": 91,
     "metadata": {},
     "output_type": "execute_result"
    }
   ],
   "source": [
    "delta = dt_now - dt\n",
    "delta"
   ]
  },
  {
   "cell_type": "markdown",
   "metadata": {},
   "source": [
    "Add a datetime and a timedelta to get a new datetime:"
   ]
  },
  {
   "cell_type": "code",
   "execution_count": 93,
   "metadata": {},
   "outputs": [
    {
     "data": {
      "text/plain": [
       "datetime.datetime(2020, 7, 23, 11, 12, 52, 995149)"
      ]
     },
     "execution_count": 93,
     "metadata": {},
     "output_type": "execute_result"
    }
   ],
   "source": [
    "dt_now + timedelta(5)"
   ]
  },
  {
   "cell_type": "markdown",
   "metadata": {},
   "source": [
    "## Timezones"
   ]
  },
  {
   "cell_type": "code",
   "execution_count": 94,
   "metadata": {},
   "outputs": [],
   "source": [
    "import pytz"
   ]
  },
  {
   "cell_type": "code",
   "execution_count": 95,
   "metadata": {
    "scrolled": true
   },
   "outputs": [
    {
     "data": {
      "text/plain": [
       "['Africa/Abidjan', 'Africa/Accra', 'Africa/Addis_Ababa', 'Africa/Algiers', 'Africa/Asmara', 'Africa/Asmera', 'Africa/Bamako', 'Africa/Bangui', 'Africa/Banjul', 'Africa/Bissau', 'Africa/Blantyre', 'Africa/Brazzaville', 'Africa/Bujumbura', 'Africa/Cairo', 'Africa/Casablanca', 'Africa/Ceuta', 'Africa/Conakry', 'Africa/Dakar', 'Africa/Dar_es_Salaam', 'Africa/Djibouti', 'Africa/Douala', 'Africa/El_Aaiun', 'Africa/Freetown', 'Africa/Gaborone', 'Africa/Harare', 'Africa/Johannesburg', 'Africa/Juba', 'Africa/Kampala', 'Africa/Khartoum', 'Africa/Kigali', 'Africa/Kinshasa', 'Africa/Lagos', 'Africa/Libreville', 'Africa/Lome', 'Africa/Luanda', 'Africa/Lubumbashi', 'Africa/Lusaka', 'Africa/Malabo', 'Africa/Maputo', 'Africa/Maseru', 'Africa/Mbabane', 'Africa/Mogadishu', 'Africa/Monrovia', 'Africa/Nairobi', 'Africa/Ndjamena', 'Africa/Niamey', 'Africa/Nouakchott', 'Africa/Ouagadougou', 'Africa/Porto-Novo', 'Africa/Sao_Tome', 'Africa/Timbuktu', 'Africa/Tripoli', 'Africa/Tunis', 'Africa/Windhoek', 'America/Adak', 'America/Anchorage', 'America/Anguilla', 'America/Antigua', 'America/Araguaina', 'America/Argentina/Buenos_Aires', 'America/Argentina/Catamarca', 'America/Argentina/ComodRivadavia', 'America/Argentina/Cordoba', 'America/Argentina/Jujuy', 'America/Argentina/La_Rioja', 'America/Argentina/Mendoza', 'America/Argentina/Rio_Gallegos', 'America/Argentina/Salta', 'America/Argentina/San_Juan', 'America/Argentina/San_Luis', 'America/Argentina/Tucuman', 'America/Argentina/Ushuaia', 'America/Aruba', 'America/Asuncion', 'America/Atikokan', 'America/Atka', 'America/Bahia', 'America/Bahia_Banderas', 'America/Barbados', 'America/Belem', 'America/Belize', 'America/Blanc-Sablon', 'America/Boa_Vista', 'America/Bogota', 'America/Boise', 'America/Buenos_Aires', 'America/Cambridge_Bay', 'America/Campo_Grande', 'America/Cancun', 'America/Caracas', 'America/Catamarca', 'America/Cayenne', 'America/Cayman', 'America/Chicago', 'America/Chihuahua', 'America/Coral_Harbour', 'America/Cordoba', 'America/Costa_Rica', 'America/Creston', 'America/Cuiaba', 'America/Curacao', 'America/Danmarkshavn', 'America/Dawson', 'America/Dawson_Creek', 'America/Denver', 'America/Detroit', 'America/Dominica', 'America/Edmonton', 'America/Eirunepe', 'America/El_Salvador', 'America/Ensenada', 'America/Fort_Nelson', 'America/Fort_Wayne', 'America/Fortaleza', 'America/Glace_Bay', 'America/Godthab', 'America/Goose_Bay', 'America/Grand_Turk', 'America/Grenada', 'America/Guadeloupe', 'America/Guatemala', 'America/Guayaquil', 'America/Guyana', 'America/Halifax', 'America/Havana', 'America/Hermosillo', 'America/Indiana/Indianapolis', 'America/Indiana/Knox', 'America/Indiana/Marengo', 'America/Indiana/Petersburg', 'America/Indiana/Tell_City', 'America/Indiana/Vevay', 'America/Indiana/Vincennes', 'America/Indiana/Winamac', 'America/Indianapolis', 'America/Inuvik', 'America/Iqaluit', 'America/Jamaica', 'America/Jujuy', 'America/Juneau', 'America/Kentucky/Louisville', 'America/Kentucky/Monticello', 'America/Knox_IN', 'America/Kralendijk', 'America/La_Paz', 'America/Lima', 'America/Los_Angeles', 'America/Louisville', 'America/Lower_Princes', 'America/Maceio', 'America/Managua', 'America/Manaus', 'America/Marigot', 'America/Martinique', 'America/Matamoros', 'America/Mazatlan', 'America/Mendoza', 'America/Menominee', 'America/Merida', 'America/Metlakatla', 'America/Mexico_City', 'America/Miquelon', 'America/Moncton', 'America/Monterrey', 'America/Montevideo', 'America/Montreal', 'America/Montserrat', 'America/Nassau', 'America/New_York', 'America/Nipigon', 'America/Nome', 'America/Noronha', 'America/North_Dakota/Beulah', 'America/North_Dakota/Center', 'America/North_Dakota/New_Salem', 'America/Nuuk', 'America/Ojinaga', 'America/Panama', 'America/Pangnirtung', 'America/Paramaribo', 'America/Phoenix', 'America/Port-au-Prince', 'America/Port_of_Spain', 'America/Porto_Acre', 'America/Porto_Velho', 'America/Puerto_Rico', 'America/Punta_Arenas', 'America/Rainy_River', 'America/Rankin_Inlet', 'America/Recife', 'America/Regina', 'America/Resolute', 'America/Rio_Branco', 'America/Rosario', 'America/Santa_Isabel', 'America/Santarem', 'America/Santiago', 'America/Santo_Domingo', 'America/Sao_Paulo', 'America/Scoresbysund', 'America/Shiprock', 'America/Sitka', 'America/St_Barthelemy', 'America/St_Johns', 'America/St_Kitts', 'America/St_Lucia', 'America/St_Thomas', 'America/St_Vincent', 'America/Swift_Current', 'America/Tegucigalpa', 'America/Thule', 'America/Thunder_Bay', 'America/Tijuana', 'America/Toronto', 'America/Tortola', 'America/Vancouver', 'America/Virgin', 'America/Whitehorse', 'America/Winnipeg', 'America/Yakutat', 'America/Yellowknife', 'Antarctica/Casey', 'Antarctica/Davis', 'Antarctica/DumontDUrville', 'Antarctica/Macquarie', 'Antarctica/Mawson', 'Antarctica/McMurdo', 'Antarctica/Palmer', 'Antarctica/Rothera', 'Antarctica/South_Pole', 'Antarctica/Syowa', 'Antarctica/Troll', 'Antarctica/Vostok', 'Arctic/Longyearbyen', 'Asia/Aden', 'Asia/Almaty', 'Asia/Amman', 'Asia/Anadyr', 'Asia/Aqtau', 'Asia/Aqtobe', 'Asia/Ashgabat', 'Asia/Ashkhabad', 'Asia/Atyrau', 'Asia/Baghdad', 'Asia/Bahrain', 'Asia/Baku', 'Asia/Bangkok', 'Asia/Barnaul', 'Asia/Beirut', 'Asia/Bishkek', 'Asia/Brunei', 'Asia/Calcutta', 'Asia/Chita', 'Asia/Choibalsan', 'Asia/Chongqing', 'Asia/Chungking', 'Asia/Colombo', 'Asia/Dacca', 'Asia/Damascus', 'Asia/Dhaka', 'Asia/Dili', 'Asia/Dubai', 'Asia/Dushanbe', 'Asia/Famagusta', 'Asia/Gaza', 'Asia/Harbin', 'Asia/Hebron', 'Asia/Ho_Chi_Minh', 'Asia/Hong_Kong', 'Asia/Hovd', 'Asia/Irkutsk', 'Asia/Istanbul', 'Asia/Jakarta', 'Asia/Jayapura', 'Asia/Jerusalem', 'Asia/Kabul', 'Asia/Kamchatka', 'Asia/Karachi', 'Asia/Kashgar', 'Asia/Kathmandu', 'Asia/Katmandu', 'Asia/Khandyga', 'Asia/Kolkata', 'Asia/Krasnoyarsk', 'Asia/Kuala_Lumpur', 'Asia/Kuching', 'Asia/Kuwait', 'Asia/Macao', 'Asia/Macau', 'Asia/Magadan', 'Asia/Makassar', 'Asia/Manila', 'Asia/Muscat', 'Asia/Nicosia', 'Asia/Novokuznetsk', 'Asia/Novosibirsk', 'Asia/Omsk', 'Asia/Oral', 'Asia/Phnom_Penh', 'Asia/Pontianak', 'Asia/Pyongyang', 'Asia/Qatar', 'Asia/Qostanay', 'Asia/Qyzylorda', 'Asia/Rangoon', 'Asia/Riyadh', 'Asia/Saigon', 'Asia/Sakhalin', 'Asia/Samarkand', 'Asia/Seoul', 'Asia/Shanghai', 'Asia/Singapore', 'Asia/Srednekolymsk', 'Asia/Taipei', 'Asia/Tashkent', 'Asia/Tbilisi', 'Asia/Tehran', 'Asia/Tel_Aviv', 'Asia/Thimbu', 'Asia/Thimphu', 'Asia/Tokyo', 'Asia/Tomsk', 'Asia/Ujung_Pandang', 'Asia/Ulaanbaatar', 'Asia/Ulan_Bator', 'Asia/Urumqi', 'Asia/Ust-Nera', 'Asia/Vientiane', 'Asia/Vladivostok', 'Asia/Yakutsk', 'Asia/Yangon', 'Asia/Yekaterinburg', 'Asia/Yerevan', 'Atlantic/Azores', 'Atlantic/Bermuda', 'Atlantic/Canary', 'Atlantic/Cape_Verde', 'Atlantic/Faeroe', 'Atlantic/Faroe', 'Atlantic/Jan_Mayen', 'Atlantic/Madeira', 'Atlantic/Reykjavik', 'Atlantic/South_Georgia', 'Atlantic/St_Helena', 'Atlantic/Stanley', 'Australia/ACT', 'Australia/Adelaide', 'Australia/Brisbane', 'Australia/Broken_Hill', 'Australia/Canberra', 'Australia/Currie', 'Australia/Darwin', 'Australia/Eucla', 'Australia/Hobart', 'Australia/LHI', 'Australia/Lindeman', 'Australia/Lord_Howe', 'Australia/Melbourne', 'Australia/NSW', 'Australia/North', 'Australia/Perth', 'Australia/Queensland', 'Australia/South', 'Australia/Sydney', 'Australia/Tasmania', 'Australia/Victoria', 'Australia/West', 'Australia/Yancowinna', 'Brazil/Acre', 'Brazil/DeNoronha', 'Brazil/East', 'Brazil/West', 'CET', 'CST6CDT', 'Canada/Atlantic', 'Canada/Central', 'Canada/Eastern', 'Canada/Mountain', 'Canada/Newfoundland', 'Canada/Pacific', 'Canada/Saskatchewan', 'Canada/Yukon', 'Chile/Continental', 'Chile/EasterIsland', 'Cuba', 'EET', 'EST', 'EST5EDT', 'Egypt', 'Eire', 'Etc/GMT', 'Etc/GMT+0', 'Etc/GMT+1', 'Etc/GMT+10', 'Etc/GMT+11', 'Etc/GMT+12', 'Etc/GMT+2', 'Etc/GMT+3', 'Etc/GMT+4', 'Etc/GMT+5', 'Etc/GMT+6', 'Etc/GMT+7', 'Etc/GMT+8', 'Etc/GMT+9', 'Etc/GMT-0', 'Etc/GMT-1', 'Etc/GMT-10', 'Etc/GMT-11', 'Etc/GMT-12', 'Etc/GMT-13', 'Etc/GMT-14', 'Etc/GMT-2', 'Etc/GMT-3', 'Etc/GMT-4', 'Etc/GMT-5', 'Etc/GMT-6', 'Etc/GMT-7', 'Etc/GMT-8', 'Etc/GMT-9', 'Etc/GMT0', 'Etc/Greenwich', 'Etc/UCT', 'Etc/UTC', 'Etc/Universal', 'Etc/Zulu', 'Europe/Amsterdam', 'Europe/Andorra', 'Europe/Astrakhan', 'Europe/Athens', 'Europe/Belfast', 'Europe/Belgrade', 'Europe/Berlin', 'Europe/Bratislava', 'Europe/Brussels', 'Europe/Bucharest', 'Europe/Budapest', 'Europe/Busingen', 'Europe/Chisinau', 'Europe/Copenhagen', 'Europe/Dublin', 'Europe/Gibraltar', 'Europe/Guernsey', 'Europe/Helsinki', 'Europe/Isle_of_Man', 'Europe/Istanbul', 'Europe/Jersey', 'Europe/Kaliningrad', 'Europe/Kiev', 'Europe/Kirov', 'Europe/Lisbon', 'Europe/Ljubljana', 'Europe/London', 'Europe/Luxembourg', 'Europe/Madrid', 'Europe/Malta', 'Europe/Mariehamn', 'Europe/Minsk', 'Europe/Monaco', 'Europe/Moscow', 'Europe/Nicosia', 'Europe/Oslo', 'Europe/Paris', 'Europe/Podgorica', 'Europe/Prague', 'Europe/Riga', 'Europe/Rome', 'Europe/Samara', 'Europe/San_Marino', 'Europe/Sarajevo', 'Europe/Saratov', 'Europe/Simferopol', 'Europe/Skopje', 'Europe/Sofia', 'Europe/Stockholm', 'Europe/Tallinn', 'Europe/Tirane', 'Europe/Tiraspol', 'Europe/Ulyanovsk', 'Europe/Uzhgorod', 'Europe/Vaduz', 'Europe/Vatican', 'Europe/Vienna', 'Europe/Vilnius', 'Europe/Volgograd', 'Europe/Warsaw', 'Europe/Zagreb', 'Europe/Zaporozhye', 'Europe/Zurich', 'GB', 'GB-Eire', 'GMT', 'GMT+0', 'GMT-0', 'GMT0', 'Greenwich', 'HST', 'Hongkong', 'Iceland', 'Indian/Antananarivo', 'Indian/Chagos', 'Indian/Christmas', 'Indian/Cocos', 'Indian/Comoro', 'Indian/Kerguelen', 'Indian/Mahe', 'Indian/Maldives', 'Indian/Mauritius', 'Indian/Mayotte', 'Indian/Reunion', 'Iran', 'Israel', 'Jamaica', 'Japan', 'Kwajalein', 'Libya', 'MET', 'MST', 'MST7MDT', 'Mexico/BajaNorte', 'Mexico/BajaSur', 'Mexico/General', 'NZ', 'NZ-CHAT', 'Navajo', 'PRC', 'PST8PDT', 'Pacific/Apia', 'Pacific/Auckland', 'Pacific/Bougainville', 'Pacific/Chatham', 'Pacific/Chuuk', 'Pacific/Easter', 'Pacific/Efate', 'Pacific/Enderbury', 'Pacific/Fakaofo', 'Pacific/Fiji', 'Pacific/Funafuti', 'Pacific/Galapagos', 'Pacific/Gambier', 'Pacific/Guadalcanal', 'Pacific/Guam', 'Pacific/Honolulu', 'Pacific/Johnston', 'Pacific/Kiritimati', 'Pacific/Kosrae', 'Pacific/Kwajalein', 'Pacific/Majuro', 'Pacific/Marquesas', 'Pacific/Midway', 'Pacific/Nauru', 'Pacific/Niue', 'Pacific/Norfolk', 'Pacific/Noumea', 'Pacific/Pago_Pago', 'Pacific/Palau', 'Pacific/Pitcairn', 'Pacific/Pohnpei', 'Pacific/Ponape', 'Pacific/Port_Moresby', 'Pacific/Rarotonga', 'Pacific/Saipan', 'Pacific/Samoa', 'Pacific/Tahiti', 'Pacific/Tarawa', 'Pacific/Tongatapu', 'Pacific/Truk', 'Pacific/Wake', 'Pacific/Wallis', 'Pacific/Yap', 'Poland', 'Portugal', 'ROC', 'ROK', 'Singapore', 'Turkey', 'UCT', 'US/Alaska', 'US/Aleutian', 'US/Arizona', 'US/Central', 'US/East-Indiana', 'US/Eastern', 'US/Hawaii', 'US/Indiana-Starke', 'US/Michigan', 'US/Mountain', 'US/Pacific', 'US/Samoa', 'UTC', 'Universal', 'W-SU', 'WET', 'Zulu']"
      ]
     },
     "execution_count": 95,
     "metadata": {},
     "output_type": "execute_result"
    }
   ],
   "source": [
    "pytz.all_timezones"
   ]
  },
  {
   "cell_type": "code",
   "execution_count": 96,
   "metadata": {},
   "outputs": [
    {
     "data": {
      "text/plain": [
       "'09:15'"
      ]
     },
     "execution_count": 96,
     "metadata": {},
     "output_type": "execute_result"
    }
   ],
   "source": [
    "datetime.now(tz=pytz.UTC).strftime('%H:%M')"
   ]
  },
  {
   "cell_type": "code",
   "execution_count": 97,
   "metadata": {},
   "outputs": [
    {
     "data": {
      "text/plain": [
       "'11:15'"
      ]
     },
     "execution_count": 97,
     "metadata": {},
     "output_type": "execute_result"
    }
   ],
   "source": [
    "datetime.now(tz=pytz.timezone('Europe/Madrid')).strftime('%H:%M')"
   ]
  },
  {
   "cell_type": "code",
   "execution_count": 25,
   "metadata": {},
   "outputs": [
    {
     "name": "stdout",
     "output_type": "stream",
     "text": [
      "Help on function timezone in module pytz:\n",
      "\n",
      "timezone(zone)\n",
      "    Return a datetime.tzinfo implementation for the given timezone\n",
      "    \n",
      "    >>> from datetime import datetime, timedelta\n",
      "    >>> utc = timezone('UTC')\n",
      "    >>> eastern = timezone('US/Eastern')\n",
      "    >>> eastern.zone\n",
      "    'US/Eastern'\n",
      "    >>> timezone(unicode('US/Eastern')) is eastern\n",
      "    True\n",
      "    >>> utc_dt = datetime(2002, 10, 27, 6, 0, 0, tzinfo=utc)\n",
      "    >>> loc_dt = utc_dt.astimezone(eastern)\n",
      "    >>> fmt = '%Y-%m-%d %H:%M:%S %Z (%z)'\n",
      "    >>> loc_dt.strftime(fmt)\n",
      "    '2002-10-27 01:00:00 EST (-0500)'\n",
      "    >>> (loc_dt - timedelta(minutes=10)).strftime(fmt)\n",
      "    '2002-10-27 00:50:00 EST (-0500)'\n",
      "    >>> eastern.normalize(loc_dt - timedelta(minutes=10)).strftime(fmt)\n",
      "    '2002-10-27 01:50:00 EDT (-0400)'\n",
      "    >>> (loc_dt + timedelta(minutes=10)).strftime(fmt)\n",
      "    '2002-10-27 01:10:00 EST (-0500)'\n",
      "    \n",
      "    Raises UnknownTimeZoneError if passed an unknown zone.\n",
      "    \n",
      "    >>> try:\n",
      "    ...     timezone('Asia/Shangri-La')\n",
      "    ... except UnknownTimeZoneError:\n",
      "    ...     print('Unknown')\n",
      "    Unknown\n",
      "    \n",
      "    >>> try:\n",
      "    ...     timezone(unicode('\\N{TRADE MARK SIGN}'))\n",
      "    ... except UnknownTimeZoneError:\n",
      "    ...     print('Unknown')\n",
      "    Unknown\n",
      "\n"
     ]
    }
   ],
   "source": [
    "help(pytz.timezone)"
   ]
  }
 ],
 "metadata": {
  "kernelspec": {
   "display_name": "Ironhack",
   "language": "python",
   "name": "ironhack"
  },
  "language_info": {
   "codemirror_mode": {
    "name": "ipython",
    "version": 3
   },
   "file_extension": ".py",
   "mimetype": "text/x-python",
   "name": "python",
   "nbconvert_exporter": "python",
   "pygments_lexer": "ipython3",
   "version": "3.7.5"
  }
 },
 "nbformat": 4,
 "nbformat_minor": 1
}
