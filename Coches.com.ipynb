{
 "cells": [
  {
   "cell_type": "code",
   "execution_count": 1,
   "metadata": {},
   "outputs": [],
   "source": [
    "import pandas as pd\n",
    "import requests\n",
    "from bs4 import BeautifulSoup"
   ]
  },
  {
   "cell_type": "code",
   "execution_count": 13,
   "metadata": {},
   "outputs": [],
   "source": [
    "coches = []\n",
    "\n",
    "for page in range(6):\n",
    "    url = f'https://www.coches.com/coches-segunda-mano/coches-ocasion-en-barcelona.htm?precio_hasta=1000&page={page}'\n",
    "    html = requests.get(url).text\n",
    "    soup = BeautifulSoup(html, 'html.parser')\n",
    "    pills = soup.findAll('div', {\"class\":\"script__pill\"})\n",
    "\n",
    "    for pill in pills:\n",
    "        coches.append ({\n",
    "            'modelo': pill.find('strong', {'class':'make-model-version'}).text,\n",
    "            'precio': pill.find('strong', {'class':'price'}).text,\n",
    "            'foto': pill.find('img').get('src')\n",
    "        })\n",
    "    \n",
    "coches_df = pd.DataFrame(coches)\n",
    "coches_df"
   ]
  },
  {
   "cell_type": "code",
   "execution_count": null,
   "metadata": {},
   "outputs": [],
   "source": []
  }
 ],
 "metadata": {
  "kernelspec": {
   "display_name": "Ironhack",
   "language": "python",
   "name": "ironhack"
  },
  "language_info": {
   "codemirror_mode": {
    "name": "ipython",
    "version": 3
   },
   "file_extension": ".py",
   "mimetype": "text/x-python",
   "name": "python",
   "nbconvert_exporter": "python",
   "pygments_lexer": "ipython3",
   "version": "3.7.5"
  }
 },
 "nbformat": 4,
 "nbformat_minor": 4
}
