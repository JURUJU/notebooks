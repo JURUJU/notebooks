{
 "cells": [
  {
   "cell_type": "markdown",
   "metadata": {},
   "source": [
    "# XPath"
   ]
  },
  {
   "cell_type": "code",
   "execution_count": 1,
   "metadata": {},
   "outputs": [],
   "source": [
    "import lxml.etree\n",
    "import lxml.html\n",
    "import requests"
   ]
  },
  {
   "cell_type": "markdown",
   "metadata": {},
   "source": [
    "## Demonstrating xpath on HTML"
   ]
  },
  {
   "cell_type": "markdown",
   "metadata": {},
   "source": [
    "Let's check http://www.ianhopkinson.org.uk"
   ]
  },
  {
   "cell_type": "code",
   "execution_count": 5,
   "metadata": {},
   "outputs": [],
   "source": [
    "r = requests.get(\"http://www.ianhopkinson.org.uk\")\n"
   ]
  },
  {
   "cell_type": "code",
   "execution_count": null,
   "metadata": {},
   "outputs": [],
   "source": [
    "from IPython.core.display import display, HTML\n",
    "display(HTML(r.text))"
   ]
  },
  {
   "cell_type": "code",
   "execution_count": null,
   "metadata": {},
   "outputs": [],
   "source": [
    "root = lxml.html.fromstring(r.content)"
   ]
  },
  {
   "cell_type": "markdown",
   "metadata": {},
   "source": [
    "## Specifying a complete path with / as separator\n",
    "\n",
    "`title = root.xpath('/html/body/div/div/div[2]/h1')`\n",
    "\n",
    "is the full path to my blog title. Notice how we request the 2nd element of the third set of div elements using div[2] – xpath arrays are one-based, not zero-based."
   ]
  },
  {
   "cell_type": "code",
   "execution_count": 6,
   "metadata": {},
   "outputs": [],
   "source": [
    "title = root.xpath('/html/body/div/div/div[2]/h1') "
   ]
  },
  {
   "cell_type": "code",
   "execution_count": 7,
   "metadata": {},
   "outputs": [
    {
     "data": {
      "text/plain": [
       "[<Element h1 at 0x7f70ccb87d70>]"
      ]
     },
     "execution_count": 7,
     "metadata": {},
     "output_type": "execute_result"
    }
   ],
   "source": [
    "title"
   ]
  },
  {
   "cell_type": "code",
   "execution_count": 9,
   "metadata": {},
   "outputs": [
    {
     "data": {
      "text/plain": [
       "'SomeBeans'"
      ]
     },
     "execution_count": 9,
     "metadata": {},
     "output_type": "execute_result"
    }
   ],
   "source": [
    "title[0].text.strip()"
   ]
  },
  {
   "cell_type": "code",
   "execution_count": 12,
   "metadata": {},
   "outputs": [
    {
     "name": "stdout",
     "output_type": "stream",
     "text": [
      "My blog title is: 'SomeBeans'\n"
     ]
    }
   ],
   "source": [
    "print(\"My blog title is: '{}'\".format(title[0].text.strip()))"
   ]
  },
  {
   "cell_type": "markdown",
   "metadata": {},
   "source": [
    "## Specifying a path with wildcards using //\n",
    "\n",
    "This expression also finds the title but the preamble of /html/body/div/div is absorbed by the // wildcard match:\n",
    "\n",
    "`title = root.xpath('//div[2]/h1')`\n",
    "\n",
    "To obtain the text of the title in Python, rather than an element object, we would do:\n",
    "\n",
    "`title_text = title[0].text.strip()` or maybe `title_text = title[0].text_content().strip()`\n",
    "\n",
    "text_content() would pick up any tail content, and any text in child elements. I use strip() here to remove leading and trailing whitespace"
   ]
  },
  {
   "cell_type": "code",
   "execution_count": 13,
   "metadata": {},
   "outputs": [
    {
     "data": {
      "text/plain": [
       "'SomeBeans'"
      ]
     },
     "execution_count": 13,
     "metadata": {},
     "output_type": "execute_result"
    }
   ],
   "source": [
    "title = root.xpath('//div[2]/h1') \n",
    "title[0].text_content().strip()\n"
   ]
  },
  {
   "cell_type": "markdown",
   "metadata": {},
   "source": [
    "## Selecting attribute values\n",
    "\n",
    "We’ve seen that //element selects all of the elements of type “element”. We select attribute values like this:\n",
    "\n",
    "`ids = root.xpath('//li/@id')`\n",
    "\n",
    "which selects the id attribute from the list elements (li) on my blog\n",
    "\n",
    "We can get the id attributes of all the `<li>` elements. "
   ]
  },
  {
   "cell_type": "code",
   "execution_count": 14,
   "metadata": {},
   "outputs": [],
   "source": [
    "ids = root.xpath('//li/@id')"
   ]
  },
  {
   "cell_type": "code",
   "execution_count": 16,
   "metadata": {},
   "outputs": [
    {
     "name": "stdout",
     "output_type": "stream",
     "text": [
      "There are 9 of them, the first one is menu-item-1033\n"
     ]
    }
   ],
   "source": [
    "print(\"There are {} of them, the first one is {}\".format(len(ids), ids[0]))"
   ]
  },
  {
   "cell_type": "markdown",
   "metadata": {},
   "source": [
    "## Specifying an element by attribute\n",
    "\n",
    "We can select elements which have particular attribute values:\n",
    "\n",
    "`tagcloud = root.xpath('//*[@class=\"tagcloud\"]')`\n",
    "\n",
    "this selects the tag cloud on my blog by selecting elements which having the class attribute **tagcloud**."
   ]
  },
  {
   "cell_type": "code",
   "execution_count": 18,
   "metadata": {},
   "outputs": [
    {
     "data": {
      "text/plain": [
       "[<Element div at 0x7f70ccb66a70>]"
      ]
     },
     "execution_count": 18,
     "metadata": {},
     "output_type": "execute_result"
    }
   ],
   "source": [
    "tagcloud = root.xpath('//*[@class=\"tagcloud\"]') \n",
    "tagcloud"
   ]
  },
  {
   "cell_type": "markdown",
   "metadata": {},
   "source": [
    "## Select an element containing some specified text\n",
    "\n",
    "We can do something similar with the text content of an element:\n",
    "\n",
    "`title = root.xpath(‘//h1[contains(., ‘SomeBeans’)]’)` "
   ]
  },
  {
   "cell_type": "code",
   "execution_count": 22,
   "metadata": {},
   "outputs": [
    {
     "data": {
      "text/plain": [
       "'SomeBeans'"
      ]
     },
     "execution_count": 22,
     "metadata": {},
     "output_type": "execute_result"
    }
   ],
   "source": [
    "title = root.xpath(\"//h1[contains(., 'SomeBeans')]\")\n",
    "title[0].text.strip()\n"
   ]
  },
  {
   "cell_type": "markdown",
   "metadata": {},
   "source": [
    "## Select via a parent or sibling relationship\n",
    "\n",
    "Sometimes we want to select elements by their relationship to another element, for example:\n",
    "\n",
    "`subtitle = root.xpath('//h1[contains(@class,\"header_title\")]/../h2')`\n",
    "\n",
    "this selects the h1 title of my blog (SomeBeans) then navigates to the parent with .. and selects the sibling h2 element (the subtitle “the makings of a small casserole”).\n"
   ]
  },
  {
   "cell_type": "code",
   "execution_count": 20,
   "metadata": {},
   "outputs": [
    {
     "data": {
      "text/plain": [
       "'…the makings of a small casserole'"
      ]
     },
     "execution_count": 20,
     "metadata": {},
     "output_type": "execute_result"
    }
   ],
   "source": [
    "subtitle = root.xpath('//h1[contains(@class,\"header_title\")]/../h2')\n",
    "subtitle[0].text.strip()\n"
   ]
  },
  {
   "cell_type": "markdown",
   "metadata": {},
   "source": [
    "Or we can use **following-sibling** to same effect:"
   ]
  },
  {
   "cell_type": "code",
   "execution_count": 23,
   "metadata": {},
   "outputs": [
    {
     "data": {
      "text/plain": [
       "'…the makings of a small casserole'"
      ]
     },
     "execution_count": 23,
     "metadata": {},
     "output_type": "execute_result"
    }
   ],
   "source": [
    "subtitle = root.xpath('//h1[contains(@class,\"header_title\")]/following-sibling::h2')\n",
    "subtitle[0].text.strip()\n"
   ]
  },
  {
   "cell_type": "markdown",
   "metadata": {},
   "source": [
    "# XML Namespaces"
   ]
  },
  {
   "cell_type": "markdown",
   "metadata": {},
   "source": [
    "\n",
    "When dealing with XML, we need to worry about namespaces. In principle the elements of an XML document are described in a schema which can be looked up and is universally unique. In practice the use of namespaces in XML documents can lead to much banging head against wall! This is largely because trivial examples of XML wrangling don’t use namespaces, except as a “special” example.\n",
    "\n",
    "Here is a fragment of XML defining two namespaces:\n",
    "\n",
    "`<foo:Results xmlns:foo=\"http://www.foo.com\" xmlns=\"http://www.bah.com\">`\n",
    "\n",
    "xmlns:foo defines a namespace whose short form is “foo”, we select elements in this space using a namespace parameter to the xpath query:\n",
    "\n",
    "`records = root.xpath('//foo:Title', namespaces = {\"foo\": \"http://www.foo.com\"})`\n",
    "\n",
    "The “catch” here is we also define a default namespace xmlns = “http://www.bah.com”, which means that elements which don’t have a prefix cannot be selected unless we define the namespace in our xpath:\n",
    "\n",
    "`records = root.xpath('//bah:Title', namespaces = {\"bah\": http://www.bah.com})`\n",
    "\n",
    "Worse than that we need to include our namespace prefix in the query, even though it doesn’t appear in the file!"
   ]
  },
  {
   "cell_type": "markdown",
   "metadata": {},
   "source": [
    "## Demonstrating xpath on XML"
   ]
  },
  {
   "cell_type": "code",
   "execution_count": 25,
   "metadata": {},
   "outputs": [],
   "source": [
    "\n",
    "xml_sample = \"\"\"<?xml version=\"1.0\" encoding=\"UTF-8\"?>\n",
    "<foo:Results xmlns:foo=\"http://www.foo.com\" xmlns=\"http://www.bah.com\">\n",
    "<foo:Recordset setCount=\"2\">\n",
    "<foo:Record setEntry=\"0\">\n",
    "<foo:Title>First title</foo:Title>\n",
    "</foo:Record>\n",
    "<foo:Record setEntry=\"1\">\n",
    "<foo:Title>Second title</foo:Title>\n",
    "</foo:Record>\n",
    "<Record setEntry=\"2\">\n",
    "<Title>Third title</Title>\n",
    "</Record>\n",
    "<Record setEntry=\"3\">\n",
    "<Title>Fourth title</Title>\n",
    "</Record>\n",
    "</foo:Recordset>\n",
    "</foo:Results>\n",
    "\"\"\".encode(\"utf-8\")"
   ]
  },
  {
   "cell_type": "markdown",
   "metadata": {},
   "source": [
    "## Processing XML is pretty similar except for namespaces"
   ]
  },
  {
   "cell_type": "code",
   "execution_count": 27,
   "metadata": {},
   "outputs": [],
   "source": [
    "namespace = \"http://www.foo.com\"\n",
    "namespace_c = \"{\" + namespace + \"}\"\n",
    "NSMAP = {\"foo\": namespace}\n",
    "root = lxml.etree.fromstring(xml_sample)"
   ]
  },
  {
   "cell_type": "markdown",
   "metadata": {},
   "source": [
    "### These are the elements defined by the XML string at the top of this program"
   ]
  },
  {
   "cell_type": "code",
   "execution_count": 32,
   "metadata": {},
   "outputs": [
    {
     "name": "stdout",
     "output_type": "stream",
     "text": [
      "Attributes are easy, this is the @setCount: 2\n"
     ]
    }
   ],
   "source": [
    "record_count = root.xpath('//@setCount')[0]\n",
    "\n",
    "print(\"Attributes are easy, this is the @setCount: {}\".format(record_count))"
   ]
  },
  {
   "cell_type": "code",
   "execution_count": 29,
   "metadata": {},
   "outputs": [
    {
     "name": "stdout",
     "output_type": "stream",
     "text": [
      "{http://www.foo.com}Results\n",
      "{http://www.foo.com}Recordset\n",
      "{http://www.foo.com}Record\n",
      "{http://www.foo.com}Title\n",
      "{http://www.foo.com}Record\n",
      "{http://www.foo.com}Title\n",
      "{http://www.bah.com}Record\n",
      "{http://www.bah.com}Title\n",
      "{http://www.bah.com}Record\n",
      "{http://www.bah.com}Title\n"
     ]
    }
   ],
   "source": [
    "for i, element in enumerate(root.getiterator()):\n",
    "    print(element.tag)"
   ]
  },
  {
   "cell_type": "markdown",
   "metadata": {},
   "source": [
    "### We can select elements by defining a namespace in our queries"
   ]
  },
  {
   "cell_type": "code",
   "execution_count": 30,
   "metadata": {},
   "outputs": [
    {
     "name": "stdout",
     "output_type": "stream",
     "text": [
      "We can select elements by defining a namespace in our queries\n",
      "First title\n",
      "Second title\n"
     ]
    }
   ],
   "source": [
    "records = root.xpath('//foo:Title', namespaces = {\"foo\": \"http://www.foo.com\"})\n",
    "for record in records:\n",
    "    print(record.text)\n"
   ]
  },
  {
   "cell_type": "markdown",
   "metadata": {},
   "source": [
    "### Without defining the default namespace, we get nothing"
   ]
  },
  {
   "cell_type": "code",
   "execution_count": 31,
   "metadata": {},
   "outputs": [],
   "source": [
    "records = root.xpath('//Title')    \n",
    "for record in records:\n",
    "    print(record.text)"
   ]
  },
  {
   "cell_type": "markdown",
   "metadata": {},
   "source": [
    "### With the default namespace, we get something"
   ]
  },
  {
   "cell_type": "code",
   "execution_count": 33,
   "metadata": {},
   "outputs": [
    {
     "name": "stdout",
     "output_type": "stream",
     "text": [
      "Element name: {http://www.bah.com}Title, element text 'Third title'\n",
      "Element name: {http://www.bah.com}Title, element text 'Fourth title'\n"
     ]
    }
   ],
   "source": [
    "records = root.xpath('//bah:Title', namespaces = {\"bah\": \"http://www.bah.com\"})    \n",
    "for record in records:\n",
    "    print(\"Element name: {}, element text '{}'\".format(record.tag, record.text))"
   ]
  }
 ],
 "metadata": {
  "kernelspec": {
   "display_name": "Ironhack",
   "language": "python",
   "name": "ironhack"
  },
  "language_info": {
   "codemirror_mode": {
    "name": "ipython",
    "version": 3
   },
   "file_extension": ".py",
   "mimetype": "text/x-python",
   "name": "python",
   "nbconvert_exporter": "python",
   "pygments_lexer": "ipython3",
   "version": "3.7.5"
  }
 },
 "nbformat": 4,
 "nbformat_minor": 4
}
