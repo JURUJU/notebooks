{
 "cells": [
  {
   "cell_type": "markdown",
   "metadata": {
    "toc": true
   },
   "source": [
    "<h1>Table of Contents<span class=\"tocSkip\"></span></h1>\n",
    "<div class=\"toc\"><ul class=\"toc-item\"><li><span><a href=\"#Generate-a-Dataset\" data-toc-modified-id=\"Generate-a-Dataset-1\"><span class=\"toc-item-num\">1&nbsp;&nbsp;</span>Generate a Dataset</a></span></li><li><span><a href=\"#Compare-by-Means\" data-toc-modified-id=\"Compare-by-Means-2\"><span class=\"toc-item-num\">2&nbsp;&nbsp;</span>Compare by Means</a></span></li><li><span><a href=\"#Compare-by-Distplots\" data-toc-modified-id=\"Compare-by-Distplots-3\"><span class=\"toc-item-num\">3&nbsp;&nbsp;</span>Compare by Distplots</a></span></li><li><span><a href=\"#Compare-by-Boxplots\" data-toc-modified-id=\"Compare-by-Boxplots-4\"><span class=\"toc-item-num\">4&nbsp;&nbsp;</span>Compare by Boxplots</a></span></li><li><span><a href=\"#Compare-by-T-Tests\" data-toc-modified-id=\"Compare-by-T-Tests-5\"><span class=\"toc-item-num\">5&nbsp;&nbsp;</span>Compare by T-Tests</a></span></li></ul></div>"
   ]
  },
  {
   "cell_type": "code",
   "execution_count": 1,
   "metadata": {},
   "outputs": [],
   "source": [
    "import numpy as np\n",
    "import scipy as sp\n",
    "import pandas as pd\n",
    "import statsmodels.api as sm\n",
    "import statsmodels.formula.api as smf\n",
    "import matplotlib as mpl\n",
    "import matplotlib.pyplot as plt\n",
    "import seaborn as sns\n",
    "import IPython as ip\n"
   ]
  },
  {
   "cell_type": "markdown",
   "metadata": {},
   "source": [
    "# Generate a Dataset"
   ]
  },
  {
   "cell_type": "code",
   "execution_count": 3,
   "metadata": {},
   "outputs": [],
   "source": [
    "# pd.Series(...) is just like a column in excel\n",
    "# norm.rvs(loc=mu, scale=sigma, size=n) === sample n from N(mu, sigma)\n",
    "group_ctl = pd.Series(name='height', data=sp.stats.norm.rvs(loc=170, scale=5, size=100))\n",
    "group_exp_1 = pd.Series(name='height', data=sp.stats.norm.rvs(loc=170, scale=5, size=100))\n",
    "group_exp_2 = pd.Series(name='height', data=sp.stats.norm.rvs(loc=170+2, scale=5, size=100))"
   ]
  },
  {
   "cell_type": "code",
   "execution_count": 4,
   "metadata": {},
   "outputs": [
    {
     "data": {
      "text/plain": [
       "0    172.064285\n",
       "1    165.201397\n",
       "2    165.054554\n",
       "3    175.193599\n",
       "4    178.273799\n",
       "Name: height, dtype: float64"
      ]
     },
     "execution_count": 4,
     "metadata": {},
     "output_type": "execute_result"
    }
   ],
   "source": [
    "group_ctl.head()"
   ]
  },
  {
   "cell_type": "code",
   "execution_count": 5,
   "metadata": {},
   "outputs": [
    {
     "data": {
      "text/plain": [
       "0    175.161787\n",
       "1    164.311062\n",
       "2    168.988530\n",
       "3    169.750208\n",
       "4    183.498890\n",
       "Name: height, dtype: float64"
      ]
     },
     "execution_count": 5,
     "metadata": {},
     "output_type": "execute_result"
    }
   ],
   "source": [
    "group_exp_1.head()"
   ]
  },
  {
   "cell_type": "code",
   "execution_count": 6,
   "metadata": {},
   "outputs": [
    {
     "data": {
      "text/plain": [
       "0    170.644002\n",
       "1    180.821029\n",
       "2    171.914568\n",
       "3    177.850488\n",
       "4    181.219505\n",
       "Name: height, dtype: float64"
      ]
     },
     "execution_count": 6,
     "metadata": {},
     "output_type": "execute_result"
    }
   ],
   "source": [
    "group_exp_2.head()"
   ]
  },
  {
   "cell_type": "markdown",
   "metadata": {},
   "source": [
    "# Compare by Means"
   ]
  },
  {
   "cell_type": "code",
   "execution_count": 7,
   "metadata": {},
   "outputs": [
    {
     "data": {
      "text/plain": [
       "count    100.000000\n",
       "mean     169.392112\n",
       "std        5.338534\n",
       "min      157.757970\n",
       "25%      165.932284\n",
       "50%      168.850218\n",
       "75%      173.299571\n",
       "max      184.731558\n",
       "Name: height, dtype: float64"
      ]
     },
     "execution_count": 7,
     "metadata": {},
     "output_type": "execute_result"
    }
   ],
   "source": [
    "group_ctl.describe()"
   ]
  },
  {
   "cell_type": "code",
   "execution_count": 8,
   "metadata": {},
   "outputs": [
    {
     "data": {
      "text/plain": [
       "count    100.000000\n",
       "mean     169.717742\n",
       "std        4.873953\n",
       "min      159.086083\n",
       "25%      166.296022\n",
       "50%      169.867909\n",
       "75%      172.768807\n",
       "max      183.498890\n",
       "Name: height, dtype: float64"
      ]
     },
     "execution_count": 8,
     "metadata": {},
     "output_type": "execute_result"
    }
   ],
   "source": [
    "group_exp_1.describe()"
   ]
  },
  {
   "cell_type": "code",
   "execution_count": 9,
   "metadata": {},
   "outputs": [
    {
     "data": {
      "text/plain": [
       "count    100.000000\n",
       "mean     172.130223\n",
       "std        5.236093\n",
       "min      158.243881\n",
       "25%      169.242408\n",
       "50%      172.103255\n",
       "75%      175.486555\n",
       "max      185.141542\n",
       "Name: height, dtype: float64"
      ]
     },
     "execution_count": 9,
     "metadata": {},
     "output_type": "execute_result"
    }
   ],
   "source": [
    "group_exp_2.describe()"
   ]
  },
  {
   "cell_type": "code",
   "execution_count": 10,
   "metadata": {},
   "outputs": [
    {
     "data": {
      "text/plain": [
       "True"
      ]
     },
     "execution_count": 10,
     "metadata": {},
     "output_type": "execute_result"
    }
   ],
   "source": [
    "group_exp_1.mean() > group_ctl.mean()"
   ]
  },
  {
   "cell_type": "code",
   "execution_count": 11,
   "metadata": {},
   "outputs": [
    {
     "data": {
      "text/plain": [
       "True"
      ]
     },
     "execution_count": 11,
     "metadata": {},
     "output_type": "execute_result"
    }
   ],
   "source": [
    "group_exp_2.mean() > group_ctl.mean()"
   ]
  },
  {
   "cell_type": "markdown",
   "metadata": {},
   "source": [
    "# Compare by Distplots"
   ]
  },
  {
   "cell_type": "code",
   "execution_count": 10,
   "metadata": {},
   "outputs": [
    {
     "data": {
      "text/plain": [
       "<matplotlib.legend.Legend at 0x7f905dc3dcf8>"
      ]
     },
     "execution_count": 10,
     "metadata": {},
     "output_type": "execute_result"
    },
    {
     "data": {
      "image/png": "[encoded data removed]",
      "text/plain": [
       "<Figure size 432x288 with 1 Axes>"
      ]
     },
     "metadata": {
      "needs_background": "light"
     },
     "output_type": "display_data"
    }
   ],
   "source": [
    "sns.distplot(group_ctl)\n",
    "sns.distplot(group_exp_1)\n",
    "plt.legend(['Control', 'Experimental 1'])"
   ]
  },
  {
   "cell_type": "code",
   "execution_count": 11,
   "metadata": {},
   "outputs": [
    {
     "data": {
      "text/plain": [
       "<matplotlib.legend.Legend at 0x7f905d71fbe0>"
      ]
     },
     "execution_count": 11,
     "metadata": {},
     "output_type": "execute_result"
    },
    {
     "data": {
      "image/png": "[encoded data removed]",
      "text/plain": [
       "<Figure size 432x288 with 1 Axes>"
      ]
     },
     "metadata": {
      "needs_background": "light"
     },
     "output_type": "display_data"
    }
   ],
   "source": [
    "sns.distplot(group_ctl)\n",
    "sns.distplot(group_exp_2)\n",
    "plt.legend(['Control', 'Experimental 2'])"
   ]
  },
  {
   "cell_type": "markdown",
   "metadata": {},
   "source": [
    "# Compare by Boxplots"
   ]
  },
  {
   "cell_type": "code",
   "execution_count": 12,
   "metadata": {},
   "outputs": [
    {
     "data": {
      "text/plain": [
       "<matplotlib.axes._subplots.AxesSubplot at 0x7f905d684668>"
      ]
     },
     "execution_count": 12,
     "metadata": {},
     "output_type": "execute_result"
    },
    {
     "data": {
      "image/png": "[encoded data removed]",
      "text/plain": [
       "<Figure size 432x288 with 1 Axes>"
      ]
     },
     "metadata": {
      "needs_background": "light"
     },
     "output_type": "display_data"
    }
   ],
   "source": [
    "sns.boxplot(data=[group_ctl, group_exp_1, group_exp_2], notch=True)"
   ]
  },
  {
   "cell_type": "markdown",
   "metadata": {},
   "source": [
    "* Box: $Q_1$ to $Q_3$ = 25th to 75th percentile = middle 50% of data.\n",
    "* Line: the median = the 50th percentile.\n",
    "* Whiskers:\n",
    "    * $ Q_1 - 1.5 IQR $, where $ IQR = Q_3 - Q_1 $.\n",
    "    * $ Q_3 + 1.5 IQR $.\n",
    "    * = middle 99.3% if data follow a normal distribution.\n",
    "* Points: out of middle 99.3% if data follow a normal distribution, may be outliers.\n",
    "* Notch: $ median \\pm 1.57\\dfrac{IQR}{\\sqrt{n}} $ = 95% confidence interval for the median.\n",
    "    * The 95% confidence interval for the median also can be bootstrapped.\n",
    "    * The 95% confidence interval also can be “for mean” in other plots.\n",
    "    * If the notches don't overlap, may be different significantly."
   ]
  },
  {
   "cell_type": "markdown",
   "metadata": {},
   "source": [
    "# Compare by T-Tests"
   ]
  },
  {
   "cell_type": "code",
   "execution_count": 13,
   "metadata": {},
   "outputs": [],
   "source": [
    "alpha = 0.05"
   ]
  },
  {
   "cell_type": "code",
   "execution_count": 16,
   "metadata": {},
   "outputs": [
    {
     "name": "stdout",
     "output_type": "stream",
     "text": [
      "Ttest_indResult(statistic=-0.4099072017185312, pvalue=0.6823171712742595)\n",
      "False\n"
     ]
    }
   ],
   "source": [
    "r = sp.stats.ttest_ind(group_ctl, group_exp_1)\n",
    "print(r)\n",
    "print(r.pvalue < alpha)"
   ]
  },
  {
   "cell_type": "code",
   "execution_count": 17,
   "metadata": {},
   "outputs": [
    {
     "name": "stdout",
     "output_type": "stream",
     "text": [
      "Ttest_indResult(statistic=-3.1959130447343154, pvalue=0.001622421465212757)\n",
      "True\n"
     ]
    }
   ],
   "source": [
    "r = sp.stats.ttest_ind(group_ctl, group_exp_2)\n",
    "print(r)\n",
    "print(r.pvalue < alpha)"
   ]
  }
 ],
 "metadata": {
  "kernelspec": {
   "display_name": "Ironhack",
   "language": "python",
   "name": "ironhack"
  },
  "language_info": {
   "codemirror_mode": {
    "name": "ipython",
    "version": 3
   },
   "file_extension": ".py",
   "mimetype": "text/x-python",
   "name": "python",
   "nbconvert_exporter": "python",
   "pygments_lexer": "ipython3",
   "version": "3.7.5"
  },
  "toc": {
   "base_numbering": 1,
   "nav_menu": {},
   "number_sections": true,
   "sideBar": true,
   "skip_h1_title": false,
   "title_cell": "Table of Contents",
   "title_sidebar": "Contents",
   "toc_cell": true,
   "toc_position": {},
   "toc_section_display": "block",
   "toc_window_display": false
  }
 },
 "nbformat": 4,
 "nbformat_minor": 2
}
