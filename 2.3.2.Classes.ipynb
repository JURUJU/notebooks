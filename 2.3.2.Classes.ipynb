{
 "cells": [
  {
   "cell_type": "markdown",
   "id": "tired-robert",
   "metadata": {
    "toc": true
   },
   "source": [
    "<h1>Table of Contents<span class=\"tocSkip\"></span></h1>\n",
    "<div class=\"toc\"><ul class=\"toc-item\"><li><span><a href=\"#Functions\" data-toc-modified-id=\"Functions-1\"><span class=\"toc-item-num\">1&nbsp;&nbsp;</span>Functions</a></span><ul class=\"toc-item\"><li><span><a href=\"#args-and-*kwargs\" data-toc-modified-id=\"args-and-*kwargs-1.1\"><span class=\"toc-item-num\">1.1&nbsp;&nbsp;</span><em>args and *</em>kwargs</a></span></li></ul></li><li><span><a href=\"#Classes\" data-toc-modified-id=\"Classes-2\"><span class=\"toc-item-num\">2&nbsp;&nbsp;</span>Classes</a></span><ul class=\"toc-item\"><li><span><a href=\"#Class-definition:-constructr-and-attributes\" data-toc-modified-id=\"Class-definition:-constructr-and-attributes-2.1\"><span class=\"toc-item-num\">2.1&nbsp;&nbsp;</span>Class definition: constructr and attributes</a></span></li><li><span><a href=\"#Methods\" data-toc-modified-id=\"Methods-2.2\"><span class=\"toc-item-num\">2.2&nbsp;&nbsp;</span>Methods</a></span></li><li><span><a href=\"#Using-dates\" data-toc-modified-id=\"Using-dates-2.3\"><span class=\"toc-item-num\">2.3&nbsp;&nbsp;</span>Using dates</a></span><ul class=\"toc-item\"><li><span><a href=\"#Calculating-your-age\" data-toc-modified-id=\"Calculating-your-age-2.3.1\"><span class=\"toc-item-num\">2.3.1&nbsp;&nbsp;</span>Calculating your age</a></span></li></ul></li><li><span><a href=\"#More-complex-class\" data-toc-modified-id=\"More-complex-class-2.4\"><span class=\"toc-item-num\">2.4&nbsp;&nbsp;</span>More complex class</a></span></li><li><span><a href=\"#repr-and-str\" data-toc-modified-id=\"repr-and-str-2.5\"><span class=\"toc-item-num\">2.5&nbsp;&nbsp;</span><strong>repr</strong> and <strong>str</strong></a></span></li><li><span><a href=\"#Inheritance\" data-toc-modified-id=\"Inheritance-2.6\"><span class=\"toc-item-num\">2.6&nbsp;&nbsp;</span>Inheritance</a></span><ul class=\"toc-item\"><li><span><a href=\"#Advantages-of-a-common-API\" data-toc-modified-id=\"Advantages-of-a-common-API-2.6.1\"><span class=\"toc-item-num\">2.6.1&nbsp;&nbsp;</span>Advantages of a common API</a></span></li><li><span><a href=\"#Rewriting-constructor\" data-toc-modified-id=\"Rewriting-constructor-2.6.2\"><span class=\"toc-item-num\">2.6.2&nbsp;&nbsp;</span>Rewriting constructor</a></span></li></ul></li></ul></li></ul></div>"
   ]
  },
  {
   "cell_type": "markdown",
   "id": "whole-forge",
   "metadata": {},
   "source": [
    "# Functions"
   ]
  },
  {
   "cell_type": "markdown",
   "id": "metric-illinois",
   "metadata": {},
   "source": [
    "## *args and **kwargs"
   ]
  },
  {
   "cell_type": "code",
   "execution_count": 1,
   "id": "meaningful-waters",
   "metadata": {},
   "outputs": [],
   "source": [
    "def suma(a,b):\n",
    "    return a + b"
   ]
  },
  {
   "cell_type": "code",
   "execution_count": 4,
   "id": "everyday-thickness",
   "metadata": {},
   "outputs": [
    {
     "data": {
      "text/plain": [
       "7"
      ]
     },
     "execution_count": 4,
     "metadata": {},
     "output_type": "execute_result"
    }
   ],
   "source": [
    "suma(b=3, a=4)"
   ]
  },
  {
   "cell_type": "code",
   "execution_count": 5,
   "id": "floral-style",
   "metadata": {},
   "outputs": [],
   "source": [
    "def resta(a,b):\n",
    "    return a - b"
   ]
  },
  {
   "cell_type": "code",
   "execution_count": 6,
   "id": "champion-proportion",
   "metadata": {},
   "outputs": [
    {
     "data": {
      "text/plain": [
       "4"
      ]
     },
     "execution_count": 6,
     "metadata": {},
     "output_type": "execute_result"
    }
   ],
   "source": [
    "resta(7,3)"
   ]
  },
  {
   "cell_type": "code",
   "execution_count": 7,
   "id": "compressed-comparison",
   "metadata": {},
   "outputs": [
    {
     "data": {
      "text/plain": [
       "-4"
      ]
     },
     "execution_count": 7,
     "metadata": {},
     "output_type": "execute_result"
    }
   ],
   "source": [
    "resta(3,7)"
   ]
  },
  {
   "cell_type": "code",
   "execution_count": 11,
   "id": "pleased-anchor",
   "metadata": {},
   "outputs": [],
   "source": [
    "def suma(*args):\n",
    "    return(sum(args))"
   ]
  },
  {
   "cell_type": "code",
   "execution_count": 13,
   "id": "accompanied-animal",
   "metadata": {},
   "outputs": [
    {
     "data": {
      "text/plain": [
       "47"
      ]
     },
     "execution_count": 13,
     "metadata": {},
     "output_type": "execute_result"
    }
   ],
   "source": [
    "suma(3,4,5,5,6,7,8,9)"
   ]
  },
  {
   "cell_type": "code",
   "execution_count": 17,
   "id": "inside-coach",
   "metadata": {},
   "outputs": [],
   "source": [
    "def suma(**kwargs):\n",
    "    return(sum(kwargs.values()))"
   ]
  },
  {
   "cell_type": "code",
   "execution_count": 18,
   "id": "faced-recovery",
   "metadata": {},
   "outputs": [
    {
     "data": {
      "text/plain": [
       "19"
      ]
     },
     "execution_count": 18,
     "metadata": {},
     "output_type": "execute_result"
    }
   ],
   "source": [
    "suma(a=4,b=7,c=8)"
   ]
  },
  {
   "cell_type": "markdown",
   "id": "together-spell",
   "metadata": {},
   "source": [
    "# Classes"
   ]
  },
  {
   "cell_type": "markdown",
   "id": "upper-amber",
   "metadata": {},
   "source": [
    "## Class definition: constructr and attributes"
   ]
  },
  {
   "cell_type": "code",
   "execution_count": 20,
   "id": "visible-saturn",
   "metadata": {},
   "outputs": [],
   "source": [
    "class Complex():\n",
    "    def __init__(self, real, imag):\n",
    "        self.r = real\n",
    "        self.i = imag"
   ]
  },
  {
   "cell_type": "code",
   "execution_count": 21,
   "id": "applied-container",
   "metadata": {},
   "outputs": [],
   "source": [
    "a = Complex(2,4)"
   ]
  },
  {
   "cell_type": "code",
   "execution_count": 26,
   "id": "charitable-layer",
   "metadata": {},
   "outputs": [],
   "source": [
    "b = Complex(3,7)"
   ]
  },
  {
   "cell_type": "code",
   "execution_count": 27,
   "id": "corresponding-advertising",
   "metadata": {},
   "outputs": [
    {
     "data": {
      "text/plain": [
       "3"
      ]
     },
     "execution_count": 27,
     "metadata": {},
     "output_type": "execute_result"
    }
   ],
   "source": [
    "b.r"
   ]
  },
  {
   "cell_type": "code",
   "execution_count": 25,
   "id": "hybrid-karma",
   "metadata": {},
   "outputs": [
    {
     "data": {
      "text/plain": [
       "4"
      ]
     },
     "execution_count": 25,
     "metadata": {},
     "output_type": "execute_result"
    }
   ],
   "source": [
    "b.i"
   ]
  },
  {
   "cell_type": "markdown",
   "id": "sacred-genetics",
   "metadata": {},
   "source": [
    "## Methods"
   ]
  },
  {
   "cell_type": "code",
   "execution_count": 38,
   "id": "super-token",
   "metadata": {},
   "outputs": [],
   "source": [
    "class Person():\n",
    "    def __init__(self, nombre):\n",
    "        self.nombre = nombre\n",
    "    def saludo(self):\n",
    "        print(f'Hola, me llamo {self.nombre}')"
   ]
  },
  {
   "cell_type": "code",
   "execution_count": 39,
   "id": "raised-magnet",
   "metadata": {},
   "outputs": [],
   "source": [
    "alb = Person(nombre='Alberto')"
   ]
  },
  {
   "cell_type": "code",
   "execution_count": 40,
   "id": "excessive-ranch",
   "metadata": {},
   "outputs": [
    {
     "data": {
      "text/plain": [
       "'Alberto'"
      ]
     },
     "execution_count": 40,
     "metadata": {},
     "output_type": "execute_result"
    }
   ],
   "source": [
    "alb.nombre"
   ]
  },
  {
   "cell_type": "code",
   "execution_count": 41,
   "id": "complicated-desperate",
   "metadata": {},
   "outputs": [
    {
     "name": "stdout",
     "output_type": "stream",
     "text": [
      "Hola, me llamo Alberto\n"
     ]
    }
   ],
   "source": [
    "alb.saludo()"
   ]
  },
  {
   "cell_type": "code",
   "execution_count": 42,
   "id": "dramatic-millennium",
   "metadata": {},
   "outputs": [],
   "source": [
    "alb.apellido = 'Labarga'"
   ]
  },
  {
   "cell_type": "code",
   "execution_count": 46,
   "id": "included-correction",
   "metadata": {},
   "outputs": [
    {
     "data": {
      "text/plain": [
       "'Labarga'"
      ]
     },
     "execution_count": 46,
     "metadata": {},
     "output_type": "execute_result"
    }
   ],
   "source": [
    "alb.apellido"
   ]
  },
  {
   "cell_type": "markdown",
   "id": "signal-particle",
   "metadata": {},
   "source": [
    "## Using dates"
   ]
  },
  {
   "cell_type": "code",
   "execution_count": 129,
   "id": "distinguished-sword",
   "metadata": {},
   "outputs": [],
   "source": [
    "from datetime import date"
   ]
  },
  {
   "cell_type": "code",
   "execution_count": 133,
   "id": "soviet-antique",
   "metadata": {},
   "outputs": [
    {
     "data": {
      "text/plain": [
       "'2020-02-20'"
      ]
     },
     "execution_count": 133,
     "metadata": {},
     "output_type": "execute_result"
    }
   ],
   "source": [
    "date(2020,2,20).isoformat()"
   ]
  },
  {
   "cell_type": "code",
   "execution_count": 131,
   "id": "hollywood-surname",
   "metadata": {},
   "outputs": [
    {
     "data": {
      "text/plain": [
       "datetime.date(2020, 2, 20)"
      ]
     },
     "execution_count": 131,
     "metadata": {},
     "output_type": "execute_result"
    }
   ],
   "source": [
    "date.fromisoformat('2020-02-20')"
   ]
  },
  {
   "cell_type": "code",
   "execution_count": 135,
   "id": "voluntary-hamilton",
   "metadata": {},
   "outputs": [
    {
     "data": {
      "text/plain": [
       "'2021-02-20'"
      ]
     },
     "execution_count": 135,
     "metadata": {},
     "output_type": "execute_result"
    }
   ],
   "source": [
    "date.today().isoformat()"
   ]
  },
  {
   "cell_type": "code",
   "execution_count": 141,
   "id": "neither-dealer",
   "metadata": {},
   "outputs": [
    {
     "data": {
      "text/plain": [
       "'hoy es Saturday, 20 de February de 2021'"
      ]
     },
     "execution_count": 141,
     "metadata": {},
     "output_type": "execute_result"
    }
   ],
   "source": [
    "date.today().strftime('hoy es %A, %d de %B de %Y')"
   ]
  },
  {
   "cell_type": "markdown",
   "id": "nominated-tours",
   "metadata": {},
   "source": [
    "### Calculating your age"
   ]
  },
  {
   "cell_type": "code",
   "execution_count": 148,
   "id": "buried-alloy",
   "metadata": {},
   "outputs": [
    {
     "data": {
      "text/plain": [
       "39"
      ]
     },
     "execution_count": 148,
     "metadata": {},
     "output_type": "execute_result"
    }
   ],
   "source": [
    "hoy = date.today()\n",
    "fecha_nac = date.fromisoformat('1982-02-20')\n",
    "dif = hoy - fecha_nac\n",
    "edad = round(dif.days / 365)\n",
    "edad"
   ]
  },
  {
   "cell_type": "code",
   "execution_count": 147,
   "id": "adult-presence",
   "metadata": {},
   "outputs": [
    {
     "data": {
      "text/plain": [
       "39"
      ]
     },
     "execution_count": 147,
     "metadata": {},
     "output_type": "execute_result"
    }
   ],
   "source": [
    "round((date.today() - date.fromisoformat('1982-02-20')).days / 365)"
   ]
  },
  {
   "cell_type": "markdown",
   "id": "disturbed-garden",
   "metadata": {},
   "source": [
    "## More complex class"
   ]
  },
  {
   "cell_type": "code",
   "execution_count": 167,
   "id": "religious-costs",
   "metadata": {},
   "outputs": [],
   "source": [
    "class Person():\n",
    "    \"\"\"Define una Persona con nombre y apellido\"\"\"\n",
    "    \n",
    "    def __init__(self, nombre=None, apellido=None, fecha_nacimiento=None):\n",
    "\n",
    "        self.nombre = nombre\n",
    "        self.apellido = apellido\n",
    "        if fecha_nacimiento:\n",
    "            self.fecha_nacimiento = date.fromisoformat(fecha_nacimiento)\n",
    "            \n",
    "    def edad(self):\n",
    "        return round((date.today() - self.fecha_nacimiento).days / 365)\n",
    "    \n",
    "    def is_birthday(self):\n",
    "        return (self.fecha_nacimiento.day == date.today().day) and  (self.fecha_nacimiento.month == date.today().month)\n",
    "            \n",
    "    \n",
    "    def say_hello(self, amigo=None):\n",
    "\n",
    "        if self.nombre is None:\n",
    "            print('Hola, no se quien soy')\n",
    "        else:\n",
    "            print(f'Hola,  me llamo {self.nombre} {self.apellido or \"\"}, tengo {self.edad()} años y hoy es mi cumpleaños')"
   ]
  },
  {
   "cell_type": "code",
   "execution_count": 168,
   "id": "sudden-effort",
   "metadata": {},
   "outputs": [],
   "source": [
    "mengano = Person(nombre='Alberto', apellido='Labarga', fecha_nacimiento='1973-02-20')"
   ]
  },
  {
   "cell_type": "code",
   "execution_count": 169,
   "id": "original-corps",
   "metadata": {},
   "outputs": [
    {
     "name": "stdout",
     "output_type": "stream",
     "text": [
      "Hola,  me llamo Alberto Labarga, tengo 48 años y hoy es mi cumpleaños\n"
     ]
    }
   ],
   "source": [
    "mengano.say_hello()"
   ]
  },
  {
   "cell_type": "code",
   "execution_count": 161,
   "id": "adjacent-rubber",
   "metadata": {},
   "outputs": [
    {
     "name": "stdout",
     "output_type": "stream",
     "text": [
      "Alberto, te toca pagar las cañas!\n"
     ]
    }
   ],
   "source": [
    "if mengano.is_birthday():\n",
    "    print(f'{mengano.nombre}, te toca pagar las cañas!')"
   ]
  },
  {
   "cell_type": "code",
   "execution_count": 102,
   "id": "laughing-thompson",
   "metadata": {},
   "outputs": [
    {
     "name": "stdout",
     "output_type": "stream",
     "text": [
      "Hola Xavi,  me llamo Alberto Labarga\n"
     ]
    }
   ],
   "source": [
    "mengano.saludo('Xavi')"
   ]
  },
  {
   "cell_type": "markdown",
   "id": "laughing-determination",
   "metadata": {},
   "source": [
    "## __repr__ and __str__"
   ]
  },
  {
   "cell_type": "code",
   "execution_count": null,
   "id": "vulnerable-humanitarian",
   "metadata": {},
   "outputs": [],
   "source": [
    "class Person():\n",
    "    \"\"\"Define una Persona con nombre y apellido\"\"\"\n",
    "    \n",
    "    def __init__(self, nombre=None, apellido=None, fecha_nacimiento=None):\n",
    "\n",
    "        self.nombre = nombre\n",
    "        self.apellido = apellido\n",
    "        if fecha_nacimiento:\n",
    "            self.fecha_nacimiento = date.fromisoformat(fecha_nacimiento)\n",
    "            \n",
    "    def __str__(self):\n",
    "        return f'{self.nombre or \"\"} {self.apellido or \"\"}'\n",
    "        \n",
    "    def __repr__(self):\n",
    "        return f'[Person]: {self.nombre or \"\"} {self.apellido or \"\"}'  \n",
    "    \n",
    "    def edad(self):\n",
    "        return round((date.today() - self.fecha_nacimiento).days / 365)\n",
    "    \n",
    "    def is_birthday(self):\n",
    "        return (self.fecha_nacimiento.day == date.today().day) and  (self.fecha_nacimiento.month == date.today().month)\n",
    "            \n",
    "    def say_hello(self, amigo=None):\n",
    "\n",
    "        if self.nombre is None:\n",
    "            print('Hola, no se quien soy')\n",
    "        else:\n",
    "            print(f'Hola,  me llamo {self.nombre} {self.apellido or \"\"}, tengo {self.edad()} años y hoy es mi cumpleaños')"
   ]
  },
  {
   "cell_type": "code",
   "execution_count": null,
   "id": "expanded-omega",
   "metadata": {},
   "outputs": [],
   "source": [
    "mengano = Person(nombre='Alberto', apellido='Labarga', fecha_nacimiento='1973-02-20')"
   ]
  },
  {
   "cell_type": "code",
   "execution_count": null,
   "id": "indonesian-history",
   "metadata": {},
   "outputs": [],
   "source": [
    "print(mengano)"
   ]
  },
  {
   "cell_type": "code",
   "execution_count": 97,
   "id": "neutral-publisher",
   "metadata": {},
   "outputs": [
    {
     "data": {
      "text/plain": [
       "[Person]: Alberto Labarga"
      ]
     },
     "execution_count": 97,
     "metadata": {},
     "output_type": "execute_result"
    }
   ],
   "source": [
    "mengano"
   ]
  },
  {
   "cell_type": "code",
   "execution_count": 70,
   "id": "after-forum",
   "metadata": {},
   "outputs": [],
   "source": [
    "mengano.nombre = 'Alberto'"
   ]
  },
  {
   "cell_type": "code",
   "execution_count": 58,
   "id": "light-hospital",
   "metadata": {},
   "outputs": [],
   "source": [
    "juan = Person()"
   ]
  },
  {
   "cell_type": "markdown",
   "id": "advanced-panama",
   "metadata": {},
   "source": [
    "## Inheritance"
   ]
  },
  {
   "cell_type": "code",
   "execution_count": 4,
   "id": "qualified-gibraltar",
   "metadata": {},
   "outputs": [
    {
     "ename": "NameError",
     "evalue": "name 'Person' is not defined",
     "output_type": "error",
     "traceback": [
      "\u001b[0;31m---------------------------------------------------------------------------\u001b[0m",
      "\u001b[0;31mNameError\u001b[0m                                 Traceback (most recent call last)",
      "\u001b[0;32m<ipython-input-4-070a9c3ea7dd>\u001b[0m in \u001b[0;36m<module>\u001b[0;34m\u001b[0m\n\u001b[0;32m----> 1\u001b[0;31m \u001b[0;32mclass\u001b[0m \u001b[0mStudent\u001b[0m\u001b[0;34m(\u001b[0m\u001b[0mPerson\u001b[0m\u001b[0;34m)\u001b[0m\u001b[0;34m:\u001b[0m\u001b[0;34m\u001b[0m\u001b[0;34m\u001b[0m\u001b[0m\n\u001b[0m\u001b[1;32m      2\u001b[0m     \u001b[0;32mdef\u001b[0m \u001b[0m__init__\u001b[0m\u001b[0;34m(\u001b[0m\u001b[0mself\u001b[0m\u001b[0;34m,\u001b[0m \u001b[0mnombre\u001b[0m\u001b[0;34m=\u001b[0m\u001b[0;32mNone\u001b[0m\u001b[0;34m,\u001b[0m \u001b[0mapellido\u001b[0m\u001b[0;34m=\u001b[0m\u001b[0;32mNone\u001b[0m\u001b[0;34m,\u001b[0m \u001b[0mfecha_nacimiento\u001b[0m\u001b[0;34m=\u001b[0m\u001b[0;32mNone\u001b[0m\u001b[0;34m,\u001b[0m \u001b[0mbootcamp\u001b[0m\u001b[0;34m=\u001b[0m\u001b[0;34m'Data Analytics'\u001b[0m\u001b[0;34m)\u001b[0m\u001b[0;34m:\u001b[0m\u001b[0;34m\u001b[0m\u001b[0;34m\u001b[0m\u001b[0m\n\u001b[1;32m      3\u001b[0m         \u001b[0msuper\u001b[0m\u001b[0;34m(\u001b[0m\u001b[0;34m)\u001b[0m\u001b[0;34m.\u001b[0m\u001b[0m__init__\u001b[0m\u001b[0;34m(\u001b[0m\u001b[0mnombre\u001b[0m\u001b[0;34m,\u001b[0m \u001b[0mapellido\u001b[0m\u001b[0;34m,\u001b[0m \u001b[0mfecha_nacimiento\u001b[0m\u001b[0;34m)\u001b[0m\u001b[0;34m\u001b[0m\u001b[0;34m\u001b[0m\u001b[0m\n\u001b[1;32m      4\u001b[0m         \u001b[0mself\u001b[0m\u001b[0;34m.\u001b[0m\u001b[0mbootcamp\u001b[0m\u001b[0;34m=\u001b[0m\u001b[0mbootcamp\u001b[0m\u001b[0;34m\u001b[0m\u001b[0;34m\u001b[0m\u001b[0m\n\u001b[1;32m      5\u001b[0m         \u001b[0mself\u001b[0m\u001b[0;34m.\u001b[0m\u001b[0mnotas\u001b[0m \u001b[0;34m=\u001b[0m \u001b[0;34m{\u001b[0m\u001b[0;34m}\u001b[0m\u001b[0;34m\u001b[0m\u001b[0;34m\u001b[0m\u001b[0m\n",
      "\u001b[0;31mNameError\u001b[0m: name 'Person' is not defined"
     ]
    }
   ],
   "source": [
    "class Student(Person):\n",
    "    def __init__(self, nombre=None, apellido=None, fecha_nacimiento=None, bootcamp='Data Analytics'):\n",
    "        super().__init__(nombre, apellido, fecha_nacimiento)\n",
    "        self.bootcamp=bootcamp\n",
    "        self.notas = {}\n",
    "\n",
    "    def hacer_examen(self, asignatura, nota):\n",
    "        self.notas[asignatura] = nota\n",
    "        \n",
    "    def recuperaciones(self):\n",
    "        return [asignatura for asignatura, nota in self.notas.items() if nota < 5]\n",
    "    \n",
    "    def vacaciones(self):\n",
    "        return not self.recuperaciones()\n",
    "    \n",
    "    def say_hello(self, amigo=None):\n",
    "\n",
    "        if self.nombre is None:\n",
    "            print('Hola, no se quien soy')\n",
    "        else:\n",
    "            print(f'Hola,  me llamo {self.nombre} {self.apellido or \"\"}, tengo {self.edad()} años y estudio {self.bootcamp}')        "
   ]
  },
  {
   "cell_type": "code",
   "execution_count": 5,
   "id": "agreed-reverse",
   "metadata": {},
   "outputs": [
    {
     "ename": "NameError",
     "evalue": "name 'Student' is not defined",
     "output_type": "error",
     "traceback": [
      "\u001b[0;31m---------------------------------------------------------------------------\u001b[0m",
      "\u001b[0;31mNameError\u001b[0m                                 Traceback (most recent call last)",
      "\u001b[0;32m<ipython-input-5-c2899063d614>\u001b[0m in \u001b[0;36m<module>\u001b[0;34m\u001b[0m\n\u001b[0;32m----> 1\u001b[0;31m \u001b[0malberto\u001b[0m \u001b[0;34m=\u001b[0m \u001b[0mStudent\u001b[0m\u001b[0;34m(\u001b[0m\u001b[0;34m'Alberto'\u001b[0m\u001b[0;34m,\u001b[0m\u001b[0;34m'Labarga'\u001b[0m\u001b[0;34m,\u001b[0m\u001b[0;34m'1973-10-25'\u001b[0m\u001b[0;34m)\u001b[0m\u001b[0;34m\u001b[0m\u001b[0;34m\u001b[0m\u001b[0m\n\u001b[0m",
      "\u001b[0;31mNameError\u001b[0m: name 'Student' is not defined"
     ]
    }
   ],
   "source": [
    "alberto = Student('Alberto','Labarga','1973-10-25')"
   ]
  },
  {
   "cell_type": "code",
   "execution_count": 6,
   "id": "expensive-assignment",
   "metadata": {},
   "outputs": [
    {
     "ename": "NameError",
     "evalue": "name 'alberto' is not defined",
     "output_type": "error",
     "traceback": [
      "\u001b[0;31m---------------------------------------------------------------------------\u001b[0m",
      "\u001b[0;31mNameError\u001b[0m                                 Traceback (most recent call last)",
      "\u001b[0;32m<ipython-input-6-7cb7e22da7b2>\u001b[0m in \u001b[0;36m<module>\u001b[0;34m\u001b[0m\n\u001b[0;32m----> 1\u001b[0;31m \u001b[0malberto\u001b[0m\u001b[0;34m.\u001b[0m\u001b[0mhacer_examen\u001b[0m\u001b[0;34m(\u001b[0m\u001b[0;34m'maths'\u001b[0m\u001b[0;34m,\u001b[0m\u001b[0;36m8\u001b[0m\u001b[0;34m)\u001b[0m\u001b[0;34m\u001b[0m\u001b[0;34m\u001b[0m\u001b[0m\n\u001b[0m",
      "\u001b[0;31mNameError\u001b[0m: name 'alberto' is not defined"
     ]
    }
   ],
   "source": [
    "alberto.hacer_examen('maths',8)"
   ]
  },
  {
   "cell_type": "code",
   "execution_count": 236,
   "id": "sticky-keyboard",
   "metadata": {},
   "outputs": [],
   "source": [
    "alberto.hacer_examen('statistics',4)"
   ]
  },
  {
   "cell_type": "code",
   "execution_count": 3,
   "id": "western-chest",
   "metadata": {},
   "outputs": [
    {
     "ename": "NameError",
     "evalue": "name 'alberto' is not defined",
     "output_type": "error",
     "traceback": [
      "\u001b[0;31m---------------------------------------------------------------------------\u001b[0m",
      "\u001b[0;31mNameError\u001b[0m                                 Traceback (most recent call last)",
      "\u001b[0;32m<ipython-input-3-73ca93dda6f6>\u001b[0m in \u001b[0;36m<module>\u001b[0;34m\u001b[0m\n\u001b[0;32m----> 1\u001b[0;31m \u001b[0malberto\u001b[0m\u001b[0;34m.\u001b[0m\u001b[0mrecuperaciones\u001b[0m\u001b[0;34m(\u001b[0m\u001b[0;34m)\u001b[0m\u001b[0;34m\u001b[0m\u001b[0;34m\u001b[0m\u001b[0m\n\u001b[0m",
      "\u001b[0;31mNameError\u001b[0m: name 'alberto' is not defined"
     ]
    }
   ],
   "source": [
    "alberto.recuperaciones()"
   ]
  },
  {
   "cell_type": "code",
   "execution_count": 238,
   "id": "failing-mumbai",
   "metadata": {},
   "outputs": [
    {
     "data": {
      "text/plain": [
       "False"
      ]
     },
     "execution_count": 238,
     "metadata": {},
     "output_type": "execute_result"
    }
   ],
   "source": [
    "alberto.vacaciones()"
   ]
  },
  {
   "cell_type": "markdown",
   "id": "joint-consideration",
   "metadata": {},
   "source": [
    "### Advantages of a common API"
   ]
  },
  {
   "cell_type": "code",
   "execution_count": 181,
   "id": "temporal-macintosh",
   "metadata": {},
   "outputs": [
    {
     "name": "stdout",
     "output_type": "stream",
     "text": [
      "Hola,  me llamo Alberto Labarga, tengo 48 años y hoy es mi cumpleaños\n",
      "Hola,  me llamo Alberto Labarga, tengo 47 años y estudio Data Analytics\n"
     ]
    }
   ],
   "source": [
    "for p in [mengano, alberto]:\n",
    "    p.say_hello()"
   ]
  },
  {
   "cell_type": "markdown",
   "id": "listed-coverage",
   "metadata": {},
   "source": [
    "### Rewriting constructor"
   ]
  },
  {
   "cell_type": "code",
   "execution_count": 182,
   "id": "fourth-drama",
   "metadata": {},
   "outputs": [],
   "source": [
    "class Rectangle():\n",
    "    def __init__(self, length, height):\n",
    "        self.height=height\n",
    "        self.length=length\n",
    "    def area(self):\n",
    "        return self.height * self.length"
   ]
  },
  {
   "cell_type": "code",
   "execution_count": 183,
   "id": "adjusted-quantity",
   "metadata": {},
   "outputs": [],
   "source": [
    "r = Rectangle(5,3)"
   ]
  },
  {
   "cell_type": "code",
   "execution_count": 184,
   "id": "traditional-medication",
   "metadata": {},
   "outputs": [
    {
     "data": {
      "text/plain": [
       "15"
      ]
     },
     "execution_count": 184,
     "metadata": {},
     "output_type": "execute_result"
    }
   ],
   "source": [
    "r.area()"
   ]
  },
  {
   "cell_type": "code",
   "execution_count": 185,
   "id": "indoor-walter",
   "metadata": {},
   "outputs": [],
   "source": [
    "class Square(Rectangle):\n",
    "    def __init__(self, size):\n",
    "        super().__init__(size, size)"
   ]
  },
  {
   "cell_type": "code",
   "execution_count": 186,
   "id": "endless-shade",
   "metadata": {},
   "outputs": [],
   "source": [
    "s = Square(5)"
   ]
  },
  {
   "cell_type": "code",
   "execution_count": 187,
   "id": "facial-constant",
   "metadata": {},
   "outputs": [
    {
     "data": {
      "text/plain": [
       "25"
      ]
     },
     "execution_count": 187,
     "metadata": {},
     "output_type": "execute_result"
    }
   ],
   "source": [
    "s.area()"
   ]
  }
 ],
 "metadata": {
  "kernelspec": {
   "display_name": "Ironhack",
   "language": "python",
   "name": "ironhack"
  },
  "language_info": {
   "codemirror_mode": {
    "name": "ipython",
    "version": 3
   },
   "file_extension": ".py",
   "mimetype": "text/x-python",
   "name": "python",
   "nbconvert_exporter": "python",
   "pygments_lexer": "ipython3",
   "version": "3.7.5"
  },
  "toc": {
   "base_numbering": 1,
   "nav_menu": {},
   "number_sections": true,
   "sideBar": true,
   "skip_h1_title": false,
   "title_cell": "Table of Contents",
   "title_sidebar": "Contents",
   "toc_cell": true,
   "toc_position": {},
   "toc_section_display": true,
   "toc_window_display": false
  },
  "varInspector": {
   "cols": {
    "lenName": 16,
    "lenType": 16,
    "lenVar": 40
   },
   "kernels_config": {
    "python": {
     "delete_cmd_postfix": "",
     "delete_cmd_prefix": "del ",
     "library": "var_list.py",
     "varRefreshCmd": "print(var_dic_list())"
    },
    "r": {
     "delete_cmd_postfix": ") ",
     "delete_cmd_prefix": "rm(",
     "library": "var_list.r",
     "varRefreshCmd": "cat(var_dic_list()) "
    }
   },
   "types_to_exclude": [
    "module",
    "function",
    "builtin_function_or_method",
    "instance",
    "_Feature"
   ],
   "window_display": false
  }
 },
 "nbformat": 4,
 "nbformat_minor": 5
}
