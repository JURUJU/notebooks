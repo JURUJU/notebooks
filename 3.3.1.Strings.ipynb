{
 "cells": [
  {
   "cell_type": "markdown",
   "metadata": {
    "toc": true
   },
   "source": [
    "<h1>Table of Contents<span class=\"tocSkip\"></span></h1>\n",
    "<div class=\"toc\"><ul class=\"toc-item\"><li><span><a href=\"#Working-with-texts\" data-toc-modified-id=\"Working-with-texts-1\"><span class=\"toc-item-num\">1&nbsp;&nbsp;</span>Working with texts</a></span><ul class=\"toc-item\"><li><span><a href=\"#Reading-file\" data-toc-modified-id=\"Reading-file-1.1\"><span class=\"toc-item-num\">1.1&nbsp;&nbsp;</span>Reading file</a></span></li><li><span><a href=\"#Defining-strings\" data-toc-modified-id=\"Defining-strings-1.2\"><span class=\"toc-item-num\">1.2&nbsp;&nbsp;</span>Defining strings</a></span></li><li><span><a href=\"#Splitting-text\" data-toc-modified-id=\"Splitting-text-1.3\"><span class=\"toc-item-num\">1.3&nbsp;&nbsp;</span>Splitting text</a></span></li><li><span><a href=\"#Filtering-data\" data-toc-modified-id=\"Filtering-data-1.4\"><span class=\"toc-item-num\">1.4&nbsp;&nbsp;</span>Filtering data</a></span></li><li><span><a href=\"#Cleaning-text\" data-toc-modified-id=\"Cleaning-text-1.5\"><span class=\"toc-item-num\">1.5&nbsp;&nbsp;</span>Cleaning text</a></span></li><li><span><a href=\"#Counting-words\" data-toc-modified-id=\"Counting-words-1.6\"><span class=\"toc-item-num\">1.6&nbsp;&nbsp;</span>Counting words</a></span></li><li><span><a href=\"#Using-collections\" data-toc-modified-id=\"Using-collections-1.7\"><span class=\"toc-item-num\">1.7&nbsp;&nbsp;</span>Using collections</a></span></li></ul></li></ul></div>"
   ]
  },
  {
   "cell_type": "markdown",
   "metadata": {},
   "source": [
    "# Working with texts"
   ]
  },
  {
   "cell_type": "markdown",
   "metadata": {},
   "source": [
    "## Reading file"
   ]
  },
  {
   "cell_type": "code",
   "execution_count": 1,
   "metadata": {},
   "outputs": [],
   "source": [
    "filename = '../labs/data/02/shape-of-you-ed-sheeran-lyrics.txt'"
   ]
  },
  {
   "cell_type": "code",
   "execution_count": 2,
   "metadata": {},
   "outputs": [],
   "source": [
    "my_file = open(filename, 'r')"
   ]
  },
  {
   "cell_type": "code",
   "execution_count": 3,
   "metadata": {},
   "outputs": [],
   "source": [
    "letra = my_file.read()"
   ]
  },
  {
   "cell_type": "code",
   "execution_count": 4,
   "metadata": {},
   "outputs": [
    {
     "name": "stdout",
     "output_type": "stream",
     "text": [
      "The club isn't the best place to find a lover\n",
      "So the bar is where I go\n",
      "Me and my friends at the table doing shots\n",
      "Drinking fast and then we talk slow\n",
      "Come over and start up a conversation with just me\n",
      "And trust me I'll give it a chance now\n",
      "Take my hand, stop, put Van the Man on the jukebox\n",
      "And then we start to dance, and now I'm singing like\n",
      "Girl, you know I want your love\n",
      "Your love was handmade for somebody like me\n",
      "Come on now, follow my lead\n",
      "I may be crazy, don't mind me\n",
      "Say, boy, let's not talk too much\n",
      "Grab on my waist and put that body on me\n",
      "Come on now, follow my lead\n",
      "Come, come on now, follow my lead\n",
      "I'm in love with the shape of you\n",
      "We push and pull like a magnet do\n",
      "Although my heart is falling too\n",
      "I'm in love with your body\n",
      "And last night you were in my room\n",
      "And now my bedsheets smell like you\n",
      "Every day discovering something brand new\n",
      "I'm in love with your body\n",
      "I'm in love with your body\n",
      "I'm in love with your body\n",
      "I'm in love with your body\n",
      "Every day discovering something brand new\n",
      "I'm in love with the shape of you\n",
      "One week in we let the story begin\n",
      "We're going out on our first date\n",
      "You and me are thrifty, so go all you can eat\n",
      "Fill up your bag and I fill up a plate\n",
      "We talk for hours and hours about the sweet and the sour\n",
      "And how your family is doing okay\n",
      "Leave and get in a taxi, then kiss in the backseat\n",
      "Tell the driver make the radio play, and I'm singing like\n",
      "Girl, you know I want your love\n",
      "Your love was handmade for somebody like me\n",
      "Come on now, follow my lead\n",
      "I may be crazy, don't mind me\n",
      "Say, boy, let's not talk too much\n",
      "Grab on my waist and put that body on me\n",
      "Come on now, follow my lead\n",
      "Come, come on now, follow my lead\n",
      "I'm in love with the shape of you\n",
      "We push and pull like a magnet do\n",
      "Although my heart is falling too\n",
      "I'm in love with your body\n",
      "And last night you were in my room\n",
      "And now my bedsheets smell like you\n",
      "Every day discovering something brand new\n",
      "I'm in love with your body\n",
      "I'm in love with your body\n",
      "I'm in love with your body\n",
      "I'm in love with your body\n",
      "Every day discovering something brand new\n",
      "I'm in love with the shape of you\n",
      "Come on, be my baby, come on\n",
      "Come on, be my baby, come on\n",
      "Come on, be my baby, come on\n",
      "Come on, be my baby, come on\n",
      "Come on, be my baby, come on\n",
      "Come on, be my baby, come on\n",
      "Come on, be my baby, come on\n",
      "Come on, be my baby, come on\n",
      "I'm in love with the shape of you\n",
      "We push and pull like a magnet do\n",
      "Although my heart is falling too\n",
      "I'm in love with your body\n",
      "Last night you were in my room\n",
      "And now my bedsheets smell like you\n",
      "Every day discovering something brand new\n",
      "I'm in love with your body\n",
      "Come on, be my baby, come on\n",
      "Come on, be my baby, come on\n",
      "I'm in love with your body\n",
      "Come on, be my baby, come on\n",
      "Come on, be my baby, come on\n",
      "I'm in love with your body\n",
      "Come on, be my baby, come on\n",
      "Come on, be my baby, come on\n",
      "I'm in love with your body\n",
      "Every day discovering something brand new\n",
      "I'm in love with the shape of you\n"
     ]
    }
   ],
   "source": [
    "print(letra)"
   ]
  },
  {
   "cell_type": "code",
   "execution_count": 35,
   "metadata": {},
   "outputs": [
    {
     "data": {
      "text/plain": [
       "\"The club isn't the best place to find a lover\\nSo the bar is where I go\\nMe and my friends at the table doing shots\\nDrinking fast and then we talk slow\\nCome over and start up a conversation with just me\\nAnd trust me I'll give it a chance now\\nTake my hand, stop, put Van the Man on the jukebox\\nAnd then we start to dance, and now I'm singing like\\nGirl, you know I want your love\\nYour love was handmade for somebody like me\\nCome on now, follow my lead\\nI may be crazy, don't mind me\\nSay, boy, let's not talk too much\\nGrab on my waist and put that body on me\\nCome on now, follow my lead\\nCome, come on now, follow my lead\\nI'm in love with the shape of you\\nWe push and pull like a magnet do\\nAlthough my heart is falling too\\nI'm in love with your body\\nAnd last night you were in my room\\nAnd now my bedsheets smell like you\\nEvery day discovering something brand new\\nI'm in love with your body\\nI'm in love with your body\\nI'm in love with your body\\nI'm in love with your body\\nEvery day discovering something brand new\\nI'm in love with the shape of you\\nOne week in we let the story begin\\nWe're going out on our first date\\nYou and me are thrifty, so go all you can eat\\nFill up your bag and I fill up a plate\\nWe talk for hours and hours about the sweet and the sour\\nAnd how your family is doing okay\\nLeave and get in a taxi, then kiss in the backseat\\nTell the driver make the radio play, and I'm singing like\\nGirl, you know I want your love\\nYour love was handmade for somebody like me\\nCome on now, follow my lead\\nI may be crazy, don't mind me\\nSay, boy, let's not talk too much\\nGrab on my waist and put that body on me\\nCome on now, follow my lead\\nCome, come on now, follow my lead\\nI'm in love with the shape of you\\nWe push and pull like a magnet do\\nAlthough my heart is falling too\\nI'm in love with your body\\nAnd last night you were in my room\\nAnd now my bedsheets smell like you\\nEvery day discovering something brand new\\nI'm in love with your body\\nI'm in love with your body\\nI'm in love with your body\\nI'm in love with your body\\nEvery day discovering something brand new\\nI'm in love with the shape of you\\nCome on, be my baby, come on\\nCome on, be my baby, come on\\nCome on, be my baby, come on\\nCome on, be my baby, come on\\nCome on, be my baby, come on\\nCome on, be my baby, come on\\nCome on, be my baby, come on\\nCome on, be my baby, come on\\nI'm in love with the shape of you\\nWe push and pull like a magnet do\\nAlthough my heart is falling too\\nI'm in love with your body\\nLast night you were in my room\\nAnd now my bedsheets smell like you\\nEvery day discovering something brand new\\nI'm in love with your body\\nCome on, be my baby, come on\\nCome on, be my baby, come on\\nI'm in love with your body\\nCome on, be my baby, come on\\nCome on, be my baby, come on\\nI'm in love with your body\\nCome on, be my baby, come on\\nCome on, be my baby, come on\\nI'm in love with your body\\nEvery day discovering something brand new\\nI'm in love with the shape of you\""
      ]
     },
     "execution_count": 35,
     "metadata": {},
     "output_type": "execute_result"
    }
   ],
   "source": [
    "letra"
   ]
  },
  {
   "cell_type": "markdown",
   "metadata": {},
   "source": [
    "## Defining strings"
   ]
  },
  {
   "cell_type": "code",
   "execution_count": 18,
   "metadata": {},
   "outputs": [],
   "source": [
    "texto = \"\"\"Sed ut perspiciatis unde omnis iste natus error \n",
    "           sit voluptatem accusantium doloremque laudantium, \n",
    "           totam rem aperiam, eaque ipsa quae ab illo inventore \n",
    "           veritatis et quasi architecto beatae vitae dicta sunt explicabo. \n",
    "           Nemo enim ipsam voluptatem quia voluptas sit aspernatur aut odit aut fugit, \n",
    "           sed quia consequuntur magni dolores eos qui ratione voluptatem sequi nesciunt. \n",
    "           Neque porro quisquam est, qui dolorem ipsum quia dolor sit amet, consectetur, \n",
    "           adipisci velit, sed quia non numquam eius modi tempora incidunt ut labore et dolore magnam \n",
    "           aliquam quaerat voluptatem. Ut enim ad minima veniam, quis nostrum exercitationem ullam \n",
    "           corporis suscipit laboriosam, nisi ut aliquid ex ea commodi consequatur? \n",
    "           Quis autem vel eum iure reprehenderit qui in ea voluptate velit esse quam nihil \n",
    "           molestiae consequatur, vel illum qui dolorem eum fugiat quo voluptas nulla pariatur?\"\"\""
   ]
  },
  {
   "cell_type": "markdown",
   "metadata": {},
   "source": [
    "## Splitting text"
   ]
  },
  {
   "cell_type": "code",
   "execution_count": 22,
   "metadata": {},
   "outputs": [],
   "source": [
    "versos = letra.split('\\n')"
   ]
  },
  {
   "cell_type": "code",
   "execution_count": 23,
   "metadata": {},
   "outputs": [
    {
     "data": {
      "text/plain": [
       "[\"The club isn't the best place to find a lover\",\n",
       " 'So the bar is where I go',\n",
       " 'Me and my friends at the table doing shots',\n",
       " 'Drinking fast and then we talk slow',\n",
       " 'Come over and start up a conversation with just me',\n",
       " \"And trust me I'll give it a chance now\",\n",
       " 'Take my hand, stop, put Van the Man on the jukebox',\n",
       " \"And then we start to dance, and now I'm singing like\",\n",
       " 'Girl, you know I want your love',\n",
       " 'Your love was handmade for somebody like me',\n",
       " 'Come on now, follow my lead',\n",
       " \"I may be crazy, don't mind me\",\n",
       " \"Say, boy, let's not talk too much\",\n",
       " 'Grab on my waist and put that body on me',\n",
       " 'Come on now, follow my lead',\n",
       " 'Come, come on now, follow my lead',\n",
       " \"I'm in love with the shape of you\",\n",
       " 'We push and pull like a magnet do',\n",
       " 'Although my heart is falling too',\n",
       " \"I'm in love with your body\",\n",
       " 'And last night you were in my room',\n",
       " 'And now my bedsheets smell like you',\n",
       " 'Every day discovering something brand new',\n",
       " \"I'm in love with your body\",\n",
       " \"I'm in love with your body\",\n",
       " \"I'm in love with your body\",\n",
       " \"I'm in love with your body\",\n",
       " 'Every day discovering something brand new',\n",
       " \"I'm in love with the shape of you\",\n",
       " 'One week in we let the story begin',\n",
       " \"We're going out on our first date\",\n",
       " 'You and me are thrifty, so go all you can eat',\n",
       " 'Fill up your bag and I fill up a plate',\n",
       " 'We talk for hours and hours about the sweet and the sour',\n",
       " 'And how your family is doing okay',\n",
       " 'Leave and get in a taxi, then kiss in the backseat',\n",
       " \"Tell the driver make the radio play, and I'm singing like\",\n",
       " 'Girl, you know I want your love',\n",
       " 'Your love was handmade for somebody like me',\n",
       " 'Come on now, follow my lead',\n",
       " \"I may be crazy, don't mind me\",\n",
       " \"Say, boy, let's not talk too much\",\n",
       " 'Grab on my waist and put that body on me',\n",
       " 'Come on now, follow my lead',\n",
       " 'Come, come on now, follow my lead',\n",
       " \"I'm in love with the shape of you\",\n",
       " 'We push and pull like a magnet do',\n",
       " 'Although my heart is falling too',\n",
       " \"I'm in love with your body\",\n",
       " 'And last night you were in my room',\n",
       " 'And now my bedsheets smell like you',\n",
       " 'Every day discovering something brand new',\n",
       " \"I'm in love with your body\",\n",
       " \"I'm in love with your body\",\n",
       " \"I'm in love with your body\",\n",
       " \"I'm in love with your body\",\n",
       " 'Every day discovering something brand new',\n",
       " \"I'm in love with the shape of you\",\n",
       " 'Come on, be my baby, come on',\n",
       " 'Come on, be my baby, come on',\n",
       " 'Come on, be my baby, come on',\n",
       " 'Come on, be my baby, come on',\n",
       " 'Come on, be my baby, come on',\n",
       " 'Come on, be my baby, come on',\n",
       " 'Come on, be my baby, come on',\n",
       " 'Come on, be my baby, come on',\n",
       " \"I'm in love with the shape of you\",\n",
       " 'We push and pull like a magnet do',\n",
       " 'Although my heart is falling too',\n",
       " \"I'm in love with your body\",\n",
       " 'Last night you were in my room',\n",
       " 'And now my bedsheets smell like you',\n",
       " 'Every day discovering something brand new',\n",
       " \"I'm in love with your body\",\n",
       " 'Come on, be my baby, come on',\n",
       " 'Come on, be my baby, come on',\n",
       " \"I'm in love with your body\",\n",
       " 'Come on, be my baby, come on',\n",
       " 'Come on, be my baby, come on',\n",
       " \"I'm in love with your body\",\n",
       " 'Come on, be my baby, come on',\n",
       " 'Come on, be my baby, come on',\n",
       " \"I'm in love with your body\",\n",
       " 'Every day discovering something brand new',\n",
       " \"I'm in love with the shape of you\"]"
      ]
     },
     "execution_count": 23,
     "metadata": {},
     "output_type": "execute_result"
    }
   ],
   "source": [
    "versos"
   ]
  },
  {
   "cell_type": "code",
   "execution_count": 24,
   "metadata": {},
   "outputs": [
    {
     "data": {
      "text/plain": [
       "85"
      ]
     },
     "execution_count": 24,
     "metadata": {},
     "output_type": "execute_result"
    }
   ],
   "source": [
    "len(versos)"
   ]
  },
  {
   "cell_type": "code",
   "execution_count": 33,
   "metadata": {},
   "outputs": [
    {
     "data": {
      "text/plain": [
       "84"
      ]
     },
     "execution_count": 33,
     "metadata": {},
     "output_type": "execute_result"
    }
   ],
   "source": [
    "num_saltos = letra.count('\\n')\n",
    "num_saltos"
   ]
  },
  {
   "cell_type": "code",
   "execution_count": 34,
   "metadata": {},
   "outputs": [
    {
     "data": {
      "text/plain": [
       "'La canción tiene 2832 caracteres repartidos en 85 versos.'"
      ]
     },
     "execution_count": 34,
     "metadata": {},
     "output_type": "execute_result"
    }
   ],
   "source": [
    "f'La canción tiene {len(letra) - num_saltos} caracteres repartidos en {len(versos)} versos.'"
   ]
  },
  {
   "cell_type": "markdown",
   "metadata": {},
   "source": [
    "## Filtering data"
   ]
  },
  {
   "cell_type": "code",
   "execution_count": 96,
   "metadata": {},
   "outputs": [
    {
     "data": {
      "text/plain": [
       "['Come on, be my baby, come on',\n",
       " 'Come on, be my baby, come on',\n",
       " 'Come on, be my baby, come on',\n",
       " 'Come on, be my baby, come on',\n",
       " 'Come on, be my baby, come on',\n",
       " 'Come on, be my baby, come on',\n",
       " 'Come on, be my baby, come on',\n",
       " 'Come on, be my baby, come on',\n",
       " 'Come on, be my baby, come on',\n",
       " 'Come on, be my baby, come on',\n",
       " 'Come on, be my baby, come on',\n",
       " 'Come on, be my baby, come on',\n",
       " 'Come on, be my baby, come on',\n",
       " 'Come on, be my baby, come on']"
      ]
     },
     "execution_count": 96,
     "metadata": {},
     "output_type": "execute_result"
    }
   ],
   "source": [
    "[ line for line in versos if 'baby' in line]"
   ]
  },
  {
   "cell_type": "code",
   "execution_count": 97,
   "metadata": {},
   "outputs": [
    {
     "data": {
      "text/plain": [
       "['Come on, be my baby, come on',\n",
       " 'Come on, be my baby, come on',\n",
       " 'Come on, be my baby, come on',\n",
       " 'Come on, be my baby, come on',\n",
       " 'Come on, be my baby, come on',\n",
       " 'Come on, be my baby, come on',\n",
       " 'Come on, be my baby, come on',\n",
       " 'Come on, be my baby, come on',\n",
       " 'Come on, be my baby, come on',\n",
       " 'Come on, be my baby, come on',\n",
       " 'Come on, be my baby, come on',\n",
       " 'Come on, be my baby, come on',\n",
       " 'Come on, be my baby, come on',\n",
       " 'Come on, be my baby, come on']"
      ]
     },
     "execution_count": 97,
     "metadata": {},
     "output_type": "execute_result"
    }
   ],
   "source": [
    "[ line for line in versos if line.find('baby') != -1 ]"
   ]
  },
  {
   "cell_type": "code",
   "execution_count": 98,
   "metadata": {},
   "outputs": [],
   "source": [
    "line = 'Come on, be my baby, come on'"
   ]
  },
  {
   "cell_type": "code",
   "execution_count": 99,
   "metadata": {},
   "outputs": [
    {
     "data": {
      "text/plain": [
       "True"
      ]
     },
     "execution_count": 99,
     "metadata": {},
     "output_type": "execute_result"
    }
   ],
   "source": [
    "'baby' in line"
   ]
  },
  {
   "cell_type": "code",
   "execution_count": 100,
   "metadata": {},
   "outputs": [
    {
     "data": {
      "text/plain": [
       "True"
      ]
     },
     "execution_count": 100,
     "metadata": {},
     "output_type": "execute_result"
    }
   ],
   "source": [
    "line.find('baby') != -1"
   ]
  },
  {
   "cell_type": "code",
   "execution_count": 101,
   "metadata": {},
   "outputs": [
    {
     "data": {
      "text/plain": [
       "45"
      ]
     },
     "execution_count": 101,
     "metadata": {},
     "output_type": "execute_result"
    }
   ],
   "source": [
    "letra.count('on')"
   ]
  },
  {
   "cell_type": "code",
   "execution_count": 102,
   "metadata": {},
   "outputs": [
    {
     "name": "stdout",
     "output_type": "stream",
     "text": [
      "CPU times: user 4 µs, sys: 1 µs, total: 5 µs\n",
      "Wall time: 8.82 µs\n"
     ]
    },
    {
     "data": {
      "text/plain": [
       "['Come on, be my baby, come on',\n",
       " 'Come on, be my baby, come on',\n",
       " 'Come on, be my baby, come on',\n",
       " 'Come on, be my baby, come on',\n",
       " 'Come on, be my baby, come on',\n",
       " 'Come on, be my baby, come on',\n",
       " 'Come on, be my baby, come on',\n",
       " 'Come on, be my baby, come on',\n",
       " 'Come on, be my baby, come on',\n",
       " 'Come on, be my baby, come on',\n",
       " 'Come on, be my baby, come on',\n",
       " 'Come on, be my baby, come on',\n",
       " 'Come on, be my baby, come on',\n",
       " 'Come on, be my baby, come on']"
      ]
     },
     "execution_count": 102,
     "metadata": {},
     "output_type": "execute_result"
    }
   ],
   "source": [
    "%time\n",
    "[ line for line in versos if 'baby' in line]"
   ]
  },
  {
   "cell_type": "code",
   "execution_count": 103,
   "metadata": {},
   "outputs": [],
   "source": [
    "def filtro_complejo(x):\n",
    "    return 'baby' in x"
   ]
  },
  {
   "cell_type": "code",
   "execution_count": 104,
   "metadata": {},
   "outputs": [
    {
     "name": "stdout",
     "output_type": "stream",
     "text": [
      "CPU times: user 2 µs, sys: 0 ns, total: 2 µs\n",
      "Wall time: 5.48 µs\n"
     ]
    },
    {
     "data": {
      "text/plain": [
       "['Come on, be my baby, come on',\n",
       " 'Come on, be my baby, come on',\n",
       " 'Come on, be my baby, come on',\n",
       " 'Come on, be my baby, come on',\n",
       " 'Come on, be my baby, come on',\n",
       " 'Come on, be my baby, come on',\n",
       " 'Come on, be my baby, come on',\n",
       " 'Come on, be my baby, come on',\n",
       " 'Come on, be my baby, come on',\n",
       " 'Come on, be my baby, come on',\n",
       " 'Come on, be my baby, come on',\n",
       " 'Come on, be my baby, come on',\n",
       " 'Come on, be my baby, come on',\n",
       " 'Come on, be my baby, come on']"
      ]
     },
     "execution_count": 104,
     "metadata": {},
     "output_type": "execute_result"
    }
   ],
   "source": [
    "%time\n",
    "list(filter(filtro_complejo, versos))"
   ]
  },
  {
   "cell_type": "code",
   "execution_count": 105,
   "metadata": {},
   "outputs": [
    {
     "data": {
      "text/plain": [
       "[58, 59, 60, 61, 62, 63, 64, 65, 74, 75, 77, 78, 80, 81]"
      ]
     },
     "execution_count": 105,
     "metadata": {},
     "output_type": "execute_result"
    }
   ],
   "source": [
    "[ pos for pos, line in enumerate(versos) if 'baby' in line]"
   ]
  },
  {
   "cell_type": "code",
   "execution_count": 106,
   "metadata": {},
   "outputs": [
    {
     "data": {
      "text/plain": [
       "[\"I'm in love with the shape of you\",\n",
       " \"I'm in love with your body\",\n",
       " \"I'm in love with your body\",\n",
       " \"I'm in love with your body\",\n",
       " \"I'm in love with your body\",\n",
       " \"I'm in love with your body\",\n",
       " \"I'm in love with the shape of you\",\n",
       " \"I'm in love with the shape of you\",\n",
       " \"I'm in love with your body\",\n",
       " \"I'm in love with your body\",\n",
       " \"I'm in love with your body\",\n",
       " \"I'm in love with your body\",\n",
       " \"I'm in love with your body\",\n",
       " \"I'm in love with the shape of you\",\n",
       " \"I'm in love with the shape of you\",\n",
       " \"I'm in love with your body\",\n",
       " \"I'm in love with your body\",\n",
       " \"I'm in love with your body\",\n",
       " \"I'm in love with your body\",\n",
       " \"I'm in love with your body\",\n",
       " \"I'm in love with the shape of you\"]"
      ]
     },
     "execution_count": 106,
     "metadata": {},
     "output_type": "execute_result"
    }
   ],
   "source": [
    "[ line for line in versos if line.startswith(\"I'm\")]"
   ]
  },
  {
   "cell_type": "code",
   "execution_count": 107,
   "metadata": {},
   "outputs": [
    {
     "data": {
      "text/plain": [
       "[\"I'm in love with the shape of you\",\n",
       " 'And now my bedsheets smell like you',\n",
       " \"I'm in love with the shape of you\",\n",
       " \"I'm in love with the shape of you\",\n",
       " 'And now my bedsheets smell like you',\n",
       " \"I'm in love with the shape of you\",\n",
       " \"I'm in love with the shape of you\",\n",
       " 'And now my bedsheets smell like you',\n",
       " \"I'm in love with the shape of you\"]"
      ]
     },
     "execution_count": 107,
     "metadata": {},
     "output_type": "execute_result"
    }
   ],
   "source": [
    "[ line for line in versos if line.endswith(\"you\")]"
   ]
  },
  {
   "cell_type": "markdown",
   "metadata": {},
   "source": [
    "## Cleaning text"
   ]
  },
  {
   "cell_type": "code",
   "execution_count": 108,
   "metadata": {},
   "outputs": [],
   "source": [
    "# elimino las comas\n",
    "letra_sin_comas = letra.replace(',','')\n",
    "letra_sin_puntos = letra_sin_comas.replace('.', '')\n",
    "letra_en_minusculas = letra_sin_puntos.lower()\n",
    "lista_palabras = letra_en_minusculas.split()\n",
    "palabras_unicas = set(lista_palabras)"
   ]
  },
  {
   "cell_type": "code",
   "execution_count": 86,
   "metadata": {},
   "outputs": [],
   "source": [
    "letra = letra.replace('\\n', ' ').replace(',','').replace('.', '').lower()"
   ]
  },
  {
   "cell_type": "markdown",
   "metadata": {},
   "source": [
    "## Counting words"
   ]
  },
  {
   "cell_type": "code",
   "execution_count": 80,
   "metadata": {},
   "outputs": [],
   "source": [
    "palabras_unicas = set(letra.split())"
   ]
  },
  {
   "cell_type": "code",
   "execution_count": 81,
   "metadata": {
    "scrolled": true
   },
   "outputs": [
    {
     "data": {
      "text/plain": [
       "140"
      ]
     },
     "execution_count": 81,
     "metadata": {},
     "output_type": "execute_result"
    }
   ],
   "source": [
    "len(palabras_unicas)"
   ]
  },
  {
   "cell_type": "code",
   "execution_count": 89,
   "metadata": {},
   "outputs": [],
   "source": [
    "palabras = {}\n",
    "for palabra in palabras_unicas:\n",
    "    palabras[palabra] = letra.count(palabra)"
   ]
  },
  {
   "cell_type": "code",
   "execution_count": 90,
   "metadata": {},
   "outputs": [
    {
     "data": {
      "text/plain": [
       "{'crazy': 2,\n",
       " 'friends': 1,\n",
       " 'fast': 1,\n",
       " 'place': 1,\n",
       " 'chance': 1,\n",
       " 'not': 2,\n",
       " 'it': 23,\n",
       " 'all': 4,\n",
       " 'hand': 3,\n",
       " 'slow': 1,\n",
       " 'shots': 1,\n",
       " 'follow': 6,\n",
       " 'give': 1,\n",
       " 'say': 2,\n",
       " 'bag': 1,\n",
       " 'best': 1,\n",
       " 'last': 3,\n",
       " 'how': 1,\n",
       " 'make': 1,\n",
       " 'mind': 2,\n",
       " 'something': 6,\n",
       " 'love': 26,\n",
       " 'dance': 1,\n",
       " 'too': 5,\n",
       " 'one': 1,\n",
       " 'week': 1,\n",
       " 'are': 1,\n",
       " 'up': 3,\n",
       " 'tell': 1,\n",
       " 'radio': 1,\n",
       " 'where': 1,\n",
       " 'sour': 1,\n",
       " 'i': 149,\n",
       " 'singing': 2,\n",
       " 'was': 2,\n",
       " 'body': 19,\n",
       " 'although': 3,\n",
       " 'fill': 2,\n",
       " \"we're\": 1,\n",
       " 'conversation': 1,\n",
       " 'our': 25,\n",
       " 'date': 1,\n",
       " 'out': 2,\n",
       " 'brand': 6,\n",
       " 'know': 2,\n",
       " 'now': 13,\n",
       " \"isn't\": 1,\n",
       " 'go': 3,\n",
       " 'lover': 1,\n",
       " 'begin': 1,\n",
       " 'van': 1,\n",
       " 'new': 6,\n",
       " 'that': 2,\n",
       " 'magnet': 3,\n",
       " 'taxi': 1,\n",
       " 'eat': 2,\n",
       " 'on': 45,\n",
       " 'for': 3,\n",
       " 'my': 33,\n",
       " \"i'm\": 23,\n",
       " 'okay': 1,\n",
       " 'take': 1,\n",
       " \"i'll\": 1,\n",
       " 'much': 2,\n",
       " 'story': 1,\n",
       " 'waist': 2,\n",
       " 'backseat': 1,\n",
       " 'club': 1,\n",
       " 'want': 2,\n",
       " 'just': 1,\n",
       " 'be': 21,\n",
       " 'heart': 3,\n",
       " 'shape': 6,\n",
       " 'kiss': 1,\n",
       " 'trust': 1,\n",
       " 'over': 8,\n",
       " 'so': 11,\n",
       " 'grab': 2,\n",
       " 'thrifty': 1,\n",
       " 'in': 55,\n",
       " 'can': 1,\n",
       " 'sweet': 1,\n",
       " 'is': 15,\n",
       " 'play': 1,\n",
       " 'day': 6,\n",
       " 'put': 3,\n",
       " 'baby': 14,\n",
       " 'start': 2,\n",
       " 'at': 8,\n",
       " \"don't\": 2,\n",
       " 'of': 6,\n",
       " 'me': 58,\n",
       " 'doing': 2,\n",
       " 'falling': 3,\n",
       " 'smell': 3,\n",
       " 'every': 6,\n",
       " 'pull': 3,\n",
       " 'night': 3,\n",
       " 'let': 3,\n",
       " 'bar': 1,\n",
       " 'the': 21,\n",
       " 'hours': 2,\n",
       " 'get': 1,\n",
       " 'plate': 1,\n",
       " 'boy': 2,\n",
       " 'girl': 2,\n",
       " 'drinking': 1,\n",
       " 'stop': 1,\n",
       " 'with': 22,\n",
       " 'table': 1,\n",
       " 'handmade': 2,\n",
       " 'lead': 6,\n",
       " 'first': 1,\n",
       " 'leave': 1,\n",
       " 'about': 1,\n",
       " 'find': 1,\n",
       " 'push': 3,\n",
       " 'discovering': 6,\n",
       " 'you': 37,\n",
       " 'somebody': 2,\n",
       " 'man': 1,\n",
       " 'a': 139,\n",
       " 'going': 1,\n",
       " 'to': 9,\n",
       " 'talk': 4,\n",
       " 'driver': 1,\n",
       " 'we': 13,\n",
       " 'come': 37,\n",
       " 'your': 21,\n",
       " 'jukebox': 1,\n",
       " 'like': 10,\n",
       " 'were': 3,\n",
       " 'and': 32,\n",
       " 'room': 3,\n",
       " 'family': 1,\n",
       " 'bedsheets': 3,\n",
       " 'may': 2,\n",
       " 'then': 3,\n",
       " \"let's\": 2,\n",
       " 'do': 7}"
      ]
     },
     "execution_count": 90,
     "metadata": {},
     "output_type": "execute_result"
    }
   ],
   "source": [
    "palabras"
   ]
  },
  {
   "cell_type": "markdown",
   "metadata": {},
   "source": [
    "## Using collections"
   ]
  },
  {
   "cell_type": "code",
   "execution_count": 92,
   "metadata": {},
   "outputs": [],
   "source": [
    "from collections import Counter"
   ]
  },
  {
   "cell_type": "code",
   "execution_count": 93,
   "metadata": {},
   "outputs": [
    {
     "name": "stdout",
     "output_type": "stream",
     "text": [
      "Help on class Counter in module collections:\n",
      "\n",
      "class Counter(builtins.dict)\n",
      " |  Counter(*args, **kwds)\n",
      " |  \n",
      " |  Dict subclass for counting hashable items.  Sometimes called a bag\n",
      " |  or multiset.  Elements are stored as dictionary keys and their counts\n",
      " |  are stored as dictionary values.\n",
      " |  \n",
      " |  >>> c = Counter('abcdeabcdabcaba')  # count elements from a string\n",
      " |  \n",
      " |  >>> c.most_common(3)                # three most common elements\n",
      " |  [('a', 5), ('b', 4), ('c', 3)]\n",
      " |  >>> sorted(c)                       # list all unique elements\n",
      " |  ['a', 'b', 'c', 'd', 'e']\n",
      " |  >>> ''.join(sorted(c.elements()))   # list elements with repetitions\n",
      " |  'aaaaabbbbcccdde'\n",
      " |  >>> sum(c.values())                 # total of all counts\n",
      " |  15\n",
      " |  \n",
      " |  >>> c['a']                          # count of letter 'a'\n",
      " |  5\n",
      " |  >>> for elem in 'shazam':           # update counts from an iterable\n",
      " |  ...     c[elem] += 1                # by adding 1 to each element's count\n",
      " |  >>> c['a']                          # now there are seven 'a'\n",
      " |  7\n",
      " |  >>> del c['b']                      # remove all 'b'\n",
      " |  >>> c['b']                          # now there are zero 'b'\n",
      " |  0\n",
      " |  \n",
      " |  >>> d = Counter('simsalabim')       # make another counter\n",
      " |  >>> c.update(d)                     # add in the second counter\n",
      " |  >>> c['a']                          # now there are nine 'a'\n",
      " |  9\n",
      " |  \n",
      " |  >>> c.clear()                       # empty the counter\n",
      " |  >>> c\n",
      " |  Counter()\n",
      " |  \n",
      " |  Note:  If a count is set to zero or reduced to zero, it will remain\n",
      " |  in the counter until the entry is deleted or the counter is cleared:\n",
      " |  \n",
      " |  >>> c = Counter('aaabbc')\n",
      " |  >>> c['b'] -= 2                     # reduce the count of 'b' by two\n",
      " |  >>> c.most_common()                 # 'b' is still in, but its count is zero\n",
      " |  [('a', 3), ('c', 1), ('b', 0)]\n",
      " |  \n",
      " |  Method resolution order:\n",
      " |      Counter\n",
      " |      builtins.dict\n",
      " |      builtins.object\n",
      " |  \n",
      " |  Methods defined here:\n",
      " |  \n",
      " |  __add__(self, other)\n",
      " |      Add counts from two counters.\n",
      " |      \n",
      " |      >>> Counter('abbb') + Counter('bcc')\n",
      " |      Counter({'b': 4, 'c': 2, 'a': 1})\n",
      " |  \n",
      " |  __and__(self, other)\n",
      " |      Intersection is the minimum of corresponding counts.\n",
      " |      \n",
      " |      >>> Counter('abbb') & Counter('bcc')\n",
      " |      Counter({'b': 1})\n",
      " |  \n",
      " |  __delitem__(self, elem)\n",
      " |      Like dict.__delitem__() but does not raise KeyError for missing values.\n",
      " |  \n",
      " |  __iadd__(self, other)\n",
      " |      Inplace add from another counter, keeping only positive counts.\n",
      " |      \n",
      " |      >>> c = Counter('abbb')\n",
      " |      >>> c += Counter('bcc')\n",
      " |      >>> c\n",
      " |      Counter({'b': 4, 'c': 2, 'a': 1})\n",
      " |  \n",
      " |  __iand__(self, other)\n",
      " |      Inplace intersection is the minimum of corresponding counts.\n",
      " |      \n",
      " |      >>> c = Counter('abbb')\n",
      " |      >>> c &= Counter('bcc')\n",
      " |      >>> c\n",
      " |      Counter({'b': 1})\n",
      " |  \n",
      " |  __init__(*args, **kwds)\n",
      " |      Create a new, empty Counter object.  And if given, count elements\n",
      " |      from an input iterable.  Or, initialize the count from another mapping\n",
      " |      of elements to their counts.\n",
      " |      \n",
      " |      >>> c = Counter()                           # a new, empty counter\n",
      " |      >>> c = Counter('gallahad')                 # a new counter from an iterable\n",
      " |      >>> c = Counter({'a': 4, 'b': 2})           # a new counter from a mapping\n",
      " |      >>> c = Counter(a=4, b=2)                   # a new counter from keyword args\n",
      " |  \n",
      " |  __ior__(self, other)\n",
      " |      Inplace union is the maximum of value from either counter.\n",
      " |      \n",
      " |      >>> c = Counter('abbb')\n",
      " |      >>> c |= Counter('bcc')\n",
      " |      >>> c\n",
      " |      Counter({'b': 3, 'c': 2, 'a': 1})\n",
      " |  \n",
      " |  __isub__(self, other)\n",
      " |      Inplace subtract counter, but keep only results with positive counts.\n",
      " |      \n",
      " |      >>> c = Counter('abbbc')\n",
      " |      >>> c -= Counter('bccd')\n",
      " |      >>> c\n",
      " |      Counter({'b': 2, 'a': 1})\n",
      " |  \n",
      " |  __missing__(self, key)\n",
      " |      The count of elements not in the Counter is zero.\n",
      " |  \n",
      " |  __neg__(self)\n",
      " |      Subtracts from an empty counter.  Strips positive and zero counts,\n",
      " |      and flips the sign on negative counts.\n",
      " |  \n",
      " |  __or__(self, other)\n",
      " |      Union is the maximum of value in either of the input counters.\n",
      " |      \n",
      " |      >>> Counter('abbb') | Counter('bcc')\n",
      " |      Counter({'b': 3, 'c': 2, 'a': 1})\n",
      " |  \n",
      " |  __pos__(self)\n",
      " |      Adds an empty counter, effectively stripping negative and zero counts\n",
      " |  \n",
      " |  __reduce__(self)\n",
      " |      Helper for pickle.\n",
      " |  \n",
      " |  __repr__(self)\n",
      " |      Return repr(self).\n",
      " |  \n",
      " |  __sub__(self, other)\n",
      " |      Subtract count, but keep only results with positive counts.\n",
      " |      \n",
      " |      >>> Counter('abbbc') - Counter('bccd')\n",
      " |      Counter({'b': 2, 'a': 1})\n",
      " |  \n",
      " |  copy(self)\n",
      " |      Return a shallow copy.\n",
      " |  \n",
      " |  elements(self)\n",
      " |      Iterator over elements repeating each as many times as its count.\n",
      " |      \n",
      " |      >>> c = Counter('ABCABC')\n",
      " |      >>> sorted(c.elements())\n",
      " |      ['A', 'A', 'B', 'B', 'C', 'C']\n",
      " |      \n",
      " |      # Knuth's example for prime factors of 1836:  2**2 * 3**3 * 17**1\n",
      " |      >>> prime_factors = Counter({2: 2, 3: 3, 17: 1})\n",
      " |      >>> product = 1\n",
      " |      >>> for factor in prime_factors.elements():     # loop over factors\n",
      " |      ...     product *= factor                       # and multiply them\n",
      " |      >>> product\n",
      " |      1836\n",
      " |      \n",
      " |      Note, if an element's count has been set to zero or is a negative\n",
      " |      number, elements() will ignore it.\n",
      " |  \n",
      " |  most_common(self, n=None)\n",
      " |      List the n most common elements and their counts from the most\n",
      " |      common to the least.  If n is None, then list all element counts.\n",
      " |      \n",
      " |      >>> Counter('abcdeabcdabcaba').most_common(3)\n",
      " |      [('a', 5), ('b', 4), ('c', 3)]\n",
      " |  \n",
      " |  subtract(*args, **kwds)\n",
      " |      Like dict.update() but subtracts counts instead of replacing them.\n",
      " |      Counts can be reduced below zero.  Both the inputs and outputs are\n",
      " |      allowed to contain zero and negative counts.\n",
      " |      \n",
      " |      Source can be an iterable, a dictionary, or another Counter instance.\n",
      " |      \n",
      " |      >>> c = Counter('which')\n",
      " |      >>> c.subtract('witch')             # subtract elements from another iterable\n",
      " |      >>> c.subtract(Counter('watch'))    # subtract elements from another counter\n",
      " |      >>> c['h']                          # 2 in which, minus 1 in witch, minus 1 in watch\n",
      " |      0\n",
      " |      >>> c['w']                          # 1 in which, minus 1 in witch, minus 1 in watch\n",
      " |      -1\n",
      " |  \n",
      " |  update(*args, **kwds)\n",
      " |      Like dict.update() but add counts instead of replacing them.\n",
      " |      \n",
      " |      Source can be an iterable, a dictionary, or another Counter instance.\n",
      " |      \n",
      " |      >>> c = Counter('which')\n",
      " |      >>> c.update('witch')           # add elements from another iterable\n",
      " |      >>> d = Counter('watch')\n",
      " |      >>> c.update(d)                 # add elements from another counter\n",
      " |      >>> c['h']                      # four 'h' in which, witch, and watch\n",
      " |      4\n",
      " |  \n",
      " |  ----------------------------------------------------------------------\n",
      " |  Class methods defined here:\n",
      " |  \n",
      " |  fromkeys(iterable, v=None) from builtins.type\n",
      " |      Create a new dictionary with keys from iterable and values set to value.\n",
      " |  \n",
      " |  ----------------------------------------------------------------------\n",
      " |  Data descriptors defined here:\n",
      " |  \n",
      " |  __dict__\n",
      " |      dictionary for instance variables (if defined)\n",
      " |  \n",
      " |  __weakref__\n",
      " |      list of weak references to the object (if defined)\n",
      " |  \n",
      " |  ----------------------------------------------------------------------\n",
      " |  Methods inherited from builtins.dict:\n",
      " |  \n",
      " |  __contains__(self, key, /)\n",
      " |      True if the dictionary has the specified key, else False.\n",
      " |  \n",
      " |  __eq__(self, value, /)\n",
      " |      Return self==value.\n",
      " |  \n",
      " |  __ge__(self, value, /)\n",
      " |      Return self>=value.\n",
      " |  \n",
      " |  __getattribute__(self, name, /)\n",
      " |      Return getattr(self, name).\n",
      " |  \n",
      " |  __getitem__(...)\n",
      " |      x.__getitem__(y) <==> x[y]\n",
      " |  \n",
      " |  __gt__(self, value, /)\n",
      " |      Return self>value.\n",
      " |  \n",
      " |  __iter__(self, /)\n",
      " |      Implement iter(self).\n",
      " |  \n",
      " |  __le__(self, value, /)\n",
      " |      Return self<=value.\n",
      " |  \n",
      " |  __len__(self, /)\n",
      " |      Return len(self).\n",
      " |  \n",
      " |  __lt__(self, value, /)\n",
      " |      Return self<value.\n",
      " |  \n",
      " |  __ne__(self, value, /)\n",
      " |      Return self!=value.\n",
      " |  \n",
      " |  __setitem__(self, key, value, /)\n",
      " |      Set self[key] to value.\n",
      " |  \n",
      " |  __sizeof__(...)\n",
      " |      D.__sizeof__() -> size of D in memory, in bytes\n",
      " |  \n",
      " |  clear(...)\n",
      " |      D.clear() -> None.  Remove all items from D.\n",
      " |  \n",
      " |  get(self, key, default=None, /)\n",
      " |      Return the value for key if key is in the dictionary, else default.\n",
      " |  \n",
      " |  items(...)\n",
      " |      D.items() -> a set-like object providing a view on D's items\n",
      " |  \n",
      " |  keys(...)\n",
      " |      D.keys() -> a set-like object providing a view on D's keys\n",
      " |  \n",
      " |  pop(...)\n",
      " |      D.pop(k[,d]) -> v, remove specified key and return the corresponding value.\n",
      " |      If key is not found, d is returned if given, otherwise KeyError is raised\n",
      " |  \n",
      " |  popitem(...)\n",
      " |      D.popitem() -> (k, v), remove and return some (key, value) pair as a\n",
      " |      2-tuple; but raise KeyError if D is empty.\n",
      " |  \n",
      " |  setdefault(self, key, default=None, /)\n",
      " |      Insert key with a value of default if key is not in the dictionary.\n",
      " |      \n",
      " |      Return the value for key if key is in the dictionary, else default.\n",
      " |  \n",
      " |  values(...)\n",
      " |      D.values() -> an object providing a view on D's values\n",
      " |  \n",
      " |  ----------------------------------------------------------------------\n",
      " |  Static methods inherited from builtins.dict:\n",
      " |  \n",
      " |  __new__(*args, **kwargs) from builtins.type\n",
      " |      Create and return a new object.  See help(type) for accurate signature.\n",
      " |  \n",
      " |  ----------------------------------------------------------------------\n",
      " |  Data and other attributes inherited from builtins.dict:\n",
      " |  \n",
      " |  __hash__ = None\n",
      "\n"
     ]
    }
   ],
   "source": [
    "help(Counter)"
   ]
  },
  {
   "cell_type": "code",
   "execution_count": 95,
   "metadata": {},
   "outputs": [
    {
     "data": {
      "text/plain": [
       "[('on', 40), ('come', 37), ('my', 33), ('in', 27), ('love', 25)]"
      ]
     },
     "execution_count": 95,
     "metadata": {},
     "output_type": "execute_result"
    }
   ],
   "source": [
    "Counter(letra.split()).most_common(5)"
   ]
  },
  {
   "cell_type": "code",
   "execution_count": null,
   "metadata": {},
   "outputs": [],
   "source": []
  }
 ],
 "metadata": {
  "kernelspec": {
   "display_name": "Ironhack",
   "language": "python",
   "name": "ironhack"
  },
  "language_info": {
   "codemirror_mode": {
    "name": "ipython",
    "version": 3
   },
   "file_extension": ".py",
   "mimetype": "text/x-python",
   "name": "python",
   "nbconvert_exporter": "python",
   "pygments_lexer": "ipython3",
   "version": "3.7.5"
  },
  "toc": {
   "base_numbering": 1,
   "nav_menu": {},
   "number_sections": true,
   "sideBar": true,
   "skip_h1_title": false,
   "title_cell": "Table of Contents",
   "title_sidebar": "Contents",
   "toc_cell": true,
   "toc_position": {},
   "toc_section_display": true,
   "toc_window_display": false
  },
  "varInspector": {
   "cols": {
    "lenName": 16,
    "lenType": 16,
    "lenVar": 40
   },
   "kernels_config": {
    "python": {
     "delete_cmd_postfix": "",
     "delete_cmd_prefix": "del ",
     "library": "var_list.py",
     "varRefreshCmd": "print(var_dic_list())"
    },
    "r": {
     "delete_cmd_postfix": ") ",
     "delete_cmd_prefix": "rm(",
     "library": "var_list.r",
     "varRefreshCmd": "cat(var_dic_list()) "
    }
   },
   "types_to_exclude": [
    "module",
    "function",
    "builtin_function_or_method",
    "instance",
    "_Feature"
   ],
   "window_display": false
  }
 },
 "nbformat": 4,
 "nbformat_minor": 4
}
