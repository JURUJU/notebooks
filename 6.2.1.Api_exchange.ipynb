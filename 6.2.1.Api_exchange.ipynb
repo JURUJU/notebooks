{
 "cells": [
  {
   "cell_type": "markdown",
   "metadata": {},
   "source": [
    "# API"
   ]
  },
  {
   "cell_type": "code",
   "execution_count": 1,
   "metadata": {},
   "outputs": [],
   "source": [
    "import requests\n",
    "import json"
   ]
  },
  {
   "cell_type": "code",
   "execution_count": 3,
   "metadata": {},
   "outputs": [
    {
     "name": "stdout",
     "output_type": "stream",
     "text": [
      "{'rates': {'CAD': 1.554, 'HKD': 8.9741, 'ISK': 157.8, 'PHP': 57.11, 'DKK': 7.4442, 'HUF': 349.27, 'CZK': 26.365, 'AUD': 1.6139, 'RON': 4.8413, 'SEK': 10.2415, 'IDR': 16867.99, 'INR': 86.288, 'BRL': 5.992, 'RUB': 81.9588, 'HRK': 7.522, 'JPY': 123.94, 'THB': 36.546, 'CHF': 1.0785, 'SGD': 1.6015, 'PLN': 4.4288, 'BGN': 1.9558, 'TRY': 7.9299, 'CNY': 8.0999, 'NOK': 10.5343, 'NZD': 1.7328, 'ZAR': 18.952, 'USD': 1.1578, 'MXN': 25.8715, 'ILS': 3.9621, 'GBP': 0.91123, 'KRW': 1384.38, 'MYR': 4.9235}, 'base': 'EUR', 'date': '2020-07-22'}\n"
     ]
    }
   ],
   "source": [
    "api_url = 'https://api.exchangeratesapi.io/latest'\n",
    "response = requests.get(api_url)\n",
    "rates = json.loads(response.text)\n",
    "print(rates)"
   ]
  },
  {
   "cell_type": "markdown",
   "metadata": {},
   "source": [
    "## Build a function that gets the rates for today"
   ]
  },
  {
   "cell_type": "code",
   "execution_count": 4,
   "metadata": {},
   "outputs": [],
   "source": [
    "def get_rates():\n",
    "    pass"
   ]
  },
  {
   "cell_type": "markdown",
   "metadata": {},
   "source": [
    "## Build a function that gets the conversion from one currendy to another"
   ]
  },
  {
   "cell_type": "code",
   "execution_count": 5,
   "metadata": {},
   "outputs": [],
   "source": [
    "def convert(cantidad, de='EUR', a='USD'):\n",
    "    pass"
   ]
  },
  {
   "cell_type": "markdown",
   "metadata": {},
   "source": [
    "## Test the results"
   ]
  },
  {
   "cell_type": "code",
   "execution_count": 9,
   "metadata": {},
   "outputs": [
    {
     "name": "stdout",
     "output_type": "stream",
     "text": [
      "100 euros son 115.78 dólares\n",
      "100 dolares canadiendes son 74.50 dólares estadounidenses\n"
     ]
    }
   ],
   "source": [
    "cantidad_en_euros = 100\n",
    "cantidad_en_dolares = convert(cantidad_en_euros)\n",
    "\n",
    "print(f'{cantidad_en_euros} euros son {cantidad_en_dolares:.2f} dólares')\n",
    "\n",
    "cantidad_en_dolares = convert(cantidad_en_euros, de='CAD', a='USD')\n",
    "print(f'{cantidad_en_euros} dolares canadiendes son {cantidad_en_dolares:.2f} dólares estadounidenses')"
   ]
  },
  {
   "cell_type": "code",
   "execution_count": null,
   "metadata": {},
   "outputs": [],
   "source": []
  }
 ],
 "metadata": {
  "kernelspec": {
   "display_name": "Python 3",
   "language": "python",
   "name": "python3"
  },
  "language_info": {
   "codemirror_mode": {
    "name": "ipython",
    "version": 3
   },
   "file_extension": ".py",
   "mimetype": "text/x-python",
   "name": "python",
   "nbconvert_exporter": "python",
   "pygments_lexer": "ipython3",
   "version": "3.7.3"
  }
 },
 "nbformat": 4,
 "nbformat_minor": 2
}
