{
 "cells": [
  {
   "cell_type": "markdown",
   "metadata": {},
   "source": [
    "# Python and SQLite"
   ]
  },
  {
   "cell_type": "markdown",
   "metadata": {},
   "source": [
    "### Install ipython-sql"
   ]
  },
  {
   "cell_type": "code",
   "execution_count": null,
   "metadata": {},
   "outputs": [],
   "source": [
    "#!pip install ipython-sql"
   ]
  },
  {
   "cell_type": "markdown",
   "metadata": {},
   "source": [
    "### Load the extension"
   ]
  },
  {
   "cell_type": "code",
   "execution_count": 2,
   "metadata": {},
   "outputs": [],
   "source": [
    "%load_ext sql"
   ]
  },
  {
   "cell_type": "markdown",
   "metadata": {},
   "source": [
    "### Connect to the database"
   ]
  },
  {
   "cell_type": "code",
   "execution_count": 3,
   "metadata": {},
   "outputs": [],
   "source": [
    "%sql sqlite:////home/bioinformatica/Ironhack/3_Code/notebooks/data/sql-murder-mystery.db"
   ]
  },
  {
   "cell_type": "markdown",
   "metadata": {},
   "source": [
    "### Get list of tables"
   ]
  },
  {
   "cell_type": "code",
   "execution_count": 6,
   "metadata": {
    "scrolled": true
   },
   "outputs": [
    {
     "name": "stdout",
     "output_type": "stream",
     "text": [
      " * sqlite:////home/bioinformatica/Ironhack/3_Code/notebooks/data/sql-murder-mystery.db\n",
      "Done.\n"
     ]
    },
    {
     "data": {
      "text/html": [
       "<table>\n",
       "    <tr>\n",
       "        <th>name</th>\n",
       "    </tr>\n",
       "    <tr>\n",
       "        <td>crime_scene_report</td>\n",
       "    </tr>\n",
       "    <tr>\n",
       "        <td>drivers_license</td>\n",
       "    </tr>\n",
       "    <tr>\n",
       "        <td>facebook_event_checkin</td>\n",
       "    </tr>\n",
       "    <tr>\n",
       "        <td>get_fit_now_check_in</td>\n",
       "    </tr>\n",
       "    <tr>\n",
       "        <td>get_fit_now_member</td>\n",
       "    </tr>\n",
       "    <tr>\n",
       "        <td>income</td>\n",
       "    </tr>\n",
       "    <tr>\n",
       "        <td>interview</td>\n",
       "    </tr>\n",
       "    <tr>\n",
       "        <td>person</td>\n",
       "    </tr>\n",
       "    <tr>\n",
       "        <td>solution</td>\n",
       "    </tr>\n",
       "</table>"
      ],
      "text/plain": [
       "[('crime_scene_report',),\n",
       " ('drivers_license',),\n",
       " ('facebook_event_checkin',),\n",
       " ('get_fit_now_check_in',),\n",
       " ('get_fit_now_member',),\n",
       " ('income',),\n",
       " ('interview',),\n",
       " ('person',),\n",
       " ('solution',)]"
      ]
     },
     "execution_count": 6,
     "metadata": {},
     "output_type": "execute_result"
    }
   ],
   "source": [
    "%%sql\n",
    "SELECT name FROM sqlite_master\n",
    "WHERE type='table'\n",
    "ORDER BY name;"
   ]
  },
  {
   "cell_type": "markdown",
   "metadata": {},
   "source": [
    "### Explore one table"
   ]
  },
  {
   "cell_type": "code",
   "execution_count": 15,
   "metadata": {
    "scrolled": true
   },
   "outputs": [
    {
     "name": "stdout",
     "output_type": "stream",
     "text": [
      " * sqlite:////home/bioinformatica/Ironhack/3_Code/notebooks/data/sql-murder-mystery.db\n",
      "Done.\n"
     ]
    },
    {
     "data": {
      "text/html": [
       "<table>\n",
       "    <tr>\n",
       "        <th>id</th>\n",
       "        <th>name</th>\n",
       "        <th>license_id</th>\n",
       "        <th>address_number</th>\n",
       "        <th>address_street_name</th>\n",
       "        <th>ssn</th>\n",
       "    </tr>\n",
       "    <tr>\n",
       "        <td>10000</td>\n",
       "        <td>Christoper Peteuil</td>\n",
       "        <td>993845</td>\n",
       "        <td>624</td>\n",
       "        <td>Bankhall Ave</td>\n",
       "        <td>747714076</td>\n",
       "    </tr>\n",
       "    <tr>\n",
       "        <td>10007</td>\n",
       "        <td>Kourtney Calderwood</td>\n",
       "        <td>861794</td>\n",
       "        <td>2791</td>\n",
       "        <td>Gustavus Blvd</td>\n",
       "        <td>477972044</td>\n",
       "    </tr>\n",
       "    <tr>\n",
       "        <td>10010</td>\n",
       "        <td>Muoi Cary</td>\n",
       "        <td>385336</td>\n",
       "        <td>741</td>\n",
       "        <td>Northwestern Dr</td>\n",
       "        <td>828638512</td>\n",
       "    </tr>\n",
       "    <tr>\n",
       "        <td>10016</td>\n",
       "        <td>Era Moselle</td>\n",
       "        <td>431897</td>\n",
       "        <td>1987</td>\n",
       "        <td>Wood Glade St</td>\n",
       "        <td>614621061</td>\n",
       "    </tr>\n",
       "    <tr>\n",
       "        <td>10025</td>\n",
       "        <td>Trena Hornby</td>\n",
       "        <td>550890</td>\n",
       "        <td>276</td>\n",
       "        <td>Daws Hill Way</td>\n",
       "        <td>223877684</td>\n",
       "    </tr>\n",
       "    <tr>\n",
       "        <td>10027</td>\n",
       "        <td>Antione Godbolt</td>\n",
       "        <td>439509</td>\n",
       "        <td>2431</td>\n",
       "        <td>Zelham Dr</td>\n",
       "        <td>491650087</td>\n",
       "    </tr>\n",
       "    <tr>\n",
       "        <td>10034</td>\n",
       "        <td>Kyra Buen</td>\n",
       "        <td>920494</td>\n",
       "        <td>1873</td>\n",
       "        <td>Sleigh Dr</td>\n",
       "        <td>332497972</td>\n",
       "    </tr>\n",
       "    <tr>\n",
       "        <td>10039</td>\n",
       "        <td>Francesco Agundez</td>\n",
       "        <td>278151</td>\n",
       "        <td>736</td>\n",
       "        <td>Buswell Dr</td>\n",
       "        <td>861079251</td>\n",
       "    </tr>\n",
       "    <tr>\n",
       "        <td>10095</td>\n",
       "        <td>Leslie Thate</td>\n",
       "        <td>729987</td>\n",
       "        <td>2772</td>\n",
       "        <td>Camellia Park Circle</td>\n",
       "        <td>127944356</td>\n",
       "    </tr>\n",
       "    <tr>\n",
       "        <td>10122</td>\n",
       "        <td>Alva Conkel</td>\n",
       "        <td>779002</td>\n",
       "        <td>116</td>\n",
       "        <td>Diversey Circle</td>\n",
       "        <td>148521773</td>\n",
       "    </tr>\n",
       "</table>"
      ],
      "text/plain": [
       "[(10000, 'Christoper Peteuil', 993845, 624, 'Bankhall Ave', 747714076),\n",
       " (10007, 'Kourtney Calderwood', 861794, 2791, 'Gustavus Blvd', 477972044),\n",
       " (10010, 'Muoi Cary', 385336, 741, 'Northwestern Dr', 828638512),\n",
       " (10016, 'Era Moselle', 431897, 1987, 'Wood Glade St', 614621061),\n",
       " (10025, 'Trena Hornby', 550890, 276, 'Daws Hill Way', 223877684),\n",
       " (10027, 'Antione Godbolt', 439509, 2431, 'Zelham Dr', 491650087),\n",
       " (10034, 'Kyra Buen', 920494, 1873, 'Sleigh Dr', 332497972),\n",
       " (10039, 'Francesco Agundez', 278151, 736, 'Buswell Dr', 861079251),\n",
       " (10095, 'Leslie Thate', 729987, 2772, 'Camellia Park Circle', 127944356),\n",
       " (10122, 'Alva Conkel', 779002, 116, 'Diversey Circle', 148521773)]"
      ]
     },
     "execution_count": 15,
     "metadata": {},
     "output_type": "execute_result"
    }
   ],
   "source": [
    "%%sql\n",
    "select * \n",
    "from person"
   ]
  }
 ],
 "metadata": {
  "kernelspec": {
   "display_name": "Ironhack",
   "language": "python",
   "name": "ironhack"
  },
  "language_info": {
   "codemirror_mode": {
    "name": "ipython",
    "version": 3
   },
   "file_extension": ".py",
   "mimetype": "text/x-python",
   "name": "python",
   "nbconvert_exporter": "python",
   "pygments_lexer": "ipython3",
   "version": "3.7.5"
  }
 },
 "nbformat": 4,
 "nbformat_minor": 4
}
