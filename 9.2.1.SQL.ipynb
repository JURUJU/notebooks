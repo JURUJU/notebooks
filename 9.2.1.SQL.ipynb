{
 "cells": [
  {
   "cell_type": "markdown",
   "id": "universal-appendix",
   "metadata": {
    "toc": true
   },
   "source": [
    "<h1>Table of Contents<span class=\"tocSkip\"></span></h1>\n",
    "<div class=\"toc\"><ul class=\"toc-item\"></ul></div>"
   ]
  },
  {
   "cell_type": "code",
   "execution_count": 10,
   "id": "instructional-percentage",
   "metadata": {},
   "outputs": [
    {
     "name": "stdout",
     "output_type": "stream",
     "text": [
      "The sql extension is already loaded. To reload it, use:\n",
      "  %reload_ext sql\n"
     ]
    }
   ],
   "source": [
    "%load_ext sql"
   ]
  },
  {
   "cell_type": "code",
   "execution_count": 11,
   "id": "excellent-massage",
   "metadata": {},
   "outputs": [],
   "source": [
    "%sql sqlite:///data/spotify.db"
   ]
  },
  {
   "cell_type": "code",
   "execution_count": null,
   "id": "permanent-facial",
   "metadata": {},
   "outputs": [],
   "source": [
    "create table TrackPopularity as\n",
    "select id, popularity\n",
    "from Track"
   ]
  },
  {
   "cell_type": "code",
   "execution_count": null,
   "id": "collect-medicare",
   "metadata": {},
   "outputs": [],
   "source": [
    "select t.*, p.popularity\n",
    "from Track t inner join TrackPopularity p on p.id = t.id\n",
    " "
   ]
  },
  {
   "cell_type": "code",
   "execution_count": null,
   "id": "collective-brush",
   "metadata": {},
   "outputs": [],
   "source": [
    "update Track\n",
    "set popularity = (select popularity from TrackPopularity where id = Track.id)"
   ]
  },
  {
   "cell_type": "code",
   "execution_count": null,
   "id": "incident-relevance",
   "metadata": {},
   "outputs": [],
   "source": [
    "update Track set popularity = p.popularity\n",
    "from TrackPopularity p \n",
    "where p.id = Track.id"
   ]
  },
  {
   "cell_type": "code",
   "execution_count": null,
   "id": "fatal-investing",
   "metadata": {},
   "outputs": [],
   "source": [
    "explain query plan update Track\n",
    "set popularity = (select popularity from TrackPopularity where id = Track.id)"
   ]
  },
  {
   "cell_type": "code",
   "execution_count": null,
   "id": "fatty-relative",
   "metadata": {},
   "outputs": [],
   "source": [
    "create index tp_track_idx on TrackPopularity (id)"
   ]
  },
  {
   "cell_type": "code",
   "execution_count": null,
   "id": "afraid-outside",
   "metadata": {},
   "outputs": [],
   "source": [
    "create view PlayListStats as\n",
    "select a.name, pl.name, count(*)\n",
    "from Artist a inner join Album b on a.id = b.artist\n",
    "inner join Track t on t.album = b.id\n",
    "inner join TrackPlaylist tp on tp.track = t.id\n",
    "inner join Playlist pl on pl.id = tp.playlist\n",
    "group by a.name, pl.name"
   ]
  },
  {
   "cell_type": "code",
   "execution_count": null,
   "id": "secret-mouth",
   "metadata": {},
   "outputs": [],
   "source": [
    "select * from PlayListStats"
   ]
  },
  {
   "cell_type": "code",
   "execution_count": null,
   "id": "specified-berkeley",
   "metadata": {},
   "outputs": [],
   "source": [
    "drop view PlayListStats"
   ]
  },
  {
   "cell_type": "code",
   "execution_count": null,
   "id": "happy-dimension",
   "metadata": {},
   "outputs": [],
   "source": [
    "insert into Followers values ('3eqjTLE0HfPfh78zjh6TqT', 2)"
   ]
  },
  {
   "cell_type": "code",
   "execution_count": null,
   "id": "improved-marriage",
   "metadata": {},
   "outputs": [],
   "source": [
    "update Artist set followers = followers + 1 where id =  '3eqjTLE0HfPfh78zjh6TqT'"
   ]
  },
  {
   "cell_type": "code",
   "execution_count": null,
   "id": "thrown-career",
   "metadata": {},
   "outputs": [],
   "source": [
    "create trigger update_followers\n",
    "after insert on Followers\n",
    "begin\n",
    " update Artist set followers = followers +1 where id = new.artist;\n",
    "end;"
   ]
  },
  {
   "cell_type": "code",
   "execution_count": null,
   "id": "beneficial-manor",
   "metadata": {},
   "outputs": [],
   "source": [
    "insert into Followers values ('3eqjTLE0HfPfh78zjh6TqT', 3);"
   ]
  },
  {
   "cell_type": "code",
   "execution_count": null,
   "id": "fifth-balloon",
   "metadata": {},
   "outputs": [],
   "source": [
    "\n",
    "begin transaction;\n",
    "update Account set saldo = saldo - 100 where client = 1\n",
    "update Account set saldo = saldo + 100 where client = 2\n",
    "commit;\n",
    "\n",
    "rollback"
   ]
  }
 ],
 "metadata": {
  "kernelspec": {
   "display_name": "Ironhack",
   "language": "python",
   "name": "ironhack"
  },
  "language_info": {
   "codemirror_mode": {
    "name": "ipython",
    "version": 3
   },
   "file_extension": ".py",
   "mimetype": "text/x-python",
   "name": "python",
   "nbconvert_exporter": "python",
   "pygments_lexer": "ipython3",
   "version": "3.7.5"
  },
  "toc": {
   "base_numbering": 1,
   "nav_menu": {},
   "number_sections": true,
   "sideBar": true,
   "skip_h1_title": false,
   "title_cell": "Table of Contents",
   "title_sidebar": "Contents",
   "toc_cell": true,
   "toc_position": {},
   "toc_section_display": true,
   "toc_window_display": false
  },
  "varInspector": {
   "cols": {
    "lenName": 16,
    "lenType": 16,
    "lenVar": 40
   },
   "kernels_config": {
    "python": {
     "delete_cmd_postfix": "",
     "delete_cmd_prefix": "del ",
     "library": "var_list.py",
     "varRefreshCmd": "print(var_dic_list())"
    },
    "r": {
     "delete_cmd_postfix": ") ",
     "delete_cmd_prefix": "rm(",
     "library": "var_list.r",
     "varRefreshCmd": "cat(var_dic_list()) "
    }
   },
   "types_to_exclude": [
    "module",
    "function",
    "builtin_function_or_method",
    "instance",
    "_Feature"
   ],
   "window_display": false
  }
 },
 "nbformat": 4,
 "nbformat_minor": 5
}
