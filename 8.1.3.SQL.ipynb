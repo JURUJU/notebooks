{
 "cells": [
  {
   "cell_type": "markdown",
   "metadata": {},
   "source": [
    "### Load the extension"
   ]
  },
  {
   "cell_type": "code",
   "execution_count": 12,
   "metadata": {},
   "outputs": [],
   "source": [
    "%load_ext sql"
   ]
  },
  {
   "cell_type": "markdown",
   "metadata": {},
   "source": [
    "### Connect to the database"
   ]
  },
  {
   "cell_type": "code",
   "execution_count": 13,
   "metadata": {},
   "outputs": [],
   "source": [
    "%sql sqlite:////home/bioinformatica/Ironhack/3_Code/notebooks/data/sql-murder-mystery.db"
   ]
  },
  {
   "cell_type": "markdown",
   "metadata": {},
   "source": [
    "### Get list of tables"
   ]
  },
  {
   "cell_type": "code",
   "execution_count": 44,
   "metadata": {
    "scrolled": true
   },
   "outputs": [
    {
     "name": "stdout",
     "output_type": "stream",
     "text": [
      " * sqlite:////home/bioinformatica/Ironhack/3_Code/notebooks/data/sql-murder-mystery.db\n",
      "Done.\n"
     ]
    },
    {
     "data": {
      "text/html": [
       "<table>\n",
       "    <tr>\n",
       "        <th>type</th>\n",
       "        <th>name</th>\n",
       "        <th>tbl_name</th>\n",
       "        <th>rootpage</th>\n",
       "        <th>sql</th>\n",
       "    </tr>\n",
       "    <tr>\n",
       "        <td>table</td>\n",
       "        <td>crime_scene_report</td>\n",
       "        <td>crime_scene_report</td>\n",
       "        <td>2</td>\n",
       "        <td>CREATE TABLE crime_scene_report (<br>        date integer,<br>        type text,<br>        description text,<br>        city text<br>    )</td>\n",
       "    </tr>\n",
       "    <tr>\n",
       "        <td>table</td>\n",
       "        <td>datos_personales_tbl</td>\n",
       "        <td>datos_personales_tbl</td>\n",
       "        <td>734</td>\n",
       "        <td>CREATE TABLE datos_personales_tbl(<br>  name TEXT,<br>  age INT,<br>  gender TEXT,<br>  height INT,<br>  eye_color TEXT,<br>  hair_color TEXT<br>)</td>\n",
       "    </tr>\n",
       "    <tr>\n",
       "        <td>table</td>\n",
       "        <td>drivers_license</td>\n",
       "        <td>drivers_license</td>\n",
       "        <td>3</td>\n",
       "        <td>CREATE TABLE drivers_license (<br>        id integer PRIMARY KEY,<br>        age integer,<br>        height integer,<br>        eye_color text,<br>        hair_color text,<br>        gender text,<br>        plate_number text,<br>        car_make text,<br>        car_model text<br>    )</td>\n",
       "    </tr>\n",
       "    <tr>\n",
       "        <td>table</td>\n",
       "        <td>facebook_event_checkin</td>\n",
       "        <td>facebook_event_checkin</td>\n",
       "        <td>5</td>\n",
       "        <td>CREATE TABLE facebook_event_checkin (<br>        person_id integer,<br>        event_id integer,<br>        event_name text,<br>        date integer,<br>        FOREIGN KEY (person_id) REFERENCES person(id)<br>    )</td>\n",
       "    </tr>\n",
       "    <tr>\n",
       "        <td>table</td>\n",
       "        <td>get_fit_now_check_in</td>\n",
       "        <td>get_fit_now_check_in</td>\n",
       "        <td>9</td>\n",
       "        <td>CREATE TABLE get_fit_now_check_in (<br>        membership_id text,<br>        check_in_date integer,<br>        check_in_time integer,<br>        check_out_time integer,<br>        FOREIGN KEY (membership_id) REFERENCES get_fit_now_member(id)<br>    )</td>\n",
       "    </tr>\n",
       "    <tr>\n",
       "        <td>table</td>\n",
       "        <td>get_fit_now_member</td>\n",
       "        <td>get_fit_now_member</td>\n",
       "        <td>7</td>\n",
       "        <td>CREATE TABLE get_fit_now_member (<br>        id text PRIMARY KEY,<br>        person_id integer,<br>        name text,<br>        membership_start_date integer,<br>        membership_status text,<br>        FOREIGN KEY (person_id) REFERENCES person(id)<br>    )</td>\n",
       "    </tr>\n",
       "    <tr>\n",
       "        <td>table</td>\n",
       "        <td>income</td>\n",
       "        <td>income</td>\n",
       "        <td>10</td>\n",
       "        <td>CREATE TABLE income (<br>        ssn integer PRIMARY KEY,<br>        annual_income integer<br>    )</td>\n",
       "    </tr>\n",
       "    <tr>\n",
       "        <td>table</td>\n",
       "        <td>interview</td>\n",
       "        <td>interview</td>\n",
       "        <td>6</td>\n",
       "        <td>CREATE TABLE interview (<br>        person_id integer,<br>        transcript text,<br>        FOREIGN KEY (person_id) REFERENCES person(id)<br>    )</td>\n",
       "    </tr>\n",
       "    <tr>\n",
       "        <td>table</td>\n",
       "        <td>person</td>\n",
       "        <td>person</td>\n",
       "        <td>4</td>\n",
       "        <td>CREATE TABLE person (<br>        id integer PRIMARY KEY,<br>        name text,<br>        license_id integer,<br>        address_number integer,<br>        address_street_name text,<br>        ssn integer,<br>        FOREIGN KEY (license_id) REFERENCES drivers_license(id)<br>    )</td>\n",
       "    </tr>\n",
       "    <tr>\n",
       "        <td>table</td>\n",
       "        <td>solution</td>\n",
       "        <td>solution</td>\n",
       "        <td>11</td>\n",
       "        <td>CREATE TABLE solution (<br>        user integer,<br>        value text<br>    )</td>\n",
       "    </tr>\n",
       "</table>"
      ],
      "text/plain": [
       "[('table', 'crime_scene_report', 'crime_scene_report', 2, 'CREATE TABLE crime_scene_report (\\n        date integer,\\n        type text,\\n        description text,\\n        city text\\n    )'),\n",
       " ('table', 'datos_personales_tbl', 'datos_personales_tbl', 734, 'CREATE TABLE datos_personales_tbl(\\n  name TEXT,\\n  age INT,\\n  gender TEXT,\\n  height INT,\\n  eye_color TEXT,\\n  hair_color TEXT\\n)'),\n",
       " ('table', 'drivers_license', 'drivers_license', 3, 'CREATE TABLE drivers_license (\\n        id integer PRIMARY KEY,\\n        age integer,\\n        height integer,\\n        eye_color text,\\n        hair_color text,\\n        gender text,\\n        plate_number text,\\n        car_make text,\\n        car_model text\\n    )'),\n",
       " ('table', 'facebook_event_checkin', 'facebook_event_checkin', 5, 'CREATE TABLE facebook_event_checkin (\\n        person_id integer,\\n        event_id integer,\\n        event_name text,\\n        date integer,\\n        FOREIGN KEY (person_id) REFERENCES person(id)\\n    )'),\n",
       " ('table', 'get_fit_now_check_in', 'get_fit_now_check_in', 9, 'CREATE TABLE get_fit_now_check_in (\\n        membership_id text,\\n        check_in_date integer,\\n        check_in_time integer,\\n        check_out_time integer,\\n        FOREIGN KEY (membership_id) REFERENCES get_fit_now_member(id)\\n    )'),\n",
       " ('table', 'get_fit_now_member', 'get_fit_now_member', 7, 'CREATE TABLE get_fit_now_member (\\n        id text PRIMARY KEY,\\n        person_id integer,\\n        name text,\\n        membership_start_date integer,\\n        membership_status text,\\n        FOREIGN KEY (person_id) REFERENCES person(id)\\n    )'),\n",
       " ('table', 'income', 'income', 10, 'CREATE TABLE income (\\n        ssn integer PRIMARY KEY,\\n        annual_income integer\\n    )'),\n",
       " ('table', 'interview', 'interview', 6, 'CREATE TABLE interview (\\n        person_id integer,\\n        transcript text,\\n        FOREIGN KEY (person_id) REFERENCES person(id)\\n    )'),\n",
       " ('table', 'person', 'person', 4, 'CREATE TABLE person (\\n        id integer PRIMARY KEY,\\n        name text,\\n        license_id integer,\\n        address_number integer,\\n        address_street_name text,\\n        ssn integer,\\n        FOREIGN KEY (license_id) REFERENCES drivers_license(id)\\n    )'),\n",
       " ('table', 'solution', 'solution', 11, 'CREATE TABLE solution (\\n        user integer,\\n        value text\\n    )')]"
      ]
     },
     "execution_count": 44,
     "metadata": {},
     "output_type": "execute_result"
    }
   ],
   "source": [
    "%%sql\n",
    "SELECT *\n",
    "FROM sqlite_master\n",
    "WHERE type='table'\n",
    "ORDER BY name;"
   ]
  },
  {
   "cell_type": "markdown",
   "metadata": {},
   "source": [
    "![Schema](./images/schema_mystery.png)"
   ]
  },
  {
   "cell_type": "code",
   "execution_count": 15,
   "metadata": {},
   "outputs": [
    {
     "name": "stdout",
     "output_type": "stream",
     "text": [
      " * sqlite:////home/bioinformatica/Ironhack/3_Code/notebooks/data/sql-murder-mystery.db\n",
      "Done.\n"
     ]
    },
    {
     "data": {
      "text/html": [
       "<table>\n",
       "    <tr>\n",
       "        <th>id</th>\n",
       "        <th>name</th>\n",
       "        <th>license_id</th>\n",
       "        <th>address_number</th>\n",
       "        <th>address_street_name</th>\n",
       "        <th>ssn</th>\n",
       "    </tr>\n",
       "    <tr>\n",
       "        <td>10000</td>\n",
       "        <td>Christoper Peteuil</td>\n",
       "        <td>993845</td>\n",
       "        <td>624</td>\n",
       "        <td>Bankhall Ave</td>\n",
       "        <td>747714076</td>\n",
       "    </tr>\n",
       "    <tr>\n",
       "        <td>10007</td>\n",
       "        <td>Kourtney Calderwood</td>\n",
       "        <td>861794</td>\n",
       "        <td>2791</td>\n",
       "        <td>Gustavus Blvd</td>\n",
       "        <td>477972044</td>\n",
       "    </tr>\n",
       "    <tr>\n",
       "        <td>10010</td>\n",
       "        <td>Muoi Cary</td>\n",
       "        <td>385336</td>\n",
       "        <td>741</td>\n",
       "        <td>Northwestern Dr</td>\n",
       "        <td>828638512</td>\n",
       "    </tr>\n",
       "    <tr>\n",
       "        <td>10016</td>\n",
       "        <td>Era Moselle</td>\n",
       "        <td>431897</td>\n",
       "        <td>1987</td>\n",
       "        <td>Wood Glade St</td>\n",
       "        <td>614621061</td>\n",
       "    </tr>\n",
       "    <tr>\n",
       "        <td>10025</td>\n",
       "        <td>Trena Hornby</td>\n",
       "        <td>550890</td>\n",
       "        <td>276</td>\n",
       "        <td>Daws Hill Way</td>\n",
       "        <td>223877684</td>\n",
       "    </tr>\n",
       "</table>"
      ],
      "text/plain": [
       "[(10000, 'Christoper Peteuil', 993845, 624, 'Bankhall Ave', 747714076),\n",
       " (10007, 'Kourtney Calderwood', 861794, 2791, 'Gustavus Blvd', 477972044),\n",
       " (10010, 'Muoi Cary', 385336, 741, 'Northwestern Dr', 828638512),\n",
       " (10016, 'Era Moselle', 431897, 1987, 'Wood Glade St', 614621061),\n",
       " (10025, 'Trena Hornby', 550890, 276, 'Daws Hill Way', 223877684)]"
      ]
     },
     "execution_count": 15,
     "metadata": {},
     "output_type": "execute_result"
    }
   ],
   "source": [
    "%%sql\n",
    "select *\n",
    "from person\n",
    "limit 5"
   ]
  },
  {
   "cell_type": "markdown",
   "metadata": {},
   "source": [
    "# Python DBAPI"
   ]
  },
  {
   "cell_type": "code",
   "execution_count": 1,
   "metadata": {},
   "outputs": [],
   "source": [
    "import sqlite3"
   ]
  },
  {
   "cell_type": "code",
   "execution_count": 5,
   "metadata": {},
   "outputs": [],
   "source": [
    "db_file = '/home/bioinformatica/Ironhack/3_Code/notebooks/data/sql-murder-mystery.db'"
   ]
  },
  {
   "cell_type": "code",
   "execution_count": 6,
   "metadata": {},
   "outputs": [],
   "source": [
    "conn = sqlite3.connect(db_file)"
   ]
  },
  {
   "cell_type": "code",
   "execution_count": 7,
   "metadata": {},
   "outputs": [],
   "source": [
    "cur = conn.cursor()"
   ]
  },
  {
   "cell_type": "code",
   "execution_count": 8,
   "metadata": {},
   "outputs": [],
   "source": [
    "query = 'select * from person'"
   ]
  },
  {
   "cell_type": "code",
   "execution_count": 9,
   "metadata": {},
   "outputs": [
    {
     "data": {
      "text/plain": [
       "<sqlite3.Cursor at 0x7f15a8211b20>"
      ]
     },
     "execution_count": 9,
     "metadata": {},
     "output_type": "execute_result"
    }
   ],
   "source": [
    "cur.execute(query)"
   ]
  },
  {
   "cell_type": "code",
   "execution_count": 10,
   "metadata": {},
   "outputs": [],
   "source": [
    "results = cur.fetchall()"
   ]
  },
  {
   "cell_type": "code",
   "execution_count": 18,
   "metadata": {},
   "outputs": [],
   "source": [
    "import pandas as pd"
   ]
  },
  {
   "cell_type": "code",
   "execution_count": 20,
   "metadata": {},
   "outputs": [],
   "source": [
    "person = pd.DataFrame(results, columns=['id','name', 'license_id', 'address_number','address_street_name', 'ssn'])"
   ]
  },
  {
   "cell_type": "code",
   "execution_count": 21,
   "metadata": {},
   "outputs": [
    {
     "data": {
      "text/html": [
       "<div>\n",
       "<style scoped>\n",
       "    .dataframe tbody tr th:only-of-type {\n",
       "        vertical-align: middle;\n",
       "    }\n",
       "\n",
       "    .dataframe tbody tr th {\n",
       "        vertical-align: top;\n",
       "    }\n",
       "\n",
       "    .dataframe thead th {\n",
       "        text-align: right;\n",
       "    }\n",
       "</style>\n",
       "<table border=\"1\" class=\"dataframe\">\n",
       "  <thead>\n",
       "    <tr style=\"text-align: right;\">\n",
       "      <th></th>\n",
       "      <th>id</th>\n",
       "      <th>name</th>\n",
       "      <th>license_id</th>\n",
       "      <th>address_number</th>\n",
       "      <th>address_street_name</th>\n",
       "      <th>ssn</th>\n",
       "    </tr>\n",
       "  </thead>\n",
       "  <tbody>\n",
       "    <tr>\n",
       "      <th>0</th>\n",
       "      <td>10000</td>\n",
       "      <td>Christoper Peteuil</td>\n",
       "      <td>993845</td>\n",
       "      <td>624</td>\n",
       "      <td>Bankhall Ave</td>\n",
       "      <td>747714076</td>\n",
       "    </tr>\n",
       "    <tr>\n",
       "      <th>1</th>\n",
       "      <td>10007</td>\n",
       "      <td>Kourtney Calderwood</td>\n",
       "      <td>861794</td>\n",
       "      <td>2791</td>\n",
       "      <td>Gustavus Blvd</td>\n",
       "      <td>477972044</td>\n",
       "    </tr>\n",
       "    <tr>\n",
       "      <th>2</th>\n",
       "      <td>10010</td>\n",
       "      <td>Muoi Cary</td>\n",
       "      <td>385336</td>\n",
       "      <td>741</td>\n",
       "      <td>Northwestern Dr</td>\n",
       "      <td>828638512</td>\n",
       "    </tr>\n",
       "    <tr>\n",
       "      <th>3</th>\n",
       "      <td>10016</td>\n",
       "      <td>Era Moselle</td>\n",
       "      <td>431897</td>\n",
       "      <td>1987</td>\n",
       "      <td>Wood Glade St</td>\n",
       "      <td>614621061</td>\n",
       "    </tr>\n",
       "    <tr>\n",
       "      <th>4</th>\n",
       "      <td>10025</td>\n",
       "      <td>Trena Hornby</td>\n",
       "      <td>550890</td>\n",
       "      <td>276</td>\n",
       "      <td>Daws Hill Way</td>\n",
       "      <td>223877684</td>\n",
       "    </tr>\n",
       "  </tbody>\n",
       "</table>\n",
       "</div>"
      ],
      "text/plain": [
       "      id                 name  license_id  address_number address_street_name  \\\n",
       "0  10000   Christoper Peteuil      993845             624        Bankhall Ave   \n",
       "1  10007  Kourtney Calderwood      861794            2791       Gustavus Blvd   \n",
       "2  10010            Muoi Cary      385336             741     Northwestern Dr   \n",
       "3  10016          Era Moselle      431897            1987       Wood Glade St   \n",
       "4  10025         Trena Hornby      550890             276       Daws Hill Way   \n",
       "\n",
       "         ssn  \n",
       "0  747714076  \n",
       "1  477972044  \n",
       "2  828638512  \n",
       "3  614621061  \n",
       "4  223877684  "
      ]
     },
     "execution_count": 21,
     "metadata": {},
     "output_type": "execute_result"
    }
   ],
   "source": [
    "person.head()"
   ]
  },
  {
   "cell_type": "markdown",
   "metadata": {},
   "source": [
    "# DDL"
   ]
  },
  {
   "cell_type": "code",
   "execution_count": 35,
   "metadata": {},
   "outputs": [
    {
     "name": "stdout",
     "output_type": "stream",
     "text": [
      " * sqlite:////home/bioinformatica/Ironhack/3_Code/notebooks/data/sql-murder-mystery.db\n",
      "Done.\n"
     ]
    },
    {
     "data": {
      "text/plain": [
       "[]"
      ]
     },
     "execution_count": 35,
     "metadata": {},
     "output_type": "execute_result"
    }
   ],
   "source": [
    "%%sql\n",
    "create view datos_personales as\n",
    "select name, age, gender, height, eye_color, hair_color\n",
    "from person p inner join drivers_license l on p.license_id = l.id"
   ]
  },
  {
   "cell_type": "code",
   "execution_count": 36,
   "metadata": {},
   "outputs": [
    {
     "name": "stdout",
     "output_type": "stream",
     "text": [
      " * sqlite:////home/bioinformatica/Ironhack/3_Code/notebooks/data/sql-murder-mystery.db\n",
      "Done.\n"
     ]
    },
    {
     "data": {
      "text/html": [
       "<table>\n",
       "    <tr>\n",
       "        <th>name</th>\n",
       "        <th>age</th>\n",
       "        <th>gender</th>\n",
       "        <th>height</th>\n",
       "        <th>eye_color</th>\n",
       "        <th>hair_color</th>\n",
       "    </tr>\n",
       "    <tr>\n",
       "        <td>Christoper Peteuil</td>\n",
       "        <td>46</td>\n",
       "        <td>male</td>\n",
       "        <td>59</td>\n",
       "        <td>black</td>\n",
       "        <td>green</td>\n",
       "    </tr>\n",
       "    <tr>\n",
       "        <td>Kourtney Calderwood</td>\n",
       "        <td>54</td>\n",
       "        <td>female</td>\n",
       "        <td>74</td>\n",
       "        <td>black</td>\n",
       "        <td>white</td>\n",
       "    </tr>\n",
       "    <tr>\n",
       "        <td>Muoi Cary</td>\n",
       "        <td>24</td>\n",
       "        <td>female</td>\n",
       "        <td>79</td>\n",
       "        <td>blue</td>\n",
       "        <td>green</td>\n",
       "    </tr>\n",
       "    <tr>\n",
       "        <td>Era Moselle</td>\n",
       "        <td>22</td>\n",
       "        <td>female</td>\n",
       "        <td>75</td>\n",
       "        <td>amber</td>\n",
       "        <td>red</td>\n",
       "    </tr>\n",
       "    <tr>\n",
       "        <td>Trena Hornby</td>\n",
       "        <td>45</td>\n",
       "        <td>female</td>\n",
       "        <td>60</td>\n",
       "        <td>blue</td>\n",
       "        <td>black</td>\n",
       "    </tr>\n",
       "</table>"
      ],
      "text/plain": [
       "[('Christoper Peteuil', 46, 'male', 59, 'black', 'green'),\n",
       " ('Kourtney Calderwood', 54, 'female', 74, 'black', 'white'),\n",
       " ('Muoi Cary', 24, 'female', 79, 'blue', 'green'),\n",
       " ('Era Moselle', 22, 'female', 75, 'amber', 'red'),\n",
       " ('Trena Hornby', 45, 'female', 60, 'blue', 'black')]"
      ]
     },
     "execution_count": 36,
     "metadata": {},
     "output_type": "execute_result"
    }
   ],
   "source": [
    "%%sql\n",
    "select * from datos_personales limit 5"
   ]
  },
  {
   "cell_type": "code",
   "execution_count": 32,
   "metadata": {},
   "outputs": [
    {
     "name": "stdout",
     "output_type": "stream",
     "text": [
      " * sqlite:////home/bioinformatica/Ironhack/3_Code/notebooks/data/sql-murder-mystery.db\n",
      "Done.\n"
     ]
    },
    {
     "data": {
      "text/html": [
       "<table>\n",
       "    <tr>\n",
       "        <th>name</th>\n",
       "        <th>age</th>\n",
       "        <th>gender</th>\n",
       "        <th>height</th>\n",
       "        <th>eye_color</th>\n",
       "        <th>hair_color</th>\n",
       "        <th>id</th>\n",
       "        <th>name_1</th>\n",
       "        <th>license_id</th>\n",
       "        <th>address_number</th>\n",
       "        <th>address_street_name</th>\n",
       "        <th>ssn</th>\n",
       "    </tr>\n",
       "    <tr>\n",
       "        <td>Christoper Peteuil</td>\n",
       "        <td>46</td>\n",
       "        <td>male</td>\n",
       "        <td>59</td>\n",
       "        <td>black</td>\n",
       "        <td>green</td>\n",
       "        <td>10000</td>\n",
       "        <td>Christoper Peteuil</td>\n",
       "        <td>993845</td>\n",
       "        <td>624</td>\n",
       "        <td>Bankhall Ave</td>\n",
       "        <td>747714076</td>\n",
       "    </tr>\n",
       "    <tr>\n",
       "        <td>Kourtney Calderwood</td>\n",
       "        <td>54</td>\n",
       "        <td>female</td>\n",
       "        <td>74</td>\n",
       "        <td>black</td>\n",
       "        <td>white</td>\n",
       "        <td>10007</td>\n",
       "        <td>Kourtney Calderwood</td>\n",
       "        <td>861794</td>\n",
       "        <td>2791</td>\n",
       "        <td>Gustavus Blvd</td>\n",
       "        <td>477972044</td>\n",
       "    </tr>\n",
       "    <tr>\n",
       "        <td>Muoi Cary</td>\n",
       "        <td>24</td>\n",
       "        <td>female</td>\n",
       "        <td>79</td>\n",
       "        <td>blue</td>\n",
       "        <td>green</td>\n",
       "        <td>10010</td>\n",
       "        <td>Muoi Cary</td>\n",
       "        <td>385336</td>\n",
       "        <td>741</td>\n",
       "        <td>Northwestern Dr</td>\n",
       "        <td>828638512</td>\n",
       "    </tr>\n",
       "    <tr>\n",
       "        <td>Era Moselle</td>\n",
       "        <td>22</td>\n",
       "        <td>female</td>\n",
       "        <td>75</td>\n",
       "        <td>amber</td>\n",
       "        <td>red</td>\n",
       "        <td>10016</td>\n",
       "        <td>Era Moselle</td>\n",
       "        <td>431897</td>\n",
       "        <td>1987</td>\n",
       "        <td>Wood Glade St</td>\n",
       "        <td>614621061</td>\n",
       "    </tr>\n",
       "    <tr>\n",
       "        <td>Trena Hornby</td>\n",
       "        <td>45</td>\n",
       "        <td>female</td>\n",
       "        <td>60</td>\n",
       "        <td>blue</td>\n",
       "        <td>black</td>\n",
       "        <td>10025</td>\n",
       "        <td>Trena Hornby</td>\n",
       "        <td>550890</td>\n",
       "        <td>276</td>\n",
       "        <td>Daws Hill Way</td>\n",
       "        <td>223877684</td>\n",
       "    </tr>\n",
       "</table>"
      ],
      "text/plain": [
       "[('Christoper Peteuil', 46, 'male', 59, 'black', 'green', 10000, 'Christoper Peteuil', 993845, 624, 'Bankhall Ave', 747714076),\n",
       " ('Kourtney Calderwood', 54, 'female', 74, 'black', 'white', 10007, 'Kourtney Calderwood', 861794, 2791, 'Gustavus Blvd', 477972044),\n",
       " ('Muoi Cary', 24, 'female', 79, 'blue', 'green', 10010, 'Muoi Cary', 385336, 741, 'Northwestern Dr', 828638512),\n",
       " ('Era Moselle', 22, 'female', 75, 'amber', 'red', 10016, 'Era Moselle', 431897, 1987, 'Wood Glade St', 614621061),\n",
       " ('Trena Hornby', 45, 'female', 60, 'blue', 'black', 10025, 'Trena Hornby', 550890, 276, 'Daws Hill Way', 223877684)]"
      ]
     },
     "execution_count": 32,
     "metadata": {},
     "output_type": "execute_result"
    }
   ],
   "source": [
    "%%sql\n",
    "select * \n",
    "from datos_personales inner join person on person.name = datos_personales.name \n",
    "limit 5"
   ]
  },
  {
   "cell_type": "code",
   "execution_count": 33,
   "metadata": {},
   "outputs": [
    {
     "name": "stdout",
     "output_type": "stream",
     "text": [
      " * sqlite:////home/bioinformatica/Ironhack/3_Code/notebooks/data/sql-murder-mystery.db\n",
      "Done.\n"
     ]
    },
    {
     "data": {
      "text/plain": [
       "[]"
      ]
     },
     "execution_count": 33,
     "metadata": {},
     "output_type": "execute_result"
    }
   ],
   "source": [
    "%%sql\n",
    "drop view datos_personales"
   ]
  },
  {
   "cell_type": "code",
   "execution_count": 37,
   "metadata": {},
   "outputs": [
    {
     "name": "stdout",
     "output_type": "stream",
     "text": [
      " * sqlite:////home/bioinformatica/Ironhack/3_Code/notebooks/data/sql-murder-mystery.db\n",
      "Done.\n"
     ]
    },
    {
     "data": {
      "text/plain": [
       "[]"
      ]
     },
     "execution_count": 37,
     "metadata": {},
     "output_type": "execute_result"
    }
   ],
   "source": [
    "%%sql\n",
    "create table datos_personales_tbl as\n",
    "select name, age, gender, height, eye_color, hair_color\n",
    "from person p inner join drivers_license l on p.license_id = l.id"
   ]
  },
  {
   "cell_type": "code",
   "execution_count": 38,
   "metadata": {},
   "outputs": [
    {
     "name": "stdout",
     "output_type": "stream",
     "text": [
      " * sqlite:////home/bioinformatica/Ironhack/3_Code/notebooks/data/sql-murder-mystery.db\n",
      "Done.\n"
     ]
    },
    {
     "data": {
      "text/html": [
       "<table>\n",
       "    <tr>\n",
       "        <th>name</th>\n",
       "        <th>age</th>\n",
       "        <th>gender</th>\n",
       "        <th>height</th>\n",
       "        <th>eye_color</th>\n",
       "        <th>hair_color</th>\n",
       "    </tr>\n",
       "    <tr>\n",
       "        <td>Christoper Peteuil</td>\n",
       "        <td>46</td>\n",
       "        <td>male</td>\n",
       "        <td>59</td>\n",
       "        <td>black</td>\n",
       "        <td>green</td>\n",
       "    </tr>\n",
       "    <tr>\n",
       "        <td>Kourtney Calderwood</td>\n",
       "        <td>54</td>\n",
       "        <td>female</td>\n",
       "        <td>74</td>\n",
       "        <td>black</td>\n",
       "        <td>white</td>\n",
       "    </tr>\n",
       "    <tr>\n",
       "        <td>Muoi Cary</td>\n",
       "        <td>24</td>\n",
       "        <td>female</td>\n",
       "        <td>79</td>\n",
       "        <td>blue</td>\n",
       "        <td>green</td>\n",
       "    </tr>\n",
       "    <tr>\n",
       "        <td>Era Moselle</td>\n",
       "        <td>22</td>\n",
       "        <td>female</td>\n",
       "        <td>75</td>\n",
       "        <td>amber</td>\n",
       "        <td>red</td>\n",
       "    </tr>\n",
       "    <tr>\n",
       "        <td>Trena Hornby</td>\n",
       "        <td>45</td>\n",
       "        <td>female</td>\n",
       "        <td>60</td>\n",
       "        <td>blue</td>\n",
       "        <td>black</td>\n",
       "    </tr>\n",
       "</table>"
      ],
      "text/plain": [
       "[('Christoper Peteuil', 46, 'male', 59, 'black', 'green'),\n",
       " ('Kourtney Calderwood', 54, 'female', 74, 'black', 'white'),\n",
       " ('Muoi Cary', 24, 'female', 79, 'blue', 'green'),\n",
       " ('Era Moselle', 22, 'female', 75, 'amber', 'red'),\n",
       " ('Trena Hornby', 45, 'female', 60, 'blue', 'black')]"
      ]
     },
     "execution_count": 38,
     "metadata": {},
     "output_type": "execute_result"
    }
   ],
   "source": [
    "%%sql\n",
    "select * from datos_personales_tbl limit 5"
   ]
  },
  {
   "cell_type": "code",
   "execution_count": 39,
   "metadata": {},
   "outputs": [
    {
     "name": "stdout",
     "output_type": "stream",
     "text": [
      " * sqlite:////home/bioinformatica/Ironhack/3_Code/notebooks/data/sql-murder-mystery.db\n",
      "Done.\n"
     ]
    },
    {
     "data": {
      "text/html": [
       "<table>\n",
       "    <tr>\n",
       "        <th>id</th>\n",
       "        <th>age</th>\n",
       "        <th>height</th>\n",
       "        <th>eye_color</th>\n",
       "        <th>hair_color</th>\n",
       "        <th>gender</th>\n",
       "        <th>plate_number</th>\n",
       "        <th>car_make</th>\n",
       "        <th>car_model</th>\n",
       "    </tr>\n",
       "    <tr>\n",
       "        <td>100280</td>\n",
       "        <td>72</td>\n",
       "        <td>57</td>\n",
       "        <td>brown</td>\n",
       "        <td>red</td>\n",
       "        <td>male</td>\n",
       "        <td>P24L4U</td>\n",
       "        <td>Acura</td>\n",
       "        <td>MDX</td>\n",
       "    </tr>\n",
       "    <tr>\n",
       "        <td>100460</td>\n",
       "        <td>63</td>\n",
       "        <td>72</td>\n",
       "        <td>brown</td>\n",
       "        <td>brown</td>\n",
       "        <td>female</td>\n",
       "        <td>XF02T6</td>\n",
       "        <td>Cadillac</td>\n",
       "        <td>SRX</td>\n",
       "    </tr>\n",
       "    <tr>\n",
       "        <td>101029</td>\n",
       "        <td>62</td>\n",
       "        <td>74</td>\n",
       "        <td>green</td>\n",
       "        <td>green</td>\n",
       "        <td>female</td>\n",
       "        <td>VKY5KR</td>\n",
       "        <td>Scion</td>\n",
       "        <td>xB</td>\n",
       "    </tr>\n",
       "</table>"
      ],
      "text/plain": [
       "[(100280, 72, 57, 'brown', 'red', 'male', 'P24L4U', 'Acura', 'MDX'),\n",
       " (100460, 63, 72, 'brown', 'brown', 'female', 'XF02T6', 'Cadillac', 'SRX'),\n",
       " (101029, 62, 74, 'green', 'green', 'female', 'VKY5KR', 'Scion', 'xB')]"
      ]
     },
     "execution_count": 39,
     "metadata": {},
     "output_type": "execute_result"
    }
   ],
   "source": [
    "%%sql\n",
    "select * from drivers_license limit 3"
   ]
  },
  {
   "cell_type": "code",
   "execution_count": null,
   "metadata": {},
   "outputs": [],
   "source": [
    "%%sql\n",
    "CREATE TABLE drivers_license (\n",
    "    id integer PRIMARY KEY,\n",
    "    age integer,\n",
    "    height integer,\n",
    "    eye_color text,\n",
    "    hair_color text,\n",
    "    gender text,\n",
    "    plate_number text,\n",
    "    car_make text,\n",
    "    car_model text\n",
    ")"
   ]
  },
  {
   "cell_type": "code",
   "execution_count": 45,
   "metadata": {},
   "outputs": [
    {
     "name": "stdout",
     "output_type": "stream",
     "text": [
      " * sqlite:////home/bioinformatica/Ironhack/3_Code/notebooks/data/sql-murder-mystery.db\n",
      "Done.\n"
     ]
    },
    {
     "data": {
      "text/html": [
       "<table>\n",
       "    <tr>\n",
       "        <th>id</th>\n",
       "        <th>name</th>\n",
       "        <th>license_id</th>\n",
       "        <th>address_number</th>\n",
       "        <th>address_street_name</th>\n",
       "        <th>ssn</th>\n",
       "    </tr>\n",
       "    <tr>\n",
       "        <td>10000</td>\n",
       "        <td>Christoper Peteuil</td>\n",
       "        <td>993845</td>\n",
       "        <td>624</td>\n",
       "        <td>Bankhall Ave</td>\n",
       "        <td>747714076</td>\n",
       "    </tr>\n",
       "    <tr>\n",
       "        <td>10007</td>\n",
       "        <td>Kourtney Calderwood</td>\n",
       "        <td>861794</td>\n",
       "        <td>2791</td>\n",
       "        <td>Gustavus Blvd</td>\n",
       "        <td>477972044</td>\n",
       "    </tr>\n",
       "    <tr>\n",
       "        <td>10010</td>\n",
       "        <td>Muoi Cary</td>\n",
       "        <td>385336</td>\n",
       "        <td>741</td>\n",
       "        <td>Northwestern Dr</td>\n",
       "        <td>828638512</td>\n",
       "    </tr>\n",
       "</table>"
      ],
      "text/plain": [
       "[(10000, 'Christoper Peteuil', 993845, 624, 'Bankhall Ave', 747714076),\n",
       " (10007, 'Kourtney Calderwood', 861794, 2791, 'Gustavus Blvd', 477972044),\n",
       " (10010, 'Muoi Cary', 385336, 741, 'Northwestern Dr', 828638512)]"
      ]
     },
     "execution_count": 45,
     "metadata": {},
     "output_type": "execute_result"
    }
   ],
   "source": [
    "%%sql\n",
    "select * from person limit 3"
   ]
  },
  {
   "cell_type": "code",
   "execution_count": 63,
   "metadata": {},
   "outputs": [
    {
     "name": "stdout",
     "output_type": "stream",
     "text": [
      " * sqlite:////home/bioinformatica/Ironhack/3_Code/notebooks/data/sql-murder-mystery.db\n",
      "Done.\n"
     ]
    },
    {
     "data": {
      "text/plain": [
       "[]"
      ]
     },
     "execution_count": 63,
     "metadata": {},
     "output_type": "execute_result"
    }
   ],
   "source": [
    "%%sql\n",
    "DROP TABLE persona;"
   ]
  },
  {
   "cell_type": "code",
   "execution_count": 64,
   "metadata": {},
   "outputs": [
    {
     "name": "stdout",
     "output_type": "stream",
     "text": [
      " * sqlite:////home/bioinformatica/Ironhack/3_Code/notebooks/data/sql-murder-mystery.db\n",
      "Done.\n"
     ]
    },
    {
     "data": {
      "text/plain": [
       "[]"
      ]
     },
     "execution_count": 64,
     "metadata": {},
     "output_type": "execute_result"
    }
   ],
   "source": [
    "%%sql\n",
    "CREATE TABLE persona (\n",
    "    id integer PRIMARY KEY,\n",
    "    name text,\n",
    "    age integer NOT NULL,\n",
    "    gender text DEFAULT 'Female',\n",
    "    address text,\n",
    "    ssn integer\n",
    ")"
   ]
  },
  {
   "cell_type": "code",
   "execution_count": 50,
   "metadata": {},
   "outputs": [
    {
     "name": "stdout",
     "output_type": "stream",
     "text": [
      " * sqlite:////home/bioinformatica/Ironhack/3_Code/notebooks/data/sql-murder-mystery.db\n",
      "Done.\n"
     ]
    },
    {
     "data": {
      "text/plain": [
       "[]"
      ]
     },
     "execution_count": 50,
     "metadata": {},
     "output_type": "execute_result"
    }
   ],
   "source": [
    "%%sql\n",
    "ALTER TABLE persona ADD COLUMN gender text;"
   ]
  },
  {
   "cell_type": "code",
   "execution_count": 77,
   "metadata": {},
   "outputs": [
    {
     "name": "stdout",
     "output_type": "stream",
     "text": [
      " * sqlite:////home/bioinformatica/Ironhack/3_Code/notebooks/data/sql-murder-mystery.db\n",
      "2 rows affected.\n"
     ]
    },
    {
     "data": {
      "text/plain": [
       "[]"
      ]
     },
     "execution_count": 77,
     "metadata": {},
     "output_type": "execute_result"
    }
   ],
   "source": [
    "%%sql\n",
    "insert into persona (id, name, age) values (2,'Beatriz',35), (3,'Yulia',40)"
   ]
  },
  {
   "cell_type": "code",
   "execution_count": 73,
   "metadata": {},
   "outputs": [
    {
     "name": "stdout",
     "output_type": "stream",
     "text": [
      " * sqlite:////home/bioinformatica/Ironhack/3_Code/notebooks/data/sql-murder-mystery.db\n",
      "1 rows affected.\n"
     ]
    },
    {
     "data": {
      "text/plain": [
       "[]"
      ]
     },
     "execution_count": 73,
     "metadata": {},
     "output_type": "execute_result"
    }
   ],
   "source": [
    "%%sql\n",
    "update persona set address = 'Monistrol 16', ssn = 8798978978 where id = 1"
   ]
  },
  {
   "cell_type": "code",
   "execution_count": 75,
   "metadata": {},
   "outputs": [
    {
     "name": "stdout",
     "output_type": "stream",
     "text": [
      " * sqlite:////home/bioinformatica/Ironhack/3_Code/notebooks/data/sql-murder-mystery.db\n",
      "1 rows affected.\n"
     ]
    },
    {
     "data": {
      "text/plain": [
       "[]"
      ]
     },
     "execution_count": 75,
     "metadata": {},
     "output_type": "execute_result"
    }
   ],
   "source": [
    "%%sql\n",
    "update persona set gender = 'Male' where id = 1"
   ]
  },
  {
   "cell_type": "code",
   "execution_count": 81,
   "metadata": {},
   "outputs": [
    {
     "name": "stdout",
     "output_type": "stream",
     "text": [
      " * sqlite:////home/bioinformatica/Ironhack/3_Code/notebooks/data/sql-murder-mystery.db\n",
      "2 rows affected.\n"
     ]
    },
    {
     "data": {
      "text/plain": [
       "[]"
      ]
     },
     "execution_count": 81,
     "metadata": {},
     "output_type": "execute_result"
    }
   ],
   "source": [
    "%%sql\n",
    "delete from persona"
   ]
  },
  {
   "cell_type": "code",
   "execution_count": 86,
   "metadata": {
    "scrolled": true
   },
   "outputs": [
    {
     "name": "stdout",
     "output_type": "stream",
     "text": [
      " * sqlite:////home/bioinformatica/Ironhack/3_Code/notebooks/data/sql-murder-mystery.db\n",
      "Done.\n"
     ]
    },
    {
     "data": {
      "text/html": [
       "<table>\n",
       "    <tr>\n",
       "        <th>id</th>\n",
       "        <th>name</th>\n",
       "        <th>age</th>\n",
       "        <th>gender</th>\n",
       "        <th>address</th>\n",
       "        <th>ssn</th>\n",
       "    </tr>\n",
       "    <tr>\n",
       "        <td>10000</td>\n",
       "        <td>Christoper Peteuil</td>\n",
       "        <td>46</td>\n",
       "        <td>male</td>\n",
       "        <td>624 Bankhall Ave</td>\n",
       "        <td>747714076</td>\n",
       "    </tr>\n",
       "    <tr>\n",
       "        <td>10007</td>\n",
       "        <td>Kourtney Calderwood</td>\n",
       "        <td>54</td>\n",
       "        <td>female</td>\n",
       "        <td>2791 Gustavus Blvd</td>\n",
       "        <td>477972044</td>\n",
       "    </tr>\n",
       "    <tr>\n",
       "        <td>10010</td>\n",
       "        <td>Muoi Cary</td>\n",
       "        <td>24</td>\n",
       "        <td>female</td>\n",
       "        <td>741 Northwestern Dr</td>\n",
       "        <td>828638512</td>\n",
       "    </tr>\n",
       "    <tr>\n",
       "        <td>10016</td>\n",
       "        <td>Era Moselle</td>\n",
       "        <td>22</td>\n",
       "        <td>female</td>\n",
       "        <td>1987 Wood Glade St</td>\n",
       "        <td>614621061</td>\n",
       "    </tr>\n",
       "    <tr>\n",
       "        <td>10025</td>\n",
       "        <td>Trena Hornby</td>\n",
       "        <td>45</td>\n",
       "        <td>female</td>\n",
       "        <td>276 Daws Hill Way</td>\n",
       "        <td>223877684</td>\n",
       "    </tr>\n",
       "    <tr>\n",
       "        <td>10027</td>\n",
       "        <td>Antione Godbolt</td>\n",
       "        <td>56</td>\n",
       "        <td>male</td>\n",
       "        <td>2431 Zelham Dr</td>\n",
       "        <td>491650087</td>\n",
       "    </tr>\n",
       "    <tr>\n",
       "        <td>10034</td>\n",
       "        <td>Kyra Buen</td>\n",
       "        <td>56</td>\n",
       "        <td>female</td>\n",
       "        <td>1873 Sleigh Dr</td>\n",
       "        <td>332497972</td>\n",
       "    </tr>\n",
       "    <tr>\n",
       "        <td>10039</td>\n",
       "        <td>Francesco Agundez</td>\n",
       "        <td>87</td>\n",
       "        <td>male</td>\n",
       "        <td>736 Buswell Dr</td>\n",
       "        <td>861079251</td>\n",
       "    </tr>\n",
       "    <tr>\n",
       "        <td>10095</td>\n",
       "        <td>Leslie Thate</td>\n",
       "        <td>83</td>\n",
       "        <td>female</td>\n",
       "        <td>2772 Camellia Park Circle</td>\n",
       "        <td>127944356</td>\n",
       "    </tr>\n",
       "    <tr>\n",
       "        <td>10122</td>\n",
       "        <td>Alva Conkel</td>\n",
       "        <td>52</td>\n",
       "        <td>male</td>\n",
       "        <td>116 Diversey Circle</td>\n",
       "        <td>148521773</td>\n",
       "    </tr>\n",
       "</table>"
      ],
      "text/plain": [
       "[(10000, 'Christoper Peteuil', 46, 'male', '624 Bankhall Ave', 747714076),\n",
       " (10007, 'Kourtney Calderwood', 54, 'female', '2791 Gustavus Blvd', 477972044),\n",
       " (10010, 'Muoi Cary', 24, 'female', '741 Northwestern Dr', 828638512),\n",
       " (10016, 'Era Moselle', 22, 'female', '1987 Wood Glade St', 614621061),\n",
       " (10025, 'Trena Hornby', 45, 'female', '276 Daws Hill Way', 223877684),\n",
       " (10027, 'Antione Godbolt', 56, 'male', '2431 Zelham Dr', 491650087),\n",
       " (10034, 'Kyra Buen', 56, 'female', '1873 Sleigh Dr', 332497972),\n",
       " (10039, 'Francesco Agundez', 87, 'male', '736 Buswell Dr', 861079251),\n",
       " (10095, 'Leslie Thate', 83, 'female', '2772 Camellia Park Circle', 127944356),\n",
       " (10122, 'Alva Conkel', 52, 'male', '116 Diversey Circle', 148521773)]"
      ]
     },
     "execution_count": 86,
     "metadata": {},
     "output_type": "execute_result"
    }
   ],
   "source": [
    "%%sql\n",
    "select *\n",
    "from persona\n",
    "limit 10"
   ]
  },
  {
   "cell_type": "code",
   "execution_count": null,
   "metadata": {},
   "outputs": [],
   "source": [
    "%%sql\n",
    "insert into persona\n",
    "select p.id, p.name, l.age, l.gender, p.address_number || ' ' || p.address_street_name, p.ssn\n",
    "from person p join drivers_license l on l.id = p.license_id"
   ]
  },
  {
   "cell_type": "code",
   "execution_count": 87,
   "metadata": {},
   "outputs": [
    {
     "name": "stdout",
     "output_type": "stream",
     "text": [
      " * sqlite:////home/bioinformatica/Ironhack/3_Code/notebooks/data/sql-murder-mystery.db\n",
      "Done.\n"
     ]
    },
    {
     "data": {
      "text/plain": [
       "[]"
      ]
     },
     "execution_count": 87,
     "metadata": {},
     "output_type": "execute_result"
    }
   ],
   "source": [
    "%%sql\n",
    "alter table drivers_license add column person_id  "
   ]
  },
  {
   "cell_type": "code",
   "execution_count": 91,
   "metadata": {},
   "outputs": [
    {
     "name": "stdout",
     "output_type": "stream",
     "text": [
      " * sqlite:////home/bioinformatica/Ironhack/3_Code/notebooks/data/sql-murder-mystery.db\n",
      "Done.\n"
     ]
    },
    {
     "data": {
      "text/html": [
       "<table>\n",
       "    <tr>\n",
       "        <th>id</th>\n",
       "        <th>age</th>\n",
       "        <th>height</th>\n",
       "        <th>eye_color</th>\n",
       "        <th>hair_color</th>\n",
       "        <th>gender</th>\n",
       "        <th>plate_number</th>\n",
       "        <th>car_make</th>\n",
       "        <th>car_model</th>\n",
       "        <th>person_id</th>\n",
       "    </tr>\n",
       "    <tr>\n",
       "        <td>100280</td>\n",
       "        <td>72</td>\n",
       "        <td>57</td>\n",
       "        <td>brown</td>\n",
       "        <td>red</td>\n",
       "        <td>male</td>\n",
       "        <td>P24L4U</td>\n",
       "        <td>Acura</td>\n",
       "        <td>MDX</td>\n",
       "        <td>22757</td>\n",
       "    </tr>\n",
       "    <tr>\n",
       "        <td>100460</td>\n",
       "        <td>63</td>\n",
       "        <td>72</td>\n",
       "        <td>brown</td>\n",
       "        <td>brown</td>\n",
       "        <td>female</td>\n",
       "        <td>XF02T6</td>\n",
       "        <td>Cadillac</td>\n",
       "        <td>SRX</td>\n",
       "        <td>84910</td>\n",
       "    </tr>\n",
       "    <tr>\n",
       "        <td>101029</td>\n",
       "        <td>62</td>\n",
       "        <td>74</td>\n",
       "        <td>green</td>\n",
       "        <td>green</td>\n",
       "        <td>female</td>\n",
       "        <td>VKY5KR</td>\n",
       "        <td>Scion</td>\n",
       "        <td>xB</td>\n",
       "        <td>84921</td>\n",
       "    </tr>\n",
       "    <tr>\n",
       "        <td>101198</td>\n",
       "        <td>43</td>\n",
       "        <td>54</td>\n",
       "        <td>amber</td>\n",
       "        <td>brown</td>\n",
       "        <td>female</td>\n",
       "        <td>Y5NZ08</td>\n",
       "        <td>Nissan</td>\n",
       "        <td>Rogue</td>\n",
       "        <td>58014</td>\n",
       "    </tr>\n",
       "    <tr>\n",
       "        <td>101255</td>\n",
       "        <td>18</td>\n",
       "        <td>79</td>\n",
       "        <td>blue</td>\n",
       "        <td>grey</td>\n",
       "        <td>female</td>\n",
       "        <td>5162Z1</td>\n",
       "        <td>Lexus</td>\n",
       "        <td>GS</td>\n",
       "        <td>90704</td>\n",
       "    </tr>\n",
       "</table>"
      ],
      "text/plain": [
       "[(100280, 72, 57, 'brown', 'red', 'male', 'P24L4U', 'Acura', 'MDX', 22757),\n",
       " (100460, 63, 72, 'brown', 'brown', 'female', 'XF02T6', 'Cadillac', 'SRX', 84910),\n",
       " (101029, 62, 74, 'green', 'green', 'female', 'VKY5KR', 'Scion', 'xB', 84921),\n",
       " (101198, 43, 54, 'amber', 'brown', 'female', 'Y5NZ08', 'Nissan', 'Rogue', 58014),\n",
       " (101255, 18, 79, 'blue', 'grey', 'female', '5162Z1', 'Lexus', 'GS', 90704)]"
      ]
     },
     "execution_count": 91,
     "metadata": {},
     "output_type": "execute_result"
    }
   ],
   "source": [
    "%%sql\n",
    "select * from drivers_license limit 5"
   ]
  },
  {
   "cell_type": "code",
   "execution_count": 90,
   "metadata": {},
   "outputs": [
    {
     "name": "stdout",
     "output_type": "stream",
     "text": [
      " * sqlite:////home/bioinformatica/Ironhack/3_Code/notebooks/data/sql-murder-mystery.db\n",
      "10007 rows affected.\n"
     ]
    },
    {
     "data": {
      "text/plain": [
       "[]"
      ]
     },
     "execution_count": 90,
     "metadata": {},
     "output_type": "execute_result"
    }
   ],
   "source": [
    "%%sql\n",
    "update drivers_license \n",
    "set person_id = (select person.id from person where license_id = drivers_license.id)"
   ]
  },
  {
   "cell_type": "code",
   "execution_count": 93,
   "metadata": {},
   "outputs": [
    {
     "name": "stdout",
     "output_type": "stream",
     "text": [
      " * sqlite:////home/bioinformatica/Ironhack/3_Code/notebooks/data/sql-murder-mystery.db\n",
      "Done.\n"
     ]
    },
    {
     "data": {
      "text/html": [
       "<table>\n",
       "    <tr>\n",
       "        <th>id</th>\n",
       "        <th>name</th>\n",
       "        <th>license_id</th>\n",
       "        <th>address_number</th>\n",
       "        <th>address_street_name</th>\n",
       "        <th>ssn</th>\n",
       "    </tr>\n",
       "    <tr>\n",
       "        <td>22757</td>\n",
       "        <td>Alfonzo Lighter</td>\n",
       "        <td>100280</td>\n",
       "        <td>2380</td>\n",
       "        <td>Demeo Rd</td>\n",
       "        <td>158688705</td>\n",
       "    </tr>\n",
       "</table>"
      ],
      "text/plain": [
       "[(22757, 'Alfonzo Lighter', 100280, 2380, 'Demeo Rd', 158688705)]"
      ]
     },
     "execution_count": 93,
     "metadata": {},
     "output_type": "execute_result"
    }
   ],
   "source": [
    "%%sql\n",
    "select * from person where id = 22757"
   ]
  },
  {
   "cell_type": "code",
   "execution_count": 94,
   "metadata": {},
   "outputs": [],
   "source": [
    "import pandas as pd"
   ]
  },
  {
   "cell_type": "code",
   "execution_count": 95,
   "metadata": {},
   "outputs": [
    {
     "data": {
      "text/html": [
       "<div>\n",
       "<style scoped>\n",
       "    .dataframe tbody tr th:only-of-type {\n",
       "        vertical-align: middle;\n",
       "    }\n",
       "\n",
       "    .dataframe tbody tr th {\n",
       "        vertical-align: top;\n",
       "    }\n",
       "\n",
       "    .dataframe thead th {\n",
       "        text-align: right;\n",
       "    }\n",
       "</style>\n",
       "<table border=\"1\" class=\"dataframe\">\n",
       "  <thead>\n",
       "    <tr style=\"text-align: right;\">\n",
       "      <th></th>\n",
       "      <th>id</th>\n",
       "      <th>name</th>\n",
       "      <th>age</th>\n",
       "      <th>gender</th>\n",
       "      <th>address</th>\n",
       "      <th>ssn</th>\n",
       "    </tr>\n",
       "  </thead>\n",
       "  <tbody>\n",
       "    <tr>\n",
       "      <th>0</th>\n",
       "      <td>10000</td>\n",
       "      <td>Christoper Peteuil</td>\n",
       "      <td>46</td>\n",
       "      <td>male</td>\n",
       "      <td>624 Bankhall Ave</td>\n",
       "      <td>747714076</td>\n",
       "    </tr>\n",
       "    <tr>\n",
       "      <th>1</th>\n",
       "      <td>10007</td>\n",
       "      <td>Kourtney Calderwood</td>\n",
       "      <td>54</td>\n",
       "      <td>female</td>\n",
       "      <td>2791 Gustavus Blvd</td>\n",
       "      <td>477972044</td>\n",
       "    </tr>\n",
       "    <tr>\n",
       "      <th>2</th>\n",
       "      <td>10010</td>\n",
       "      <td>Muoi Cary</td>\n",
       "      <td>24</td>\n",
       "      <td>female</td>\n",
       "      <td>741 Northwestern Dr</td>\n",
       "      <td>828638512</td>\n",
       "    </tr>\n",
       "    <tr>\n",
       "      <th>3</th>\n",
       "      <td>10016</td>\n",
       "      <td>Era Moselle</td>\n",
       "      <td>22</td>\n",
       "      <td>female</td>\n",
       "      <td>1987 Wood Glade St</td>\n",
       "      <td>614621061</td>\n",
       "    </tr>\n",
       "    <tr>\n",
       "      <th>4</th>\n",
       "      <td>10025</td>\n",
       "      <td>Trena Hornby</td>\n",
       "      <td>45</td>\n",
       "      <td>female</td>\n",
       "      <td>276 Daws Hill Way</td>\n",
       "      <td>223877684</td>\n",
       "    </tr>\n",
       "    <tr>\n",
       "      <th>...</th>\n",
       "      <td>...</td>\n",
       "      <td>...</td>\n",
       "      <td>...</td>\n",
       "      <td>...</td>\n",
       "      <td>...</td>\n",
       "      <td>...</td>\n",
       "    </tr>\n",
       "    <tr>\n",
       "      <th>10001</th>\n",
       "      <td>99936</td>\n",
       "      <td>Luba Benser</td>\n",
       "      <td>26</td>\n",
       "      <td>female</td>\n",
       "      <td>680 Carnage Blvd</td>\n",
       "      <td>685095054</td>\n",
       "    </tr>\n",
       "    <tr>\n",
       "      <th>10002</th>\n",
       "      <td>99941</td>\n",
       "      <td>Roxana Mckimley</td>\n",
       "      <td>87</td>\n",
       "      <td>female</td>\n",
       "      <td>1613 Gate St</td>\n",
       "      <td>512136801</td>\n",
       "    </tr>\n",
       "    <tr>\n",
       "      <th>10003</th>\n",
       "      <td>99965</td>\n",
       "      <td>Cherie Zeimantz</td>\n",
       "      <td>29</td>\n",
       "      <td>female</td>\n",
       "      <td>3661 The Water Ave</td>\n",
       "      <td>362877324</td>\n",
       "    </tr>\n",
       "    <tr>\n",
       "      <th>10004</th>\n",
       "      <td>99982</td>\n",
       "      <td>Allen Cruse</td>\n",
       "      <td>66</td>\n",
       "      <td>male</td>\n",
       "      <td>3126 N Jean Dr</td>\n",
       "      <td>348734531</td>\n",
       "    </tr>\n",
       "    <tr>\n",
       "      <th>10005</th>\n",
       "      <td>99990</td>\n",
       "      <td>Vance Hunten</td>\n",
       "      <td>61</td>\n",
       "      <td>male</td>\n",
       "      <td>3056 Lancefield St</td>\n",
       "      <td>896677562</td>\n",
       "    </tr>\n",
       "  </tbody>\n",
       "</table>\n",
       "<p>10006 rows × 6 columns</p>\n",
       "</div>"
      ],
      "text/plain": [
       "          id                 name  age  gender              address        ssn\n",
       "0      10000   Christoper Peteuil   46    male     624 Bankhall Ave  747714076\n",
       "1      10007  Kourtney Calderwood   54  female   2791 Gustavus Blvd  477972044\n",
       "2      10010            Muoi Cary   24  female  741 Northwestern Dr  828638512\n",
       "3      10016          Era Moselle   22  female   1987 Wood Glade St  614621061\n",
       "4      10025         Trena Hornby   45  female    276 Daws Hill Way  223877684\n",
       "...      ...                  ...  ...     ...                  ...        ...\n",
       "10001  99936          Luba Benser   26  female     680 Carnage Blvd  685095054\n",
       "10002  99941      Roxana Mckimley   87  female         1613 Gate St  512136801\n",
       "10003  99965      Cherie Zeimantz   29  female   3661 The Water Ave  362877324\n",
       "10004  99982          Allen Cruse   66    male       3126 N Jean Dr  348734531\n",
       "10005  99990         Vance Hunten   61    male   3056 Lancefield St  896677562\n",
       "\n",
       "[10006 rows x 6 columns]"
      ]
     },
     "execution_count": 95,
     "metadata": {},
     "output_type": "execute_result"
    }
   ],
   "source": [
    "pd.read_sql('select * from persona', db_url)"
   ]
  },
  {
   "cell_type": "code",
   "execution_count": 100,
   "metadata": {},
   "outputs": [
    {
     "name": "stdout",
     "output_type": "stream",
     "text": [
      " * sqlite:////home/bioinformatica/Ironhack/3_Code/notebooks/data/sql-murder-mystery.db\n",
      "Done.\n"
     ]
    },
    {
     "data": {
      "text/html": [
       "<table>\n",
       "    <tr>\n",
       "        <th>id</th>\n",
       "        <th>age</th>\n",
       "        <th>height</th>\n",
       "        <th>eye_color</th>\n",
       "        <th>hair_color</th>\n",
       "        <th>gender</th>\n",
       "        <th>plate_number</th>\n",
       "        <th>car_make</th>\n",
       "        <th>car_model</th>\n",
       "        <th>person_id</th>\n",
       "    </tr>\n",
       "    <tr>\n",
       "        <td>101859</td>\n",
       "        <td>31</td>\n",
       "        <td>71</td>\n",
       "        <td>blue</td>\n",
       "        <td>blonde</td>\n",
       "        <td>female</td>\n",
       "        <td>02B7L4</td>\n",
       "        <td>Nissan</td>\n",
       "        <td>Pathfinder</td>\n",
       "        <td>72104</td>\n",
       "    </tr>\n",
       "    <tr>\n",
       "        <td>101862</td>\n",
       "        <td>26</td>\n",
       "        <td>75</td>\n",
       "        <td>green</td>\n",
       "        <td>blonde</td>\n",
       "        <td>male</td>\n",
       "        <td>LQ23Y5</td>\n",
       "        <td>Nissan</td>\n",
       "        <td>350Z</td>\n",
       "        <td>44563</td>\n",
       "    </tr>\n",
       "    <tr>\n",
       "        <td>101909</td>\n",
       "        <td>84</td>\n",
       "        <td>52</td>\n",
       "        <td>amber</td>\n",
       "        <td>brown</td>\n",
       "        <td>male</td>\n",
       "        <td>5Y633C</td>\n",
       "        <td>Ford</td>\n",
       "        <td>E-Series</td>\n",
       "        <td>94087</td>\n",
       "    </tr>\n",
       "    <tr>\n",
       "        <td>102089</td>\n",
       "        <td>75</td>\n",
       "        <td>52</td>\n",
       "        <td>blue</td>\n",
       "        <td>blonde</td>\n",
       "        <td>female</td>\n",
       "        <td>2QL48Q</td>\n",
       "        <td>GMC</td>\n",
       "        <td>Savana 3500</td>\n",
       "        <td>28173</td>\n",
       "    </tr>\n",
       "    <tr>\n",
       "        <td>102182</td>\n",
       "        <td>66</td>\n",
       "        <td>63</td>\n",
       "        <td>green</td>\n",
       "        <td>white</td>\n",
       "        <td>male</td>\n",
       "        <td>JI6481</td>\n",
       "        <td>Saturn</td>\n",
       "        <td>S-Series</td>\n",
       "        <td>54997</td>\n",
       "    </tr>\n",
       "</table>"
      ],
      "text/plain": [
       "[(101859, 31, 71, 'blue', 'blonde', 'female', '02B7L4', 'Nissan', 'Pathfinder', 72104),\n",
       " (101862, 26, 75, 'green', 'blonde', 'male', 'LQ23Y5', 'Nissan', '350Z', 44563),\n",
       " (101909, 84, 52, 'amber', 'brown', 'male', '5Y633C', 'Ford', 'E-Series', 94087),\n",
       " (102089, 75, 52, 'blue', 'blonde', 'female', '2QL48Q', 'GMC', 'Savana 3500', 28173),\n",
       " (102182, 66, 63, 'green', 'white', 'male', 'JI6481', 'Saturn', 'S-Series', 54997)]"
      ]
     },
     "execution_count": 100,
     "metadata": {},
     "output_type": "execute_result"
    }
   ],
   "source": [
    "%%sql\n",
    "select * from drivers_license limit 5 offset 15"
   ]
  }
 ],
 "metadata": {
  "kernelspec": {
   "display_name": "Ironhack",
   "language": "python",
   "name": "ironhack"
  },
  "language_info": {
   "codemirror_mode": {
    "name": "ipython",
    "version": 3
   },
   "file_extension": ".py",
   "mimetype": "text/x-python",
   "name": "python",
   "nbconvert_exporter": "python",
   "pygments_lexer": "ipython3",
   "version": "3.7.5"
  }
 },
 "nbformat": 4,
 "nbformat_minor": 4
}
