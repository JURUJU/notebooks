{
 "cells": [
  {
   "cell_type": "markdown",
   "id": "specified-manchester",
   "metadata": {
    "toc": true
   },
   "source": [
    "<h1>Table of Contents<span class=\"tocSkip\"></span></h1>\n",
    "<div class=\"toc\"><ul class=\"toc-item\"></ul></div>"
   ]
  },
  {
   "cell_type": "code",
   "execution_count": 1,
   "id": "sharp-anger",
   "metadata": {},
   "outputs": [],
   "source": [
    "a = 5"
   ]
  },
  {
   "cell_type": "code",
   "execution_count": 2,
   "id": "hybrid-pavilion",
   "metadata": {},
   "outputs": [
    {
     "data": {
      "text/plain": [
       "int"
      ]
     },
     "execution_count": 2,
     "metadata": {},
     "output_type": "execute_result"
    }
   ],
   "source": [
    "type(a)"
   ]
  },
  {
   "cell_type": "code",
   "execution_count": 3,
   "id": "reduced-minister",
   "metadata": {},
   "outputs": [
    {
     "data": {
      "text/plain": [
       "True"
      ]
     },
     "execution_count": 3,
     "metadata": {},
     "output_type": "execute_result"
    }
   ],
   "source": [
    "type(a) == int"
   ]
  },
  {
   "cell_type": "code",
   "execution_count": 5,
   "id": "serial-carolina",
   "metadata": {},
   "outputs": [
    {
     "data": {
      "text/plain": [
       "True"
      ]
     },
     "execution_count": 5,
     "metadata": {},
     "output_type": "execute_result"
    }
   ],
   "source": [
    "isinstance(a, int)"
   ]
  },
  {
   "cell_type": "code",
   "execution_count": 19,
   "id": "united-scroll",
   "metadata": {},
   "outputs": [],
   "source": [
    "b = [1,2,3,4,]"
   ]
  },
  {
   "cell_type": "code",
   "execution_count": 8,
   "id": "otherwise-hunter",
   "metadata": {},
   "outputs": [
    {
     "data": {
      "text/plain": [
       "True"
      ]
     },
     "execution_count": 8,
     "metadata": {},
     "output_type": "execute_result"
    }
   ],
   "source": [
    "isinstance(b, list)"
   ]
  },
  {
   "cell_type": "code",
   "execution_count": 13,
   "id": "biological-arrest",
   "metadata": {},
   "outputs": [
    {
     "data": {
      "text/plain": [
       "[True, True, True, False]"
      ]
     },
     "execution_count": 13,
     "metadata": {},
     "output_type": "execute_result"
    }
   ],
   "source": [
    "[isinstance(i, int) for i in b]"
   ]
  },
  {
   "cell_type": "code",
   "execution_count": 17,
   "id": "superb-listening",
   "metadata": {},
   "outputs": [
    {
     "data": {
      "text/plain": [
       "False"
      ]
     },
     "execution_count": 17,
     "metadata": {},
     "output_type": "execute_result"
    }
   ],
   "source": [
    "all([isinstance(i, str) for i in b])"
   ]
  },
  {
   "cell_type": "code",
   "execution_count": 25,
   "id": "textile-sister",
   "metadata": {},
   "outputs": [],
   "source": [
    "m = [[1,2,3],[[1,2],[3,4]]]"
   ]
  },
  {
   "cell_type": "code",
   "execution_count": 21,
   "id": "urban-accountability",
   "metadata": {},
   "outputs": [
    {
     "data": {
      "text/plain": [
       "False"
      ]
     },
     "execution_count": 21,
     "metadata": {},
     "output_type": "execute_result"
    }
   ],
   "source": [
    "all([isinstance(i, int) for i in m])"
   ]
  },
  {
   "cell_type": "code",
   "execution_count": 37,
   "id": "prepared-ceramic",
   "metadata": {},
   "outputs": [],
   "source": [
    "def dimension(m):\n",
    "    if all([isinstance(i, int) for i in m]):\n",
    "        return 1\n",
    "    else:\n",
    "        return 1 + max([dimension(ele) for ele in m])"
   ]
  },
  {
   "cell_type": "code",
   "execution_count": 38,
   "id": "round-norman",
   "metadata": {},
   "outputs": [
    {
     "data": {
      "text/plain": [
       "3"
      ]
     },
     "execution_count": 38,
     "metadata": {},
     "output_type": "execute_result"
    }
   ],
   "source": [
    "dimension(m)"
   ]
  },
  {
   "cell_type": "code",
   "execution_count": 39,
   "id": "chief-aging",
   "metadata": {},
   "outputs": [],
   "source": [
    "def twodim(m):\n",
    "\n",
    "    return dimension(m) == 2"
   ]
  },
  {
   "cell_type": "code",
   "execution_count": 40,
   "id": "delayed-ridge",
   "metadata": {},
   "outputs": [
    {
     "data": {
      "text/plain": [
       "False"
      ]
     },
     "execution_count": 40,
     "metadata": {},
     "output_type": "execute_result"
    }
   ],
   "source": [
    "twodim(m)"
   ]
  },
  {
   "cell_type": "code",
   "execution_count": 41,
   "id": "biblical-mistress",
   "metadata": {},
   "outputs": [
    {
     "data": {
      "text/plain": [
       "True"
      ]
     },
     "execution_count": 41,
     "metadata": {},
     "output_type": "execute_result"
    }
   ],
   "source": [
    "twodim(m[1])"
   ]
  },
  {
   "cell_type": "code",
   "execution_count": 42,
   "id": "isolated-campaign",
   "metadata": {},
   "outputs": [],
   "source": [
    "def is_3d(m):\n",
    "\n",
    "    return dimension(m) == 3"
   ]
  },
  {
   "cell_type": "code",
   "execution_count": 43,
   "id": "czech-chambers",
   "metadata": {},
   "outputs": [
    {
     "data": {
      "text/plain": [
       "True"
      ]
     },
     "execution_count": 43,
     "metadata": {},
     "output_type": "execute_result"
    }
   ],
   "source": [
    "is_3d(m)"
   ]
  },
  {
   "cell_type": "code",
   "execution_count": 49,
   "id": "spectacular-aurora",
   "metadata": {},
   "outputs": [],
   "source": [
    "c = 5"
   ]
  },
  {
   "cell_type": "code",
   "execution_count": 66,
   "id": "piano-federation",
   "metadata": {},
   "outputs": [],
   "source": [
    "def suma(a):\n",
    "    c = 4\n",
    "    return a + c, c"
   ]
  },
  {
   "cell_type": "code",
   "execution_count": 70,
   "id": "stunning-consequence",
   "metadata": {},
   "outputs": [],
   "source": [
    "resultado, c = suma(2)"
   ]
  },
  {
   "cell_type": "code",
   "execution_count": 71,
   "id": "assured-producer",
   "metadata": {},
   "outputs": [
    {
     "data": {
      "text/plain": [
       "4"
      ]
     },
     "execution_count": 71,
     "metadata": {},
     "output_type": "execute_result"
    }
   ],
   "source": [
    "c"
   ]
  },
  {
   "cell_type": "code",
   "execution_count": null,
   "id": "nervous-dimension",
   "metadata": {},
   "outputs": [],
   "source": []
  }
 ],
 "metadata": {
  "kernelspec": {
   "display_name": "Ironhack",
   "language": "python",
   "name": "ironhack"
  },
  "language_info": {
   "codemirror_mode": {
    "name": "ipython",
    "version": 3
   },
   "file_extension": ".py",
   "mimetype": "text/x-python",
   "name": "python",
   "nbconvert_exporter": "python",
   "pygments_lexer": "ipython3",
   "version": "3.7.5"
  },
  "toc": {
   "base_numbering": 1,
   "nav_menu": {},
   "number_sections": true,
   "sideBar": true,
   "skip_h1_title": false,
   "title_cell": "Table of Contents",
   "title_sidebar": "Contents",
   "toc_cell": true,
   "toc_position": {},
   "toc_section_display": true,
   "toc_window_display": false
  },
  "varInspector": {
   "cols": {
    "lenName": 16,
    "lenType": 16,
    "lenVar": 40
   },
   "kernels_config": {
    "python": {
     "delete_cmd_postfix": "",
     "delete_cmd_prefix": "del ",
     "library": "var_list.py",
     "varRefreshCmd": "print(var_dic_list())"
    },
    "r": {
     "delete_cmd_postfix": ") ",
     "delete_cmd_prefix": "rm(",
     "library": "var_list.r",
     "varRefreshCmd": "cat(var_dic_list()) "
    }
   },
   "types_to_exclude": [
    "module",
    "function",
    "builtin_function_or_method",
    "instance",
    "_Feature"
   ],
   "window_display": false
  }
 },
 "nbformat": 4,
 "nbformat_minor": 5
}
