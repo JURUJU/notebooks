{
 "cells": [
  {
   "cell_type": "markdown",
   "id": "amazing-immune",
   "metadata": {
    "toc": true
   },
   "source": [
    "<h1>Table of Contents<span class=\"tocSkip\"></span></h1>\n",
    "<div class=\"toc\"><ul class=\"toc-item\"><li><span><a href=\"#More-generators\" data-toc-modified-id=\"More-generators-1\"><span class=\"toc-item-num\">1&nbsp;&nbsp;</span>More generators</a></span></li></ul></div>"
   ]
  },
  {
   "cell_type": "markdown",
   "id": "living-livestock",
   "metadata": {},
   "source": [
    "# More generators"
   ]
  },
  {
   "cell_type": "code",
   "execution_count": 10,
   "id": "distinct-earth",
   "metadata": {},
   "outputs": [],
   "source": [
    "import random"
   ]
  },
  {
   "cell_type": "code",
   "execution_count": 15,
   "id": "acoustic-twenty",
   "metadata": {},
   "outputs": [],
   "source": [
    "suits = [\"♠\", \"♥\", \"♦\", \"♣\"]\n",
    "ranks = [ str(i) for i in range(2,11)] + ['J', 'Q', 'K', 'A']\n",
    "baraja = [(number, suit) for suit, number in zip(suits*len(ranks), ranks*len(suits))]\n",
    "random.shuffle(baraja)"
   ]
  },
  {
   "cell_type": "code",
   "execution_count": 16,
   "id": "noble-measure",
   "metadata": {},
   "outputs": [
    {
     "data": {
      "text/plain": [
       "[('10', '♥'),\n",
       " ('8', '♦'),\n",
       " ('6', '♥'),\n",
       " ('Q', '♦'),\n",
       " ('3', '♥'),\n",
       " ('8', '♥'),\n",
       " ('4', '♦'),\n",
       " ('10', '♦'),\n",
       " ('A', '♦'),\n",
       " ('8', '♠'),\n",
       " ('10', '♠'),\n",
       " ('10', '♣'),\n",
       " ('7', '♠'),\n",
       " ('6', '♠'),\n",
       " ('7', '♥'),\n",
       " ('7', '♣'),\n",
       " ('5', '♠'),\n",
       " ('J', '♠'),\n",
       " ('3', '♦'),\n",
       " ('J', '♦'),\n",
       " ('2', '♥'),\n",
       " ('A', '♠'),\n",
       " ('6', '♦'),\n",
       " ('5', '♥'),\n",
       " ('9', '♠'),\n",
       " ('K', '♠'),\n",
       " ('5', '♦'),\n",
       " ('A', '♣'),\n",
       " ('9', '♣'),\n",
       " ('5', '♣'),\n",
       " ('9', '♥'),\n",
       " ('K', '♣'),\n",
       " ('3', '♠'),\n",
       " ('6', '♣'),\n",
       " ('Q', '♣'),\n",
       " ('4', '♠'),\n",
       " ('2', '♠'),\n",
       " ('7', '♦'),\n",
       " ('4', '♥'),\n",
       " ('A', '♥'),\n",
       " ('2', '♦'),\n",
       " ('2', '♣'),\n",
       " ('J', '♣'),\n",
       " ('8', '♣'),\n",
       " ('J', '♥'),\n",
       " ('4', '♣'),\n",
       " ('9', '♦'),\n",
       " ('Q', '♠'),\n",
       " ('K', '♦'),\n",
       " ('K', '♥'),\n",
       " ('3', '♣'),\n",
       " ('Q', '♥')]"
      ]
     },
     "execution_count": 16,
     "metadata": {},
     "output_type": "execute_result"
    }
   ],
   "source": [
    "baraja"
   ]
  },
  {
   "cell_type": "code",
   "execution_count": 17,
   "id": "possible-sociology",
   "metadata": {},
   "outputs": [],
   "source": [
    "def baraja():\n",
    "    suits = [\"♠\", \"♥\", \"♦\", \"♣\"]\n",
    "    ranks = [ str(i) for i in range(2,11)] + ['J', 'Q', 'K', 'A']\n",
    "    baraja = [(number, suit) for suit, number in zip(suits*len(ranks), ranks*len(suits))]\n",
    "    random.shuffle(baraja)\n",
    "    \n",
    "    while (baraja):\n",
    "        yield baraja.pop()"
   ]
  },
  {
   "cell_type": "code",
   "execution_count": 18,
   "id": "hungarian-jackson",
   "metadata": {},
   "outputs": [],
   "source": [
    "deal = baraja()"
   ]
  },
  {
   "cell_type": "code",
   "execution_count": 21,
   "id": "infectious-edward",
   "metadata": {},
   "outputs": [
    {
     "data": {
      "text/plain": [
       "[('Q', '♣'), ('3', '♠'), ('8', '♥'), ('5', '♣')]"
      ]
     },
     "execution_count": 21,
     "metadata": {},
     "output_type": "execute_result"
    }
   ],
   "source": [
    "[next(deal) for i in range(4)]"
   ]
  },
  {
   "cell_type": "code",
   "execution_count": 13,
   "id": "genuine-sequence",
   "metadata": {},
   "outputs": [],
   "source": [
    "def fibonacci(n):\n",
    "    fib1, fib2 = 0, 1\n",
    "    for i in range(n):\n",
    "        \n",
    "        yield fib1\n",
    "        fib1, fib2 = fib2, fib1 + fib2"
   ]
  },
  {
   "cell_type": "code",
   "execution_count": 14,
   "id": "divine-branch",
   "metadata": {},
   "outputs": [
    {
     "name": "stdout",
     "output_type": "stream",
     "text": [
      "[0, 1, 1, 2, 3, 5, 8, 13, 21, 34, 55, 89, 144, 233, 377, 610, 987, 1597, 2584, 4181]\n"
     ]
    }
   ],
   "source": [
    "print([i for i in fibonacci(20)])"
   ]
  },
  {
   "cell_type": "code",
   "execution_count": null,
   "id": "confirmed-action",
   "metadata": {},
   "outputs": [],
   "source": []
  }
 ],
 "metadata": {
  "kernelspec": {
   "display_name": "Ironhack",
   "language": "python",
   "name": "ironhack"
  },
  "language_info": {
   "codemirror_mode": {
    "name": "ipython",
    "version": 3
   },
   "file_extension": ".py",
   "mimetype": "text/x-python",
   "name": "python",
   "nbconvert_exporter": "python",
   "pygments_lexer": "ipython3",
   "version": "3.7.5"
  },
  "toc": {
   "base_numbering": 1,
   "nav_menu": {},
   "number_sections": true,
   "sideBar": true,
   "skip_h1_title": false,
   "title_cell": "Table of Contents",
   "title_sidebar": "Contents",
   "toc_cell": true,
   "toc_position": {},
   "toc_section_display": true,
   "toc_window_display": false
  },
  "varInspector": {
   "cols": {
    "lenName": 16,
    "lenType": 16,
    "lenVar": 40
   },
   "kernels_config": {
    "python": {
     "delete_cmd_postfix": "",
     "delete_cmd_prefix": "del ",
     "library": "var_list.py",
     "varRefreshCmd": "print(var_dic_list())"
    },
    "r": {
     "delete_cmd_postfix": ") ",
     "delete_cmd_prefix": "rm(",
     "library": "var_list.r",
     "varRefreshCmd": "cat(var_dic_list()) "
    }
   },
   "types_to_exclude": [
    "module",
    "function",
    "builtin_function_or_method",
    "instance",
    "_Feature"
   ],
   "window_display": false
  }
 },
 "nbformat": 4,
 "nbformat_minor": 5
}
